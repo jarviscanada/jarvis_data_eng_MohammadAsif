{
 "cells": [
  {
   "cell_type": "markdown",
   "metadata": {
    "application/vnd.databricks.v1+cell": {
     "cellMetadata": {},
     "inputWidgets": {},
     "nuid": "96816ed7-b08a-4ca3-abb9-f99880c3535d",
     "showTitle": false,
     "tableResultSettingsMap": {},
     "title": ""
    }
   },
   "source": [
    "\n",
    "## Overview\n",
    "\n",
    "This notebook will show you how to create and query a table or DataFrame that you uploaded to DBFS. [DBFS](https://docs.databricks.com/user-guide/dbfs-databricks-file-system.html) is a Databricks File System that allows you to store data for querying inside of Databricks. This notebook assumes that you have a file already inside of DBFS that you would like to read from.\n",
    "\n",
    "This notebook is written in **Python** so the default cell type is Python. However, you can use different languages by using the `%LANGUAGE` syntax. Python, Scala, SQL, and R are all supported."
   ]
  },
  {
   "cell_type": "code",
   "execution_count": 0,
   "metadata": {
    "application/vnd.databricks.v1+cell": {
     "cellMetadata": {
      "byteLimit": 2048000,
      "rowLimit": 10000
     },
     "inputWidgets": {},
     "nuid": "6482be4c-f067-47c9-b0ac-35c938b94601",
     "showTitle": false,
     "tableResultSettingsMap": {},
     "title": ""
    }
   },
   "outputs": [
    {
     "output_type": "display_data",
     "data": {
      "text/html": [
       "<style scoped>\n",
       "  .table-result-container {\n",
       "    max-height: 300px;\n",
       "    overflow: auto;\n",
       "  }\n",
       "  table, th, td {\n",
       "    border: 1px solid black;\n",
       "    border-collapse: collapse;\n",
       "  }\n",
       "  th, td {\n",
       "    padding: 5px;\n",
       "  }\n",
       "  th {\n",
       "    text-align: left;\n",
       "  }\n",
       "</style><div class='table-result-container'><table class='table-result'><thead style='background-color: white'><tr><th>memid</th><th>surname</th><th>firstname</th><th>address</th><th>zipcode</th><th>telephone</th><th>recommendedby</th><th>joindate</th></tr></thead><tbody><tr><td>0</td><td>GUEST</td><td>GUEST</td><td>GUEST</td><td>0</td><td>(000) 000-0000</td><td>null</td><td>2012-07-01T00:00:00.000+0000</td></tr><tr><td>1</td><td>Smith</td><td>Darren</td><td>8 Bloomsbury Close, Boston</td><td>4321</td><td>555-555-5555</td><td>null</td><td>2012-07-02T12:02:05.000+0000</td></tr><tr><td>2</td><td>Smith</td><td>Tracy</td><td>8 Bloomsbury Close, New York</td><td>4321</td><td>555-555-5555</td><td>null</td><td>2012-07-02T12:08:23.000+0000</td></tr><tr><td>3</td><td>Rownam</td><td>Tim</td><td>23 Highway Way, Boston</td><td>23423</td><td>(844) 693-0723</td><td>null</td><td>2012-07-03T09:32:15.000+0000</td></tr><tr><td>4</td><td>Joplette</td><td>Janice</td><td>20 Crossing Road, New York</td><td>234</td><td>(833) 942-4710</td><td>1</td><td>2012-07-03T10:25:05.000+0000</td></tr><tr><td>5</td><td>Butters</td><td>Gerald</td><td>1065 Huntingdon Avenue, Boston</td><td>56754</td><td>(844) 078-4130</td><td>1</td><td>2012-07-09T10:44:09.000+0000</td></tr><tr><td>6</td><td>Tracy</td><td>Burton</td><td>3 Tunisia Drive, Boston</td><td>45678</td><td>(822) 354-9973</td><td>null</td><td>2012-07-15T08:52:55.000+0000</td></tr><tr><td>7</td><td>Dare</td><td>Nancy</td><td>6 Hunting Lodge Way, Boston</td><td>10383</td><td>(833) 776-4001</td><td>4</td><td>2012-07-25T08:59:12.000+0000</td></tr><tr><td>8</td><td>Boothe</td><td>Tim</td><td>3 Bloomsbury Close, Reading, 00234</td><td>234</td><td>(811) 433-2547</td><td>3</td><td>2012-07-25T16:02:35.000+0000</td></tr><tr><td>9</td><td>Stibbons</td><td>Ponder</td><td>5 Dragons Way, Winchester</td><td>87630</td><td>(833) 160-3900</td><td>6</td><td>2012-07-25T17:09:05.000+0000</td></tr><tr><td>10</td><td>Owen</td><td>Charles</td><td>52 Cheshire Grove, Winchester, 28563</td><td>28563</td><td>(855) 542-5251</td><td>1</td><td>2012-08-03T19:42:37.000+0000</td></tr><tr><td>11</td><td>Jones</td><td>David</td><td>976 Gnats Close, Reading</td><td>33862</td><td>(844) 536-8036</td><td>4</td><td>2012-08-06T16:32:55.000+0000</td></tr><tr><td>12</td><td>Baker</td><td>Anne</td><td>55 Powdery Street, Boston</td><td>80743</td><td>844-076-5141</td><td>9</td><td>2012-08-10T14:23:22.000+0000</td></tr><tr><td>13</td><td>Farrell</td><td>Jemima</td><td>103 Firth Avenue, North Reading</td><td>57392</td><td>(855) 016-0163</td><td>null</td><td>2012-08-10T14:28:01.000+0000</td></tr><tr><td>14</td><td>Smith</td><td>Jack</td><td>252 Binkington Way, Boston</td><td>69302</td><td>(822) 163-3254</td><td>1</td><td>2012-08-10T16:22:05.000+0000</td></tr><tr><td>15</td><td>Bader</td><td>Florence</td><td>264 Ursula Drive, Westford</td><td>84923</td><td>(833) 499-3527</td><td>9</td><td>2012-08-10T17:52:03.000+0000</td></tr><tr><td>16</td><td>Baker</td><td>Timothy</td><td>329 James Street, Reading</td><td>58393</td><td>833-941-0824</td><td>13</td><td>2012-08-15T10:34:25.000+0000</td></tr><tr><td>17</td><td>Pinker</td><td>David</td><td>5 Impreza Road, Boston</td><td>65332</td><td>811 409-6734</td><td>13</td><td>2012-08-16T11:32:47.000+0000</td></tr><tr><td>20</td><td>Genting</td><td>Matthew</td><td>4 Nunnington Place, Wingfield, Boston</td><td>52365</td><td>(811) 972-1377</td><td>5</td><td>2012-08-19T14:55:55.000+0000</td></tr><tr><td>21</td><td>Mackenzie</td><td>Anna</td><td>64 Perkington Lane, Reading</td><td>64577</td><td>(822) 661-2898</td><td>1</td><td>2012-08-26T09:32:05.000+0000</td></tr><tr><td>22</td><td>Coplin</td><td>Joan</td><td>85 Bard Street, Bloomington, Boston</td><td>43533</td><td>(822) 499-2232</td><td>16</td><td>2012-08-29T08:32:41.000+0000</td></tr><tr><td>24</td><td>Sarwin</td><td>Ramnaresh</td><td>12 Bullington Lane, Boston</td><td>65464</td><td>(822) 413-1470</td><td>15</td><td>2012-09-01T08:44:42.000+0000</td></tr><tr><td>26</td><td>Jones</td><td>Douglas</td><td>976 Gnats Close, Reading</td><td>11986</td><td>844 536-8036</td><td>11</td><td>2012-09-02T18:43:05.000+0000</td></tr><tr><td>27</td><td>Rumney</td><td>Henrietta</td><td>3 Burkington Plaza, Boston</td><td>78533</td><td>(822) 989-8876</td><td>20</td><td>2012-09-05T08:42:35.000+0000</td></tr><tr><td>28</td><td>Farrell</td><td>David</td><td>437 Granite Farm Road, Westford</td><td>43532</td><td>(855) 755-9876</td><td>null</td><td>2012-09-15T08:22:05.000+0000</td></tr><tr><td>29</td><td>Worthington-Smyth</td><td>Henry</td><td>55 Jagbi Way, North Reading</td><td>97676</td><td>(855) 894-3758</td><td>2</td><td>2012-09-17T12:27:15.000+0000</td></tr><tr><td>30</td><td>Purview</td><td>Millicent</td><td>641 Drudgery Close, Burnington, Boston</td><td>34232</td><td>(855) 941-9786</td><td>2</td><td>2012-09-18T19:04:01.000+0000</td></tr><tr><td>33</td><td>Tupperware</td><td>Hyacinth</td><td>33 Cheerful Plaza, Drake Road, Westford</td><td>68666</td><td>(822) 665-5327</td><td>null</td><td>2012-09-18T19:32:05.000+0000</td></tr><tr><td>35</td><td>Hunt</td><td>John</td><td>5 Bullington Lane, Boston</td><td>54333</td><td>(899) 720-6978</td><td>30</td><td>2012-09-19T11:32:45.000+0000</td></tr><tr><td>36</td><td>Crumpet</td><td>Erica</td><td>Crimson Road, North Reading</td><td>75655</td><td>(811) 732-4816</td><td>2</td><td>2012-09-22T08:36:38.000+0000</td></tr><tr><td>37</td><td>Smith</td><td>Darren</td><td>3 Funktown, Denzington, Boston</td><td>66796</td><td>(822) 577-3541</td><td>null</td><td>2012-09-26T18:08:45.000+0000</td></tr></tbody></table></div>"
      ]
     },
     "metadata": {
      "application/vnd.databricks.v1+output": {
       "addedWidgets": {},
       "aggData": [],
       "aggError": "",
       "aggOverflow": false,
       "aggSchema": [],
       "aggSeriesLimitReached": false,
       "aggType": "",
       "arguments": {},
       "columnCustomDisplayInfos": {},
       "data": [
        [
         0,
         "GUEST",
         "GUEST",
         "GUEST",
         0,
         "(000) 000-0000",
         null,
         "2012-07-01T00:00:00.000+0000"
        ],
        [
         1,
         "Smith",
         "Darren",
         "8 Bloomsbury Close, Boston",
         4321,
         "555-555-5555",
         null,
         "2012-07-02T12:02:05.000+0000"
        ],
        [
         2,
         "Smith",
         "Tracy",
         "8 Bloomsbury Close, New York",
         4321,
         "555-555-5555",
         null,
         "2012-07-02T12:08:23.000+0000"
        ],
        [
         3,
         "Rownam",
         "Tim",
         "23 Highway Way, Boston",
         23423,
         "(844) 693-0723",
         null,
         "2012-07-03T09:32:15.000+0000"
        ],
        [
         4,
         "Joplette",
         "Janice",
         "20 Crossing Road, New York",
         234,
         "(833) 942-4710",
         1,
         "2012-07-03T10:25:05.000+0000"
        ],
        [
         5,
         "Butters",
         "Gerald",
         "1065 Huntingdon Avenue, Boston",
         56754,
         "(844) 078-4130",
         1,
         "2012-07-09T10:44:09.000+0000"
        ],
        [
         6,
         "Tracy",
         "Burton",
         "3 Tunisia Drive, Boston",
         45678,
         "(822) 354-9973",
         null,
         "2012-07-15T08:52:55.000+0000"
        ],
        [
         7,
         "Dare",
         "Nancy",
         "6 Hunting Lodge Way, Boston",
         10383,
         "(833) 776-4001",
         4,
         "2012-07-25T08:59:12.000+0000"
        ],
        [
         8,
         "Boothe",
         "Tim",
         "3 Bloomsbury Close, Reading, 00234",
         234,
         "(811) 433-2547",
         3,
         "2012-07-25T16:02:35.000+0000"
        ],
        [
         9,
         "Stibbons",
         "Ponder",
         "5 Dragons Way, Winchester",
         87630,
         "(833) 160-3900",
         6,
         "2012-07-25T17:09:05.000+0000"
        ],
        [
         10,
         "Owen",
         "Charles",
         "52 Cheshire Grove, Winchester, 28563",
         28563,
         "(855) 542-5251",
         1,
         "2012-08-03T19:42:37.000+0000"
        ],
        [
         11,
         "Jones",
         "David",
         "976 Gnats Close, Reading",
         33862,
         "(844) 536-8036",
         4,
         "2012-08-06T16:32:55.000+0000"
        ],
        [
         12,
         "Baker",
         "Anne",
         "55 Powdery Street, Boston",
         80743,
         "844-076-5141",
         9,
         "2012-08-10T14:23:22.000+0000"
        ],
        [
         13,
         "Farrell",
         "Jemima",
         "103 Firth Avenue, North Reading",
         57392,
         "(855) 016-0163",
         null,
         "2012-08-10T14:28:01.000+0000"
        ],
        [
         14,
         "Smith",
         "Jack",
         "252 Binkington Way, Boston",
         69302,
         "(822) 163-3254",
         1,
         "2012-08-10T16:22:05.000+0000"
        ],
        [
         15,
         "Bader",
         "Florence",
         "264 Ursula Drive, Westford",
         84923,
         "(833) 499-3527",
         9,
         "2012-08-10T17:52:03.000+0000"
        ],
        [
         16,
         "Baker",
         "Timothy",
         "329 James Street, Reading",
         58393,
         "833-941-0824",
         13,
         "2012-08-15T10:34:25.000+0000"
        ],
        [
         17,
         "Pinker",
         "David",
         "5 Impreza Road, Boston",
         65332,
         "811 409-6734",
         13,
         "2012-08-16T11:32:47.000+0000"
        ],
        [
         20,
         "Genting",
         "Matthew",
         "4 Nunnington Place, Wingfield, Boston",
         52365,
         "(811) 972-1377",
         5,
         "2012-08-19T14:55:55.000+0000"
        ],
        [
         21,
         "Mackenzie",
         "Anna",
         "64 Perkington Lane, Reading",
         64577,
         "(822) 661-2898",
         1,
         "2012-08-26T09:32:05.000+0000"
        ],
        [
         22,
         "Coplin",
         "Joan",
         "85 Bard Street, Bloomington, Boston",
         43533,
         "(822) 499-2232",
         16,
         "2012-08-29T08:32:41.000+0000"
        ],
        [
         24,
         "Sarwin",
         "Ramnaresh",
         "12 Bullington Lane, Boston",
         65464,
         "(822) 413-1470",
         15,
         "2012-09-01T08:44:42.000+0000"
        ],
        [
         26,
         "Jones",
         "Douglas",
         "976 Gnats Close, Reading",
         11986,
         "844 536-8036",
         11,
         "2012-09-02T18:43:05.000+0000"
        ],
        [
         27,
         "Rumney",
         "Henrietta",
         "3 Burkington Plaza, Boston",
         78533,
         "(822) 989-8876",
         20,
         "2012-09-05T08:42:35.000+0000"
        ],
        [
         28,
         "Farrell",
         "David",
         "437 Granite Farm Road, Westford",
         43532,
         "(855) 755-9876",
         null,
         "2012-09-15T08:22:05.000+0000"
        ],
        [
         29,
         "Worthington-Smyth",
         "Henry",
         "55 Jagbi Way, North Reading",
         97676,
         "(855) 894-3758",
         2,
         "2012-09-17T12:27:15.000+0000"
        ],
        [
         30,
         "Purview",
         "Millicent",
         "641 Drudgery Close, Burnington, Boston",
         34232,
         "(855) 941-9786",
         2,
         "2012-09-18T19:04:01.000+0000"
        ],
        [
         33,
         "Tupperware",
         "Hyacinth",
         "33 Cheerful Plaza, Drake Road, Westford",
         68666,
         "(822) 665-5327",
         null,
         "2012-09-18T19:32:05.000+0000"
        ],
        [
         35,
         "Hunt",
         "John",
         "5 Bullington Lane, Boston",
         54333,
         "(899) 720-6978",
         30,
         "2012-09-19T11:32:45.000+0000"
        ],
        [
         36,
         "Crumpet",
         "Erica",
         "Crimson Road, North Reading",
         75655,
         "(811) 732-4816",
         2,
         "2012-09-22T08:36:38.000+0000"
        ],
        [
         37,
         "Smith",
         "Darren",
         "3 Funktown, Denzington, Boston",
         66796,
         "(822) 577-3541",
         null,
         "2012-09-26T18:08:45.000+0000"
        ]
       ],
       "datasetInfos": [],
       "dbfsResultPath": null,
       "isJsonSchema": true,
       "metadata": {},
       "overflow": false,
       "plotOptions": {
        "customPlotOptions": {},
        "displayType": "table",
        "pivotAggregation": null,
        "pivotColumns": null,
        "xColumns": null,
        "yColumns": null
       },
       "removedWidgets": [],
       "schema": [
        {
         "metadata": "{}",
         "name": "memid",
         "type": "\"integer\""
        },
        {
         "metadata": "{}",
         "name": "surname",
         "type": "\"string\""
        },
        {
         "metadata": "{}",
         "name": "firstname",
         "type": "\"string\""
        },
        {
         "metadata": "{}",
         "name": "address",
         "type": "\"string\""
        },
        {
         "metadata": "{}",
         "name": "zipcode",
         "type": "\"integer\""
        },
        {
         "metadata": "{}",
         "name": "telephone",
         "type": "\"string\""
        },
        {
         "metadata": "{}",
         "name": "recommendedby",
         "type": "\"integer\""
        },
        {
         "metadata": "{}",
         "name": "joindate",
         "type": "\"timestamp\""
        }
       ],
       "type": "table"
      }
     },
     "output_type": "display_data"
    }
   ],
   "source": [
    "# File location and type\n",
    "file_location = \"/FileStore/tables/members.csv\"\n",
    "file_type = \"csv\"\n",
    "\n",
    "# CSV options\n",
    "infer_schema = \"true\"\n",
    "first_row_is_header = \"true\"\n",
    "delimiter = \",\"\n",
    "\n",
    "# The applied options are for CSV files. For other file types, these will be ignored.\n",
    "df = spark.read.format(file_type) \\\n",
    "  .option(\"inferSchema\", infer_schema) \\\n",
    "  .option(\"header\", first_row_is_header) \\\n",
    "  .option(\"sep\", delimiter) \\\n",
    "  .load(file_location)\n",
    "\n",
    "display(df)"
   ]
  },
  {
   "cell_type": "code",
   "execution_count": 0,
   "metadata": {
    "application/vnd.databricks.v1+cell": {
     "cellMetadata": {
      "byteLimit": 2048000,
      "rowLimit": 10000
     },
     "inputWidgets": {},
     "nuid": "bd82bb99-1479-4d5c-be10-8c36df0f1d44",
     "showTitle": false,
     "tableResultSettingsMap": {},
     "title": ""
    }
   },
   "outputs": [],
   "source": [
    "# Create a view or table\n",
    "\n",
    "temp_table_name = \"members\"\n",
    "\n",
    "df.createOrReplaceTempView(temp_table_name)"
   ]
  },
  {
   "cell_type": "code",
   "execution_count": 0,
   "metadata": {
    "application/vnd.databricks.v1+cell": {
     "cellMetadata": {
      "byteLimit": 2048000,
      "implicitDf": true,
      "rowLimit": 10000
     },
     "inputWidgets": {},
     "nuid": "b5f66379-6f7f-42ec-8e82-d0e0926a1721",
     "showTitle": false,
     "tableResultSettingsMap": {},
     "title": ""
    }
   },
   "outputs": [
    {
     "output_type": "display_data",
     "data": {
      "text/html": [
       "<style scoped>\n",
       "  .table-result-container {\n",
       "    max-height: 300px;\n",
       "    overflow: auto;\n",
       "  }\n",
       "  table, th, td {\n",
       "    border: 1px solid black;\n",
       "    border-collapse: collapse;\n",
       "  }\n",
       "  th, td {\n",
       "    padding: 5px;\n",
       "  }\n",
       "  th {\n",
       "    text-align: left;\n",
       "  }\n",
       "</style><div class='table-result-container'><table class='table-result'><thead style='background-color: white'><tr><th>memid</th><th>surname</th><th>firstname</th><th>address</th><th>zipcode</th><th>telephone</th><th>recommendedby</th><th>joindate</th></tr></thead><tbody><tr><td>0</td><td>GUEST</td><td>GUEST</td><td>GUEST</td><td>0</td><td>(000) 000-0000</td><td>null</td><td>2012-07-01T00:00:00.000+0000</td></tr><tr><td>1</td><td>Smith</td><td>Darren</td><td>8 Bloomsbury Close, Boston</td><td>4321</td><td>555-555-5555</td><td>null</td><td>2012-07-02T12:02:05.000+0000</td></tr><tr><td>2</td><td>Smith</td><td>Tracy</td><td>8 Bloomsbury Close, New York</td><td>4321</td><td>555-555-5555</td><td>null</td><td>2012-07-02T12:08:23.000+0000</td></tr><tr><td>3</td><td>Rownam</td><td>Tim</td><td>23 Highway Way, Boston</td><td>23423</td><td>(844) 693-0723</td><td>null</td><td>2012-07-03T09:32:15.000+0000</td></tr><tr><td>4</td><td>Joplette</td><td>Janice</td><td>20 Crossing Road, New York</td><td>234</td><td>(833) 942-4710</td><td>1</td><td>2012-07-03T10:25:05.000+0000</td></tr><tr><td>5</td><td>Butters</td><td>Gerald</td><td>1065 Huntingdon Avenue, Boston</td><td>56754</td><td>(844) 078-4130</td><td>1</td><td>2012-07-09T10:44:09.000+0000</td></tr><tr><td>6</td><td>Tracy</td><td>Burton</td><td>3 Tunisia Drive, Boston</td><td>45678</td><td>(822) 354-9973</td><td>null</td><td>2012-07-15T08:52:55.000+0000</td></tr><tr><td>7</td><td>Dare</td><td>Nancy</td><td>6 Hunting Lodge Way, Boston</td><td>10383</td><td>(833) 776-4001</td><td>4</td><td>2012-07-25T08:59:12.000+0000</td></tr><tr><td>8</td><td>Boothe</td><td>Tim</td><td>3 Bloomsbury Close, Reading, 00234</td><td>234</td><td>(811) 433-2547</td><td>3</td><td>2012-07-25T16:02:35.000+0000</td></tr><tr><td>9</td><td>Stibbons</td><td>Ponder</td><td>5 Dragons Way, Winchester</td><td>87630</td><td>(833) 160-3900</td><td>6</td><td>2012-07-25T17:09:05.000+0000</td></tr><tr><td>10</td><td>Owen</td><td>Charles</td><td>52 Cheshire Grove, Winchester, 28563</td><td>28563</td><td>(855) 542-5251</td><td>1</td><td>2012-08-03T19:42:37.000+0000</td></tr><tr><td>11</td><td>Jones</td><td>David</td><td>976 Gnats Close, Reading</td><td>33862</td><td>(844) 536-8036</td><td>4</td><td>2012-08-06T16:32:55.000+0000</td></tr><tr><td>12</td><td>Baker</td><td>Anne</td><td>55 Powdery Street, Boston</td><td>80743</td><td>844-076-5141</td><td>9</td><td>2012-08-10T14:23:22.000+0000</td></tr><tr><td>13</td><td>Farrell</td><td>Jemima</td><td>103 Firth Avenue, North Reading</td><td>57392</td><td>(855) 016-0163</td><td>null</td><td>2012-08-10T14:28:01.000+0000</td></tr><tr><td>14</td><td>Smith</td><td>Jack</td><td>252 Binkington Way, Boston</td><td>69302</td><td>(822) 163-3254</td><td>1</td><td>2012-08-10T16:22:05.000+0000</td></tr><tr><td>15</td><td>Bader</td><td>Florence</td><td>264 Ursula Drive, Westford</td><td>84923</td><td>(833) 499-3527</td><td>9</td><td>2012-08-10T17:52:03.000+0000</td></tr><tr><td>16</td><td>Baker</td><td>Timothy</td><td>329 James Street, Reading</td><td>58393</td><td>833-941-0824</td><td>13</td><td>2012-08-15T10:34:25.000+0000</td></tr><tr><td>17</td><td>Pinker</td><td>David</td><td>5 Impreza Road, Boston</td><td>65332</td><td>811 409-6734</td><td>13</td><td>2012-08-16T11:32:47.000+0000</td></tr><tr><td>20</td><td>Genting</td><td>Matthew</td><td>4 Nunnington Place, Wingfield, Boston</td><td>52365</td><td>(811) 972-1377</td><td>5</td><td>2012-08-19T14:55:55.000+0000</td></tr><tr><td>21</td><td>Mackenzie</td><td>Anna</td><td>64 Perkington Lane, Reading</td><td>64577</td><td>(822) 661-2898</td><td>1</td><td>2012-08-26T09:32:05.000+0000</td></tr><tr><td>22</td><td>Coplin</td><td>Joan</td><td>85 Bard Street, Bloomington, Boston</td><td>43533</td><td>(822) 499-2232</td><td>16</td><td>2012-08-29T08:32:41.000+0000</td></tr><tr><td>24</td><td>Sarwin</td><td>Ramnaresh</td><td>12 Bullington Lane, Boston</td><td>65464</td><td>(822) 413-1470</td><td>15</td><td>2012-09-01T08:44:42.000+0000</td></tr><tr><td>26</td><td>Jones</td><td>Douglas</td><td>976 Gnats Close, Reading</td><td>11986</td><td>844 536-8036</td><td>11</td><td>2012-09-02T18:43:05.000+0000</td></tr><tr><td>27</td><td>Rumney</td><td>Henrietta</td><td>3 Burkington Plaza, Boston</td><td>78533</td><td>(822) 989-8876</td><td>20</td><td>2012-09-05T08:42:35.000+0000</td></tr><tr><td>28</td><td>Farrell</td><td>David</td><td>437 Granite Farm Road, Westford</td><td>43532</td><td>(855) 755-9876</td><td>null</td><td>2012-09-15T08:22:05.000+0000</td></tr><tr><td>29</td><td>Worthington-Smyth</td><td>Henry</td><td>55 Jagbi Way, North Reading</td><td>97676</td><td>(855) 894-3758</td><td>2</td><td>2012-09-17T12:27:15.000+0000</td></tr><tr><td>30</td><td>Purview</td><td>Millicent</td><td>641 Drudgery Close, Burnington, Boston</td><td>34232</td><td>(855) 941-9786</td><td>2</td><td>2012-09-18T19:04:01.000+0000</td></tr><tr><td>33</td><td>Tupperware</td><td>Hyacinth</td><td>33 Cheerful Plaza, Drake Road, Westford</td><td>68666</td><td>(822) 665-5327</td><td>null</td><td>2012-09-18T19:32:05.000+0000</td></tr><tr><td>35</td><td>Hunt</td><td>John</td><td>5 Bullington Lane, Boston</td><td>54333</td><td>(899) 720-6978</td><td>30</td><td>2012-09-19T11:32:45.000+0000</td></tr><tr><td>36</td><td>Crumpet</td><td>Erica</td><td>Crimson Road, North Reading</td><td>75655</td><td>(811) 732-4816</td><td>2</td><td>2012-09-22T08:36:38.000+0000</td></tr><tr><td>37</td><td>Smith</td><td>Darren</td><td>3 Funktown, Denzington, Boston</td><td>66796</td><td>(822) 577-3541</td><td>null</td><td>2012-09-26T18:08:45.000+0000</td></tr></tbody></table></div>"
      ]
     },
     "metadata": {
      "application/vnd.databricks.v1+output": {
       "addedWidgets": {},
       "aggData": [],
       "aggError": "",
       "aggOverflow": false,
       "aggSchema": [],
       "aggSeriesLimitReached": false,
       "aggType": "",
       "arguments": {},
       "columnCustomDisplayInfos": {},
       "data": [
        [
         0,
         "GUEST",
         "GUEST",
         "GUEST",
         0,
         "(000) 000-0000",
         null,
         "2012-07-01T00:00:00.000+0000"
        ],
        [
         1,
         "Smith",
         "Darren",
         "8 Bloomsbury Close, Boston",
         4321,
         "555-555-5555",
         null,
         "2012-07-02T12:02:05.000+0000"
        ],
        [
         2,
         "Smith",
         "Tracy",
         "8 Bloomsbury Close, New York",
         4321,
         "555-555-5555",
         null,
         "2012-07-02T12:08:23.000+0000"
        ],
        [
         3,
         "Rownam",
         "Tim",
         "23 Highway Way, Boston",
         23423,
         "(844) 693-0723",
         null,
         "2012-07-03T09:32:15.000+0000"
        ],
        [
         4,
         "Joplette",
         "Janice",
         "20 Crossing Road, New York",
         234,
         "(833) 942-4710",
         1,
         "2012-07-03T10:25:05.000+0000"
        ],
        [
         5,
         "Butters",
         "Gerald",
         "1065 Huntingdon Avenue, Boston",
         56754,
         "(844) 078-4130",
         1,
         "2012-07-09T10:44:09.000+0000"
        ],
        [
         6,
         "Tracy",
         "Burton",
         "3 Tunisia Drive, Boston",
         45678,
         "(822) 354-9973",
         null,
         "2012-07-15T08:52:55.000+0000"
        ],
        [
         7,
         "Dare",
         "Nancy",
         "6 Hunting Lodge Way, Boston",
         10383,
         "(833) 776-4001",
         4,
         "2012-07-25T08:59:12.000+0000"
        ],
        [
         8,
         "Boothe",
         "Tim",
         "3 Bloomsbury Close, Reading, 00234",
         234,
         "(811) 433-2547",
         3,
         "2012-07-25T16:02:35.000+0000"
        ],
        [
         9,
         "Stibbons",
         "Ponder",
         "5 Dragons Way, Winchester",
         87630,
         "(833) 160-3900",
         6,
         "2012-07-25T17:09:05.000+0000"
        ],
        [
         10,
         "Owen",
         "Charles",
         "52 Cheshire Grove, Winchester, 28563",
         28563,
         "(855) 542-5251",
         1,
         "2012-08-03T19:42:37.000+0000"
        ],
        [
         11,
         "Jones",
         "David",
         "976 Gnats Close, Reading",
         33862,
         "(844) 536-8036",
         4,
         "2012-08-06T16:32:55.000+0000"
        ],
        [
         12,
         "Baker",
         "Anne",
         "55 Powdery Street, Boston",
         80743,
         "844-076-5141",
         9,
         "2012-08-10T14:23:22.000+0000"
        ],
        [
         13,
         "Farrell",
         "Jemima",
         "103 Firth Avenue, North Reading",
         57392,
         "(855) 016-0163",
         null,
         "2012-08-10T14:28:01.000+0000"
        ],
        [
         14,
         "Smith",
         "Jack",
         "252 Binkington Way, Boston",
         69302,
         "(822) 163-3254",
         1,
         "2012-08-10T16:22:05.000+0000"
        ],
        [
         15,
         "Bader",
         "Florence",
         "264 Ursula Drive, Westford",
         84923,
         "(833) 499-3527",
         9,
         "2012-08-10T17:52:03.000+0000"
        ],
        [
         16,
         "Baker",
         "Timothy",
         "329 James Street, Reading",
         58393,
         "833-941-0824",
         13,
         "2012-08-15T10:34:25.000+0000"
        ],
        [
         17,
         "Pinker",
         "David",
         "5 Impreza Road, Boston",
         65332,
         "811 409-6734",
         13,
         "2012-08-16T11:32:47.000+0000"
        ],
        [
         20,
         "Genting",
         "Matthew",
         "4 Nunnington Place, Wingfield, Boston",
         52365,
         "(811) 972-1377",
         5,
         "2012-08-19T14:55:55.000+0000"
        ],
        [
         21,
         "Mackenzie",
         "Anna",
         "64 Perkington Lane, Reading",
         64577,
         "(822) 661-2898",
         1,
         "2012-08-26T09:32:05.000+0000"
        ],
        [
         22,
         "Coplin",
         "Joan",
         "85 Bard Street, Bloomington, Boston",
         43533,
         "(822) 499-2232",
         16,
         "2012-08-29T08:32:41.000+0000"
        ],
        [
         24,
         "Sarwin",
         "Ramnaresh",
         "12 Bullington Lane, Boston",
         65464,
         "(822) 413-1470",
         15,
         "2012-09-01T08:44:42.000+0000"
        ],
        [
         26,
         "Jones",
         "Douglas",
         "976 Gnats Close, Reading",
         11986,
         "844 536-8036",
         11,
         "2012-09-02T18:43:05.000+0000"
        ],
        [
         27,
         "Rumney",
         "Henrietta",
         "3 Burkington Plaza, Boston",
         78533,
         "(822) 989-8876",
         20,
         "2012-09-05T08:42:35.000+0000"
        ],
        [
         28,
         "Farrell",
         "David",
         "437 Granite Farm Road, Westford",
         43532,
         "(855) 755-9876",
         null,
         "2012-09-15T08:22:05.000+0000"
        ],
        [
         29,
         "Worthington-Smyth",
         "Henry",
         "55 Jagbi Way, North Reading",
         97676,
         "(855) 894-3758",
         2,
         "2012-09-17T12:27:15.000+0000"
        ],
        [
         30,
         "Purview",
         "Millicent",
         "641 Drudgery Close, Burnington, Boston",
         34232,
         "(855) 941-9786",
         2,
         "2012-09-18T19:04:01.000+0000"
        ],
        [
         33,
         "Tupperware",
         "Hyacinth",
         "33 Cheerful Plaza, Drake Road, Westford",
         68666,
         "(822) 665-5327",
         null,
         "2012-09-18T19:32:05.000+0000"
        ],
        [
         35,
         "Hunt",
         "John",
         "5 Bullington Lane, Boston",
         54333,
         "(899) 720-6978",
         30,
         "2012-09-19T11:32:45.000+0000"
        ],
        [
         36,
         "Crumpet",
         "Erica",
         "Crimson Road, North Reading",
         75655,
         "(811) 732-4816",
         2,
         "2012-09-22T08:36:38.000+0000"
        ],
        [
         37,
         "Smith",
         "Darren",
         "3 Funktown, Denzington, Boston",
         66796,
         "(822) 577-3541",
         null,
         "2012-09-26T18:08:45.000+0000"
        ]
       ],
       "datasetInfos": [],
       "dbfsResultPath": null,
       "isJsonSchema": true,
       "metadata": {},
       "overflow": false,
       "plotOptions": {
        "customPlotOptions": {},
        "displayType": "table",
        "pivotAggregation": null,
        "pivotColumns": null,
        "xColumns": null,
        "yColumns": null
       },
       "removedWidgets": [],
       "schema": [
        {
         "metadata": "{}",
         "name": "memid",
         "type": "\"integer\""
        },
        {
         "metadata": "{}",
         "name": "surname",
         "type": "\"string\""
        },
        {
         "metadata": "{}",
         "name": "firstname",
         "type": "\"string\""
        },
        {
         "metadata": "{}",
         "name": "address",
         "type": "\"string\""
        },
        {
         "metadata": "{}",
         "name": "zipcode",
         "type": "\"integer\""
        },
        {
         "metadata": "{}",
         "name": "telephone",
         "type": "\"string\""
        },
        {
         "metadata": "{}",
         "name": "recommendedby",
         "type": "\"integer\""
        },
        {
         "metadata": "{}",
         "name": "joindate",
         "type": "\"timestamp\""
        }
       ],
       "type": "table"
      }
     },
     "output_type": "display_data"
    }
   ],
   "source": [
    "%sql\n",
    "\n",
    "/* Query the created temp table in a SQL cell */\n",
    "\n",
    "select * from members;"
   ]
  },
  {
   "cell_type": "code",
   "execution_count": 0,
   "metadata": {
    "application/vnd.databricks.v1+cell": {
     "cellMetadata": {
      "byteLimit": 2048000,
      "rowLimit": 10000
     },
     "inputWidgets": {},
     "nuid": "db9631f6-bb4a-42ca-8a3c-0d48af932331",
     "showTitle": false,
     "tableResultSettingsMap": {},
     "title": ""
    }
   },
   "outputs": [],
   "source": [
    "# With this registered as a temp view, it will only be available to this particular notebook. If you'd like other users to be able to query this table, you can also create a table from the DataFrame.\n",
    "# Once saved, this table will persist across cluster restarts as well as allow various users across different notebooks to query this data.\n",
    "# To do so, choose your table name and uncomment the bottom line.\n",
    "\n",
    "permanent_table_name = \"members_final\"\n",
    "\n",
    "df.write.format(\"parquet\").saveAsTable(permanent_table_name)"
   ]
  }
 ],
 "metadata": {
  "application/vnd.databricks.v1+notebook": {
   "computePreferences": null,
   "dashboards": [],
   "environmentMetadata": null,
   "language": "python",
   "notebookMetadata": {
    "mostRecentlyExecutedCommandWithImplicitDF": {
     "commandId": 2345654157761263,
     "dataframes": [
      "_sqldf"
     ]
    },
    "pythonIndentUnit": 4
   },
   "notebookName": "Notebook1_SparkExercises",
   "widgets": {}
  }
 },
 "nbformat": 4,
 "nbformat_minor": 0
}
