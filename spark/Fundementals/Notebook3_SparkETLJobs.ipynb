{
 "cells": [
  {
   "cell_type": "markdown",
   "metadata": {
    "application/vnd.databricks.v1+cell": {
     "cellMetadata": {},
     "inputWidgets": {},
     "nuid": "d192a851-73a8-4603-aeac-884a80d9b3e7",
     "showTitle": false,
     "tableResultSettingsMap": {},
     "title": ""
    }
   },
   "source": [
    "\n",
    "## Imports"
   ]
  },
  {
   "cell_type": "code",
   "execution_count": 0,
   "metadata": {
    "application/vnd.databricks.v1+cell": {
     "cellMetadata": {
      "byteLimit": 2048000,
      "rowLimit": 10000
     },
     "inputWidgets": {},
     "nuid": "bfde64e4-33c3-4795-a589-813fe679ab08",
     "showTitle": false,
     "tableResultSettingsMap": {},
     "title": ""
    }
   },
   "outputs": [],
   "source": [
    "import tempfile\n",
    "import requests\n",
    "import os\n",
    "from pyspark.sql import functions as F\n",
    "from pyspark.sql.functions import concat_ws\n",
    "from pyspark.sql.functions import col, max, weekofyear, year\n",
    "from datetime import datetime, timedelta"
   ]
  },
  {
   "cell_type": "markdown",
   "metadata": {
    "application/vnd.databricks.v1+cell": {
     "cellMetadata": {},
     "inputWidgets": {},
     "nuid": "8792ad1d-eb98-45b5-b5d8-028a50507827",
     "showTitle": false,
     "tableResultSettingsMap": {},
     "title": ""
    }
   },
   "source": [
    "\n",
    "## Data Preparation "
   ]
  },
  {
   "cell_type": "code",
   "execution_count": 0,
   "metadata": {
    "application/vnd.databricks.v1+cell": {
     "cellMetadata": {
      "byteLimit": 2048000,
      "rowLimit": 10000
     },
     "inputWidgets": {},
     "nuid": "6f84694f-e63f-43cf-b878-dcabaac091e9",
     "showTitle": false,
     "tableResultSettingsMap": {},
     "title": ""
    }
   },
   "outputs": [],
   "source": [
    "# File location and type\n",
    "f1_location = \"/FileStore/tables/members.csv\"\n",
    "f2_location = \"/FileStore/tables/bookings.csv\"\n",
    "f3_location = \"/FileStore/tables/facilities.csv\"\n",
    "file_type = \"csv\"\n",
    "\n",
    "# CSV options\n",
    "infer_schema = \"true\"\n",
    "first_row_is_header = \"true\"\n",
    "delimiter = \",\"\n",
    "\n",
    "# The applied options are for CSV files. For other file types, these will be ignored.\n",
    "members_df = spark.read.format(file_type) \\\n",
    "  .option(\"inferSchema\", infer_schema) \\\n",
    "  .option(\"header\", first_row_is_header) \\\n",
    "  .option(\"sep\", delimiter) \\\n",
    "  .load(f1_location)\n",
    "\n",
    "bookings_df = spark.read.format(file_type) \\\n",
    "  .option(\"inferSchema\", infer_schema) \\\n",
    "  .option(\"header\", first_row_is_header) \\\n",
    "  .option(\"sep\", delimiter) \\\n",
    "  .load(f2_location)\n",
    "\n",
    "facilities_df = spark.read.format(file_type) \\\n",
    "  .option(\"inferSchema\", infer_schema) \\\n",
    "  .option(\"header\", first_row_is_header) \\\n",
    "  .option(\"sep\", delimiter) \\\n",
    "  .load(f3_location)"
   ]
  },
  {
   "cell_type": "code",
   "execution_count": 0,
   "metadata": {
    "application/vnd.databricks.v1+cell": {
     "cellMetadata": {
      "byteLimit": 2048000,
      "rowLimit": 10000
     },
     "inputWidgets": {},
     "nuid": "e0e69c35-0136-4460-b54d-018aac9388fb",
     "showTitle": false,
     "tableResultSettingsMap": {},
     "title": ""
    }
   },
   "outputs": [],
   "source": [
    "# Create a view or table\n",
    "temp_bookings = \"bookings\"\n",
    "temp_members = \"members\"\n",
    "temp_facilities = \"facilities\"\n",
    "\n",
    "members_df.createOrReplaceTempView(temp_members)\n",
    "bookings_df.createOrReplaceTempView(temp_bookings)\n",
    "facilities_df.createOrReplaceTempView(temp_facilities)"
   ]
  },
  {
   "cell_type": "markdown",
   "metadata": {
    "application/vnd.databricks.v1+cell": {
     "cellMetadata": {},
     "inputWidgets": {},
     "nuid": "96816ed7-b08a-4ca3-abb9-f99880c3535d",
     "showTitle": false,
     "tableResultSettingsMap": {},
     "title": ""
    }
   },
   "source": [
    "\n",
    "## ETL Job One: Parquet file\n",
    "\n",
    "Extract\n",
    "Extract data from the managed tables (e.g. bookings_csv, members_csv, and facilities_csv)\n",
    "\n",
    "Transform\n",
    "Data transformation requirements https://pgexercises.com/questions/aggregates/fachoursbymonth.html\n",
    "\n",
    "Load\n",
    "Load data into a parquet file\n",
    "\n",
    "What is Parquet?\n",
    "Columnar files are an important technique for optimizing Spark queries. Additionally, they are often tested in interviews."
   ]
  },
  {
   "cell_type": "code",
   "execution_count": 0,
   "metadata": {
    "application/vnd.databricks.v1+cell": {
     "cellMetadata": {
      "byteLimit": 2048000,
      "rowLimit": 10000
     },
     "inputWidgets": {},
     "nuid": "6482be4c-f067-47c9-b0ac-35c938b94601",
     "showTitle": false,
     "tableResultSettingsMap": {},
     "title": ""
    }
   },
   "outputs": [],
   "source": [
    "b = bookings_df.alias(\"b\")\n",
    "\n",
    "etljob_1 = b.filter(F.col(\"b.facid\").isNotNull() & \n",
    "  F.col(\"b.starttime\").between('2012-09-01', '2012-10-01')) \\\n",
    "  .groupBy(\"b.facid\") \\\n",
    "  .agg(F.sum(\"b.slots\").alias(\"Total_Slots\")) \\\n",
    "  .orderBy(\"Total_Slots\")\n",
    "\n",
    "etljob_1.write.mode(\"overwrite\").parquet(\"/temp/etl_job1_parquet/\")"
   ]
  },
  {
   "cell_type": "code",
   "execution_count": 0,
   "metadata": {
    "application/vnd.databricks.v1+cell": {
     "cellMetadata": {
      "byteLimit": 2048000,
      "rowLimit": 10000
     },
     "inputWidgets": {},
     "nuid": "a2f0ce27-e9d2-43cc-a928-e4c82328ae4f",
     "showTitle": false,
     "tableResultSettingsMap": {},
     "title": ""
    }
   },
   "outputs": [
    {
     "output_type": "display_data",
     "data": {
      "text/html": [
       "<style scoped>\n",
       "  .table-result-container {\n",
       "    max-height: 300px;\n",
       "    overflow: auto;\n",
       "  }\n",
       "  table, th, td {\n",
       "    border: 1px solid black;\n",
       "    border-collapse: collapse;\n",
       "  }\n",
       "  th, td {\n",
       "    padding: 5px;\n",
       "  }\n",
       "  th {\n",
       "    text-align: left;\n",
       "  }\n",
       "</style><div class='table-result-container'><table class='table-result'><thead style='background-color: white'><tr><th>facid</th><th>Total_Slots</th></tr></thead><tbody><tr><td>5</td><td>122</td></tr><tr><td>3</td><td>422</td></tr><tr><td>7</td><td>426</td></tr><tr><td>8</td><td>471</td></tr><tr><td>6</td><td>540</td></tr><tr><td>2</td><td>570</td></tr><tr><td>1</td><td>588</td></tr><tr><td>0</td><td>591</td></tr><tr><td>4</td><td>648</td></tr></tbody></table></div>"
      ]
     },
     "metadata": {
      "application/vnd.databricks.v1+output": {
       "addedWidgets": {},
       "aggData": [],
       "aggError": "",
       "aggOverflow": false,
       "aggSchema": [],
       "aggSeriesLimitReached": false,
       "aggType": "",
       "arguments": {},
       "columnCustomDisplayInfos": {},
       "data": [
        [
         5,
         122
        ],
        [
         3,
         422
        ],
        [
         7,
         426
        ],
        [
         8,
         471
        ],
        [
         6,
         540
        ],
        [
         2,
         570
        ],
        [
         1,
         588
        ],
        [
         0,
         591
        ],
        [
         4,
         648
        ]
       ],
       "datasetInfos": [],
       "dbfsResultPath": null,
       "isJsonSchema": true,
       "metadata": {},
       "overflow": false,
       "plotOptions": {
        "customPlotOptions": {},
        "displayType": "table",
        "pivotAggregation": null,
        "pivotColumns": null,
        "xColumns": null,
        "yColumns": null
       },
       "removedWidgets": [],
       "schema": [
        {
         "metadata": "{}",
         "name": "facid",
         "type": "\"integer\""
        },
        {
         "metadata": "{}",
         "name": "Total_Slots",
         "type": "\"long\""
        }
       ],
       "type": "table"
      }
     },
     "output_type": "display_data"
    }
   ],
   "source": [
    "data = spark.read.parquet(\"/temp/etl_job1_parquet/\")\n",
    "display(data)"
   ]
  },
  {
   "cell_type": "markdown",
   "metadata": {
    "application/vnd.databricks.v1+cell": {
     "cellMetadata": {},
     "inputWidgets": {},
     "nuid": "acf8cfdb-f0cc-4e35-9e62-3eee3bde266b",
     "showTitle": false,
     "tableResultSettingsMap": {},
     "title": ""
    }
   },
   "source": [
    "\n",
    "## ETL Job Two: Partitions\n",
    "\n",
    "Extract\n",
    "Extract data from the managed tables (e.g. bookings_csv, members_csv, and facilities_csv)\n",
    "\n",
    "Transform\n",
    "Transform the data https://pgexercises.com/questions/joins/threejoin.html\n",
    "\n",
    "Load\n",
    "Partition the result data by facility column and then save to threejoin_delta managed table. Additionally, they are often tested in interviews."
   ]
  },
  {
   "cell_type": "code",
   "execution_count": 0,
   "metadata": {
    "application/vnd.databricks.v1+cell": {
     "cellMetadata": {
      "byteLimit": 2048000,
      "rowLimit": 10000
     },
     "inputWidgets": {},
     "nuid": "76fd8a88-2b8f-4356-8bfa-2d59a3ae1f5c",
     "showTitle": false,
     "tableResultSettingsMap": {},
     "title": ""
    }
   },
   "outputs": [
    {
     "output_type": "stream",
     "name": "stdout",
     "output_type": "stream",
     "text": [
      "+-----------------+--------------+\n|member           |facility      |\n+-----------------+--------------+\n|Anne Baker       |Tennis Court 1|\n|Burton Tracy     |Tennis Court 1|\n|Charles Owen     |Tennis Court 1|\n|David Farrell    |Tennis Court 1|\n|David Jones      |Tennis Court 1|\n|David Pinker     |Tennis Court 1|\n|Douglas Jones    |Tennis Court 1|\n|Erica Crumpet    |Tennis Court 1|\n|Florence Bader   |Tennis Court 1|\n|GUEST GUEST      |Tennis Court 1|\n|Gerald Butters   |Tennis Court 1|\n|Jack Smith       |Tennis Court 1|\n|Janice Joplette  |Tennis Court 1|\n|Jemima Farrell   |Tennis Court 1|\n|Joan Coplin      |Tennis Court 1|\n|John Hunt        |Tennis Court 1|\n|Matthew Genting  |Tennis Court 1|\n|Nancy Dare       |Tennis Court 1|\n|Ponder Stibbons  |Tennis Court 1|\n|Ramnaresh Sarwin |Tennis Court 1|\n|Tim Boothe       |Tennis Court 1|\n|Tim Rownam       |Tennis Court 1|\n|Timothy Baker    |Tennis Court 1|\n|Tracy Smith      |Tennis Court 1|\n|Anne Baker       |Tennis Court 2|\n|Burton Tracy     |Tennis Court 2|\n|Charles Owen     |Tennis Court 2|\n|Darren Smith     |Tennis Court 2|\n|David Farrell    |Tennis Court 2|\n|David Jones      |Tennis Court 2|\n|Florence Bader   |Tennis Court 2|\n|GUEST GUEST      |Tennis Court 2|\n|Gerald Butters   |Tennis Court 2|\n|Henrietta Rumney |Tennis Court 2|\n|Jack Smith       |Tennis Court 2|\n|Janice Joplette  |Tennis Court 2|\n|Jemima Farrell   |Tennis Court 2|\n|John Hunt        |Tennis Court 2|\n|Millicent Purview|Tennis Court 2|\n|Nancy Dare       |Tennis Court 2|\n|Ponder Stibbons  |Tennis Court 2|\n|Ramnaresh Sarwin |Tennis Court 2|\n|Tim Boothe       |Tennis Court 2|\n|Tim Rownam       |Tennis Court 2|\n|Timothy Baker    |Tennis Court 2|\n|Tracy Smith      |Tennis Court 2|\n+-----------------+--------------+\n\n"
     ]
    }
   ],
   "source": [
    "# Transform the original sql query into a spark dataframe \n",
    "with tempfile.TemporaryDirectory() as d:\n",
    "    etljob_2 = members_df.join(bookings_df, members_df.memid == bookings_df.memid) \\\n",
    "        .join(facilities_df, bookings_df.facid == facilities_df.facid) \\\n",
    "        .filter(facilities_df.name.like(\"Tennis Court%\")) \\\n",
    "        .select(\n",
    "            concat_ws(\" \", members_df.firstname, members_df.surname).alias(\"member\"),\n",
    "            facilities_df.name.alias(\"facility\")\n",
    "        ) \\\n",
    "        .distinct() \\\n",
    "        .orderBy(\"member\", \"facility\") \n",
    "\n",
    "    # Write a etl job 2 into a Parquet file in a partitioned manner by facility.\n",
    "    etljob_2.write.partitionBy(\"facility\").mode(\"overwrite\").format(\"parquet\").save(d)\n",
    "\n",
    "    # Read the Parquet file as a DataFrame\n",
    "    spark.read.parquet(d).show(n=100, truncate=False)"
   ]
  },
  {
   "cell_type": "markdown",
   "metadata": {
    "application/vnd.databricks.v1+cell": {
     "cellMetadata": {},
     "inputWidgets": {},
     "nuid": "080c2399-0920-4e70-83fd-a3ad6803e890",
     "showTitle": false,
     "tableResultSettingsMap": {},
     "title": ""
    }
   },
   "source": [
    "\n",
    "## ETL Job Three: HTTP Requests\n",
    "\n",
    "Extract\n",
    "\n",
    "Extract daily stock price data price from the following companies, Google, Apple, Microsoft, and Tesla.\n",
    "\n",
    "Data Source\n",
    "\n",
    "API: https://rapidapi.com/alphavantage/api/alpha-vantage\n",
    "Endpoint: GET TIME_SERIES_DAILY"
   ]
  },
  {
   "cell_type": "code",
   "execution_count": 0,
   "metadata": {
    "application/vnd.databricks.v1+cell": {
     "cellMetadata": {
      "byteLimit": 2048000,
      "rowLimit": 10000
     },
     "inputWidgets": {},
     "nuid": "0f766725-7b34-407c-96c6-e564fb311dc0",
     "showTitle": false,
     "tableResultSettingsMap": {},
     "title": ""
    }
   },
   "outputs": [],
   "source": [
    "\n",
    "def get_stock_data(symbol):\n",
    "    url = \"https://alpha-vantage.p.rapidapi.com/query\"\n",
    "    querystring = {\n",
    "        \"function\": \"TIME_SERIES_DAILY\",\n",
    "        \"symbol\": symbol,\n",
    "        \"datatype\": \"json\",\n",
    "        \"outputsize\": \"compact\"\n",
    "    }\n",
    "    headers = {\n",
    "        \"X-RapidAPI-Host\": \"alpha-vantage.p.rapidapi.com\",\n",
    "        \"X-RapidAPI-Key\": \"1751967b0dmshc7a6c9c16b777b4p189a86jsn0acab2cd3173\"\n",
    "    }\n",
    "    \n",
    "    response = requests.get(url, headers=headers, params=querystring)\n",
    "    return response.json()"
   ]
  },
  {
   "cell_type": "code",
   "execution_count": 0,
   "metadata": {
    "application/vnd.databricks.v1+cell": {
     "cellMetadata": {
      "byteLimit": 2048000,
      "rowLimit": 10000
     },
     "inputWidgets": {},
     "nuid": "838ae557-4e0e-45ef-a8fc-f7c41525dd50",
     "showTitle": false,
     "tableResultSettingsMap": {},
     "title": ""
    }
   },
   "outputs": [],
   "source": [
    "symbols = [\"IBM\", \"AAPL\", \"MSFT\", \"TSLA\"]  # stocks\n",
    "# range\n",
    "end_date = datetime.today()\n",
    "start_date = end_date - timedelta(days=8)\n",
    "\n",
    "# Initialize an empty DataFrame\n",
    "final_df = None\n",
    "\n",
    "for symbol in symbols:\n",
    "    data = get_stock_data(symbol)\n",
    "    time_series = data.get(\"Time Series (Daily)\", {})\n",
    "\n",
    "    # Filter data within date range\n",
    "    filtered_data = [\n",
    "        {\"symbol\": symbol, \"date\": date, **values}\n",
    "        for date, values in time_series.items()\n",
    "        if start_date.strftime(\"%Y-%m-%d\") <= date <= end_date.strftime(\"%Y-%m-%d\")\n",
    "    ]\n",
    "\n",
    "    # Convert to Spark DataFrame\n",
    "    df = spark.createDataFrame(filtered_data)\n",
    "    df = df.withColumn(\"date\", col(\"date\").cast(\"date\"))\n",
    "    final_df = df if final_df is None else final_df.union(df)\n",
    "\n",
    "final_df = final_df.withColumn(\"year\", year(col(\"date\")))\n",
    "final_df = final_df.withColumn(\"week\", weekofyear(col(\"date\")))\n"
   ]
  },
  {
   "cell_type": "code",
   "execution_count": 0,
   "metadata": {
    "application/vnd.databricks.v1+cell": {
     "cellMetadata": {
      "byteLimit": 2048000,
      "rowLimit": 10000
     },
     "inputWidgets": {},
     "nuid": "200f4422-45cc-481b-b4fb-17f78971b4cb",
     "showTitle": false,
     "tableResultSettingsMap": {},
     "title": ""
    }
   },
   "outputs": [
    {
     "output_type": "stream",
     "name": "stdout",
     "output_type": "stream",
     "text": [
      "+------+----+----+---------------+\n|symbol|year|week|max_close_price|\n+------+----+----+---------------+\n|AAPL  |2025|10  |239.0700       |\n|AAPL  |2025|11  |227.4800       |\n|IBM   |2025|10  |261.5400       |\n|IBM   |2025|11  |256.9000       |\n|MSFT  |2025|10  |401.0200       |\n|MSFT  |2025|11  |383.2700       |\n|TSLA  |2025|10  |279.1000       |\n|TSLA  |2025|11  |248.0900       |\n+------+----+----+---------------+\n\n"
     ]
    }
   ],
   "source": [
    "max_closing_price_weekly = final_df.groupBy(\"symbol\", \"year\", \"week\") \\\n",
    "    .agg(max(col(\"`4. close`\")).alias(\"max_close_price\"))\n",
    "max_closing_price_weekly.show(n=20, truncate=False)"
   ]
  },
  {
   "cell_type": "markdown",
   "metadata": {
    "application/vnd.databricks.v1+cell": {
     "cellMetadata": {},
     "inputWidgets": {},
     "nuid": "50c99f5c-ff0e-4060-981c-442cc53e808a",
     "showTitle": false,
     "tableResultSettingsMap": {},
     "title": ""
    }
   },
   "source": [
    "\n",
    "## ETL Job Four: RDBMS\n",
    "\n",
    "Extract\n",
    "Extract RNA data from a public PostgreSQL database.\n",
    "\n",
    "- https://rnacentral.org/help/public-database\n",
    "- Extract 100 RNA records from the rna table (hint: use limit in your sql)"
   ]
  },
  {
   "cell_type": "code",
   "execution_count": 0,
   "metadata": {
    "application/vnd.databricks.v1+cell": {
     "cellMetadata": {
      "byteLimit": 2048000,
      "rowLimit": 10000
     },
     "inputWidgets": {},
     "nuid": "c4ee130b-da26-424b-9aff-aff9e9db1bdf",
     "showTitle": false,
     "tableResultSettingsMap": {},
     "title": ""
    }
   },
   "outputs": [
    {
     "output_type": "stream",
     "name": "stdout",
     "output_type": "stream",
     "text": [
      "+--------+-------------+--------------------+---------+----------------+----+--------------------+--------+--------------------+\n|      id|          upi|           timestamp|userstamp|           crc64| len|           seq_short|seq_long|                 md5|\n+--------+-------------+--------------------+---------+----------------+----+--------------------+--------+--------------------+\n| 8988357|URS00008926C5| 2015-10-20 18:04:07|   RNACEN|F9626977AB4E17FB|1336|TCAGCGGCGAACGGGTG...|    null|fe4792a9218a34fde...|\n| 8988360|URS00008926C8| 2015-10-20 18:04:07|   RNACEN|DEA611A8ABDE9078|1307|ACTGCTATCGGATTGAT...|    null|5eb946fc85a2e16f4...|\n| 8988361|URS00008926C9| 2015-10-20 18:04:07|   RNACEN|AE161A21AF6713C0|1367|AGCCCAGCTTGCTGGGT...|    null|fe4849b1977b5be3c...|\n| 8988362|URS00008926CA| 2015-10-20 18:04:07|   RNACEN|03DF15DE82E78D7F|1398|GAGTTTGATCATGGCTC...|    null|c4bb7b410de36a58c...|\n| 8988364|URS00008926CC| 2015-10-20 18:04:07|   RNACEN|AE0439B061E1640E|1409|GTCGAACGGTAACAGGA...|    null|5ebae3845f9c331ae...|\n|11797345|URS0000B40361|2017-10-13 16:48:...|   rnacen|7DEEC8E7492E0C07| 426|GTGAGGAATATTGGTCA...|    null|1a56bf4ac54397a3f...|\n| 8987869|URS00008924DD| 2015-10-20 18:04:07|   RNACEN|501C63AF85F4994B|1378|TGATCCTGGCGCAGGAT...|    null|c449606151afed796...|\n| 8987870|URS00008924DE| 2015-10-20 18:04:07|   RNACEN|E3CAEB752E19EF2A|1370|TTAGAGTTTGATCCTGG...|    null|5e6050447aa007745...|\n| 8988018|URS0000892572| 2015-10-20 18:04:07|   RNACEN|9FEF66572DBF356C|1400|CAGGATGAACGCTAGCG...|    null|5e7ee4bb62cfcdd77...|\n| 8988488|URS0000892748| 2015-10-20 18:04:07|   RNACEN|FA606F4B0ABA4DC4|1478|GAGTTTGATCCTGGCTC...|    null|b7bcd6b9fbd22a1e8...|\n| 8988492|URS000089274C| 2015-10-20 18:04:07|   RNACEN|83F1CFEB52A7A8AB|1382|TCATGGCTCAGGACGAA...|    null|b7be584d9de7bfead...|\n|11797346|URS0000B40362|2017-10-13 16:48:...|   rnacen|69A87BE52361CDE2| 253|TACGAAGGATGCAAGCG...|    null|1a56c35f320afd3e1...|\n| 8988495|URS000089274F| 2015-10-20 18:04:07|   RNACEN|51D37F4799755FEE|1343|GACGAACGCTGGCGGCG...|    null|5ece2db19192edcfa...|\n| 8988497|URS0000892751| 2015-10-20 18:04:07|   RNACEN|67449140B80EE869|1352|CTGGCGGCGTGCTTAAC...|    null|b7bfcc1f663fcdf92...|\n| 8988498|URS0000892752| 2015-10-20 18:04:07|   RNACEN|F8D635CB8DD7CAE9|1343|GACGAACGCTTGCGGCG...|    null|c4d9ab82753b884ef...|\n| 8988499|URS0000892753| 2015-10-20 18:04:07|   RNACEN|802C8DE37D44AE17|1421|AGAGTTTGATCCTGGCT...|    null|5ece8ffab9c6b6049...|\n| 8988502|URS0000892756| 2015-10-20 18:04:07|   RNACEN|14D18A222F44A6BE|1462|ACGAACGCTGGCGGCGT...|    null|c4d9e533ef6cb445d...|\n|11884212|URS0000B556B4|2017-10-13 16:48:...|   rnacen|B6102A48637B6218|  93|GGAGAGATGGCCGAGTG...|    null|3f3b312f114ac937f...|\n|12686420|URS0000C19454|2017-10-19 09:46:...|   rnacen|0857A1E718F4399A| 124|CTAGTACTTCCTCCGTC...|    null|28e0ec929dbfd71f4...|\n| 8988503|URS0000892757| 2015-10-20 18:04:07|   RNACEN|B96FDAB291A46D5E|1431|CAGGACGAACGCTGGCG...|    null|5ed407618693a95ab...|\n| 8988145|URS00008925F1| 2015-10-20 18:04:07|   RNACEN|54AE503B73AEAB52|1402|AGAGTTTGATCCTGGCT...|    null|c4884f1c9ba6b7f8a...|\n| 8988146|URS00008925F2| 2015-10-20 18:04:07|   RNACEN|745D1F5CB425C610|1465|AGAGTTTGATCATGGCT...|    null|fe1b0723b592f7eb3...|\n| 8988147|URS00008925F3| 2015-10-20 18:04:07|   RNACEN|F038AEA866125A1A|1434|GGCGGGGGGCCTAACAC...|    null|5e8ba5873b105d464...|\n| 8988149|URS00008925F5| 2015-10-20 18:04:07|   RNACEN|D5EE106430C6EF44|1366|CTAATACACGCAAGTAG...|    null|c4886175ad61c0364...|\n|12686421|URS0000C19455|2017-10-19 09:46:...|   rnacen|A30837699476879F|  72|TCCCTGGTGGCTCAGAG...|    null|28e104cb8b622aae1...|\n|26726223|URS000197CF4F|2019-12-05 22:17:...|   rnacen|896AF99BBC61ADDE|  12|        TATGCATGCATT|    null|0479237603d50ea3b...|\n| 8988151|URS00008925F7| 2015-10-20 18:04:07|   RNACEN|04DAD97CEC7EA0BB|1433|AGAGTTTGATCATGGCT...|    null|5e8c7a43b342c30e1...|\n| 8988155|URS00008925FB| 2015-10-20 18:04:07|   RNACEN|8A589F31DE71B708|1488|GAGTTTGATCCTGGCTC...|    null|5e8c7a9db58de9946...|\n| 8988641|URS00008927E1| 2015-10-20 18:04:07|   RNACEN|F19CF97A9FC2CBAD|1365|AGCTTGCTAGTGGTCGA...|    null|c4fb65ec5c3e125ac...|\n| 8988643|URS00008927E3| 2015-10-20 18:04:07|   RNACEN|5365B1D5F7689DB5|1498|TTGAAGAGTTTGATCAT...|    null|b7de29fa1839f29a5...|\n| 8988647|URS00008927E7| 2015-10-20 18:04:07|   RNACEN|48FE257E304E92EC|1402|GAAGAGAAGCTTGCTTC...|    null|b7def47619186c8be...|\n|12686422|URS0000C19456|2017-10-19 09:46:...|   rnacen|BB5F9E8D6F501124| 125|TAAATACTCCCTCCGTC...|    null|28e11bcd4c3826073...|\n| 8988285|URS000089267D| 2015-10-20 18:04:07|   RNACEN|80A132D7C8A2E791|1397|CATGCAAGTCGAACGGT...|    null|5ea36e66efaab73eb...|\n| 8988287|URS000089267F| 2015-10-20 18:04:07|   RNACEN|9A24F2262C71F487|1502|AGAGTTTGATCCTGGCT...|    null|fe3706f823da49310...|\n| 8988288|URS0000892680| 2015-10-20 18:04:07|   RNACEN|5778B8B3B072AD45|1474|GAGTTTGATCCTGGTTC...|    null|b77f07431751f23d0...|\n| 8988289|URS0000892681| 2015-10-20 18:04:07|   RNACEN|528A9017418A3FD2|1436|CAGGCTTAACACATGCA...|    null|5ea398f317e82a3e9...|\n| 8988290|URS0000892682| 2015-10-20 18:04:07|   RNACEN|70A1FCCD43CAF8C9|1393|AACGAACGCTTGCGGCG...|    null|c4a6eac8df3c6f9f6...|\n|12686423|URS0000C19457|2017-10-19 09:46:...|   rnacen|B8BBB5FD5A8F8165| 105|AACTTATCAAGAGTGGT...|    null|28e12dbb8d4b17279...|\n| 8988291|URS0000892683| 2015-10-20 18:04:07|   RNACEN|A8B034000E9F739F|1404|AGAGTTTGATCCTGGCT...|    null|fe379d500bfdf6906...|\n| 8988293|URS0000892685| 2015-10-20 18:04:07|   RNACEN|202E5326F9F63C51|1461|AACGAACGCTGGCGGCG...|    null|5ea43a7a1380d9e05...|\n| 8988294|URS0000892686| 2015-10-20 18:04:07|   RNACEN|BCFE5123D28E9C79|1388|TAGTGGCGGACGGGTGA...|    null|c4a7faa63214f9bee...|\n| 8988299|URS000089268B| 2015-10-20 18:04:07|   RNACEN|0CF6E96E3C5F75BC|1457|AGAGTTTGATCCTGGCT...|    null|fe39914e1e17d8b07...|\n| 8988936|URS0000892908| 2015-10-20 18:04:07|   RNACEN|624A6B6CF0AE9116|1393|TTCGCCCTTAGAGTTTG...|    null|b834439f2b6b4e545...|\n|12686424|URS0000C19458|2017-10-19 09:46:...|   rnacen|591A15B34811456C| 161|CACCGCCCGTCGCTCCT...|    null|28e14eee573a09993...|\n| 8988937|URS0000892909| 2015-10-20 18:04:07|   RNACEN|945CBD534C712E3E|1317|GAGTGGCGGACGGGTGA...|    null|fec75f6da264afc33...|\n| 8988938|URS000089290A| 2015-10-20 18:04:07|   RNACEN|469D51A7676D4F61|1405|TTCGCCCTTAGAGTTTC...|    null|b835a6acb7d66e88b...|\n| 8988942|URS000089290E| 2015-10-20 18:04:07|   RNACEN|D8C41B54C1D59C19|1345|GACGAACGCTGGCGGCG...|    null|b838479b61d2e5ddb...|\n| 8988436|URS0000892714| 2015-10-20 18:04:07|   RNACEN|35DA5E2996B0151E|1393|GGCAGGCTTAACACATG...|    null|5ec3bffa9b452ffb8...|\n| 8988438|URS0000892716| 2015-10-20 18:04:07|   RNACEN|BCF74A8813456F64|1469|GATCCTGGCTCAGGACG...|    null|c4caeb7bf1b894b7c...|\n|11884213|URS0000B556B5|2017-10-13 16:48:...|   rnacen|BD4A30AC14465F09| 291|GTGGATTAGATACCCTG...|    null|3f3ba11000867ced5...|\n| 8988439|URS0000892717| 2015-10-20 18:04:07|   RNACEN|D1A1D3B20542C122|1410|TGATCCTGGCTCAGAAT...|    null|b7b305dbf66bdabf1...|\n| 8988442|URS000089271A| 2015-10-20 18:04:07|   RNACEN|583EE5BDABBD782A|1374|GGAGCTTGCTCCATGAG...|    null|c4caf4c8610fe0555...|\n| 8988445|URS000089271D| 2015-10-20 18:04:07|   RNACEN|FFE26CB5A0DCA1F0|1334|GACTGGCGCACGGGTGA...|    null|fe5d1affd8c6ff5c0...|\n| 8989070|URS000089298E| 2015-10-20 18:04:07|   RNACEN|01828190B58476F8|1483|GTTTGATCCTGGCTCAG...|    null|c53c1b71bd44c8f3b...|\n| 8989072|URS0000892990| 2015-10-20 18:04:07|   RNACEN|3420FEC809FA20D6|1498|TAGAGTTTGATCCTGGC...|    null|5f510a658addfaa40...|\n|12686425|URS0000C19459|2017-10-19 09:46:...|   rnacen|FDA1C1454BBFC30F|  46|GCACTGTTGAGGAGTCC...|    null|28e1677b6931d3039...|\n|26726224|URS000197CF50|2019-12-05 22:17:...|   rnacen|C8988C2FA515BD7D|  14|      AGCATAAGCAGGAA|    null|089f82fa22af3fcd0...|\n| 8989074|URS0000892992| 2015-10-20 18:04:07|   RNACEN|DACF9351D93713E6|1398|AGAGTTTGATCCTGGCT...|    null|c53d388da107475aa...|\n| 8989075|URS0000892993| 2015-10-20 18:04:07|   RNACEN|F7DCBF05EF1D283F|1412|GGACGAACGCTGGCGGC...|    null|feea1d247af3f2d78...|\n| 8989077|URS0000892995| 2015-10-20 18:04:07|   RNACEN|343EB4AB786636F4|1364|GCCTAACACATGCAAGT...|    null|b857e5a34addf3c20...|\n| 8989079|URS0000892997| 2015-10-20 18:04:07|   RNACEN|265B940C5EE6238E|1407|GAGTTTGATCATGGCTC...|    null|feecddf5a96103bb5...|\n| 8989082|URS000089299A| 2015-10-20 18:04:07|   RNACEN|DC23163C634BC6A0|1473|ATTCCGGTTGATCCTGC...|    null|c53fe2d1d3dbbc033...|\n|12686426|URS0000C1945A|2017-10-19 09:46:...|   rnacen|2668B6BEE64730A3| 135|TAGGTACTCCCTCTGTC...|    null|28e17e39bd60a818c...|\n|39941958|URS0002617746|2022-11-02 17:29:...|   rnacen|89CADECADECADEA6|  23|GTGTGTGTGTGTGTGTG...|    null|0900ed3dd46ec4629...|\n| 8989088|URS00008929A0| 2015-10-20 18:04:07|   RNACEN|D49D4B2A1FC3E20C|1402|CTAATACATGCAAGTCG...|    null|5f576e288dbd10a30...|\n| 8988585|URS00008927A9| 2015-10-20 18:04:07|   RNACEN|4037ADB8ED260A0D|1402|GGCAGGCCTAACACATG...|    null|b7d291834ce6c9959...|\n| 8988736|URS0000892840| 2015-10-20 18:04:07|   RNACEN|3DF7119D7716A5BC|1537|GAGTCACGAAGAGTTTG...|    null|fe962d74401230bc1...|\n| 8988737|URS0000892841| 2015-10-20 18:04:07|   RNACEN|9DC65C9101590D13|1419|GGCGTGGCTAAGACATG...|    null|c50b74e30172f5606...|\n| 8989225|URS0000892A29| 2015-10-20 18:04:07|   RNACEN|811F8DB62C921E2B|1521|CAATTTTAAAGAGTTTG...|    null|b87c612c2064389a5...|\n|35576136|URS00021ED948|2021-04-30 13:01:...|   rnacen|DDEC580C7259DEDB|  38|CAAATTGTGCCCATCGT...|    null|7362c73ce259a7721...|\n| 8989228|URS0000892A2C| 2015-10-20 18:04:07|   RNACEN|51572894703B6872|1545|AGAGTTTGATTATGGCT...|    null|5f76ee7f0662a9dcf...|\n| 8989230|URS0000892A2E| 2015-10-20 18:04:07|   RNACEN|91CD76927B63F73B|1379|CTGGCGGCAGGCCTAAT...|    null|c55564eb9849be779...|\n| 8989231|URS0000892A2F| 2015-10-20 18:04:07|   RNACEN|EDEFB7EF26B53C3E|1385|TTAGAGTTTGATCCTGG...|    null|ff125a95ed0cbc8d1...|\n| 8989232|URS0000892A30| 2015-10-20 18:04:07|   RNACEN|3C75C6955C132403|1309|TAGTGGCGAACGGGTGA...|    null|5f77c4b208d872a45...|\n| 8989233|URS0000892A31| 2015-10-20 18:04:07|   RNACEN|AA13364DFEC93096|1443|GCGGCGTGCTTAACACA...|    null|b88163e0a71bc77f6...|\n|12686427|URS0000C1945B|2017-10-19 09:46:...|   rnacen|E6217CA75DB09CBD|  74|GAGGGTATAGCTTAAGT...|    null|28e17f801c27e3e96...|\n|12686428|URS0000C1945C|2017-10-19 09:46:...|   rnacen|2EB95D28759D6CB0|  45|ATCCAGCTGATGAGTTC...|    null|28e1825f44cb3a61a...|\n| 8989234|URS0000892A32| 2015-10-20 18:04:07|   RNACEN|BA64E6395E9C4681|1343|GACGAACGCTGGCGGCG...|    null|c556949a6b7bf5b48...|\n| 8990002|URS0000892D32| 2015-10-20 18:04:07|   RNACEN|309764D57BF4C4FB|1499|TTAGAGTTTGATCCTGG...|    null|b93460abf0746f15b...|\n| 8990004|URS0000892D34| 2015-10-20 18:04:07|   RNACEN|BE5F5447FF059773|1412|AGTCGAACGCGAAAGTC...|    null|6020224caf221c106...|\n| 8990006|URS0000892D36| 2015-10-20 18:04:07|   RNACEN|607A5A14EF30DD8A|1364|GGAGCGAGTACAGCGGC...|    null|c615c64c6fd0a973b...|\n| 8990383|URS0000892EAF| 2015-10-20 18:04:07|   RNACEN|1C6069142DFE7B03|1372|TGGCGGCGTGCTTAACA...|    null|ecbd128339d3c4ebc...|\n|12012133|URS0000B74A65|2017-10-13 16:49:...|   rnacen|BB9300567B683E0C| 305|TTTTCCTACGGGAGGCA...|    null|7585a8c8d077c3ecb...|\n| 8990385|URS0000892EB1| 2015-10-20 18:04:07|   RNACEN|BB685D618CFDE9A1|1350|GATTAGTGGCGAACGGG...|    null|b97f0079b120eed5c...|\n| 8990387|URS0000892EB3| 2015-10-20 18:04:07|   RNACEN|CB85AEAB48932A53|1474|GAGTTTGATCCTGGCTC...|    null|ecbe293c735102fbc...|\n| 8990388|URS0000892EB4| 2015-10-20 18:04:07|   RNACEN|CB27103838A67CC1|1462|GATGAACGCTAGCGGCA...|    null|c6630d24b63a2891f...|\n| 8990389|URS0000892EB5| 2015-10-20 18:04:07|   RNACEN|CA277A83FBE413A5|1343|GACGAACGCTGGCGGCG...|    null|b97f187dba506b81e...|\n| 8990390|URS0000892EB6| 2015-10-20 18:04:07|   RNACEN|2551DC1A3578CC97|1349|AGTGGCGCACGGGTGAG...|    null|606f85307a7de55da...|\n|12012147|URS0000B74A73|2017-10-13 16:49:...|   rnacen|A16F916C9AB357E3| 281|CGACCTACGGGGCGCAG...|    null|7586fe717bd564473...|\n| 8991635|URS0000893393| 2015-10-20 18:04:07|   RNACEN|EF89A35D9D8DFF96|1473|TAGGGTTTGATCCTGGC...|    null|ba80100f6b1317329...|\n| 8991638|URS0000893396| 2015-10-20 18:04:07|   RNACEN|AFB905931973766C|1415|AACGCTGAAAGCCCAGC...|    null|edcbadd055decf871...|\n| 8991195|URS00008931DB| 2015-10-20 18:04:07|   RNACEN|2304520E354780B4|1481|TTTGATCCTGGCTCAGG...|    null|c70ec74a719e6f935...|\n| 8991196|URS00008931DC| 2015-10-20 18:04:07|   RNACEN|092BE86A2720D1E5|1375|TGAACGCTGGCGGCAGG...|    null|ed647700fe1d0a9a8...|\n| 8991197|URS00008931DD| 2015-10-20 18:04:07|   RNACEN|E97C5CB927F371CC|1429|ATACATGCAAGTCGAGC...|    null|611ba79afb30f2637...|\n|12686429|URS0000C1945D|2017-10-19 09:46:...|   rnacen|D4C04F73AB81E842|  72|GAGGGTATAGCTCAGTG...|    null|28e1938fe1ee589e2...|\n| 8991198|URS00008931DE| 2015-10-20 18:04:07|   RNACEN|CF931F4FF2D03186|1455|GAACGCTGGCGGAACGC...|    null|ba2b77b5eadc4ee8c...|\n| 8991199|URS00008931DF| 2015-10-20 18:04:07|   RNACEN|F2555BD69FDD0739|1401|TTTGATTATGGCTCAGG...|    null|c70f2c4fb8bc9bf91...|\n| 8991203|URS00008931E3| 2015-10-20 18:04:07|   RNACEN|1E854EC43938ED26|1436|AATCCGGTTGATCCTGC...|    null|c70f4a247687baa73...|\n| 8991206|URS00008931E6| 2015-10-20 18:04:07|   RNACEN|240043A7EBC33F15|1345|AAAGGGCTTCGGCCTGA...|    null|ba2bea7a7300ee3e5...|\n| 8992493|URS00008936ED| 2015-10-20 18:04:07|   RNACEN|35BA7CD1CF861770|1469|GGACGAACGCTGGCGGC...|    null|bb3ac3ff4992a8a30...|\n+--------+-------------+--------------------+---------+----------------+----+--------------------+--------+--------------------+\n\n"
     ]
    }
   ],
   "source": [
    "# db properties\n",
    "jdbc_url = \"jdbc:postgresql://hh-pgsql-public.ebi.ac.uk:5432/pfmegrnargs\"  \n",
    "username = \"reader\"\n",
    "password = \"NWDMCE5xdipIjRrp\"  # Password taken from https://gist.github.com/AntonPetrov/ec248312feff6acc07a82b4bfb595440#file-example-rnacentral-postgres-script-py\n",
    "\n",
    "# Read data with JDBC\n",
    "rna_df = (\n",
    "    spark.read\n",
    "    .format(\"jdbc\")\n",
    "    .option(\"url\", jdbc_url)\n",
    "    .option(\"dbtable\", \"(SELECT * FROM rna LIMIT 100) AS rna_subset\")  # Extract 100 RNA records\n",
    "    .option(\"user\", username)\n",
    "    .option(\"password\", password)\n",
    "    .option(\"driver\", \"org.postgresql.Driver\")\n",
    "    .load()\n",
    ")\n",
    "\n",
    "# Show the extracted data\n",
    "rna_df.show(n=100, truncate=True)"
   ]
  }
 ],
 "metadata": {
  "application/vnd.databricks.v1+notebook": {
   "computePreferences": null,
   "dashboards": [],
   "environmentMetadata": null,
   "language": "python",
   "notebookMetadata": {
    "pythonIndentUnit": 4
   },
   "notebookName": "Notebook3_SparkETLJobs",
   "widgets": {}
  }
 },
 "nbformat": 4,
 "nbformat_minor": 0
}
