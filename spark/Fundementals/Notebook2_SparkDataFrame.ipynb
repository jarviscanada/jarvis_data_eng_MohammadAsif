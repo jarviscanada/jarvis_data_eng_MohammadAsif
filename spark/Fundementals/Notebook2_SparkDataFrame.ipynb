{
 "cells": [
  {
   "cell_type": "markdown",
   "metadata": {
    "application/vnd.databricks.v1+cell": {
     "cellMetadata": {},
     "inputWidgets": {},
     "nuid": "96816ed7-b08a-4ca3-abb9-f99880c3535d",
     "showTitle": false,
     "tableResultSettingsMap": {},
     "title": ""
    }
   },
   "source": [
    "\n",
    "## Overview\n",
    "\n",
    "This notebook will show you how to create and query a table or DataFrame that you uploaded to DBFS. [DBFS](https://docs.databricks.com/user-guide/dbfs-databricks-file-system.html) is a Databricks File System that allows you to store data for querying inside of Databricks. This notebook assumes that you have a file already inside of DBFS that you would like to read from.\n",
    "\n",
    "This notebook is written in **Python** so the default cell type is Python. However, you can use different languages by using the `%LANGUAGE` syntax. Python, Scala, SQL, and R are all supported."
   ]
  },
  {
   "cell_type": "code",
   "execution_count": 0,
   "metadata": {
    "application/vnd.databricks.v1+cell": {
     "cellMetadata": {
      "byteLimit": 2048000,
      "rowLimit": 10000
     },
     "inputWidgets": {},
     "nuid": "6482be4c-f067-47c9-b0ac-35c938b94601",
     "showTitle": false,
     "tableResultSettingsMap": {},
     "title": ""
    }
   },
   "outputs": [],
   "source": [
    "# File location and type\n",
    "f1_location = \"/FileStore/tables/members.csv\"\n",
    "f2_location = \"/FileStore/tables/bookings.csv\"\n",
    "f3_location = \"/FileStore/tables/facilities.csv\"\n",
    "file_type = \"csv\"\n",
    "\n",
    "# CSV options\n",
    "infer_schema = \"true\"\n",
    "first_row_is_header = \"true\"\n",
    "delimiter = \",\"\n",
    "\n",
    "# The applied options are for CSV files. For other file types, these will be ignored.\n",
    "members_df = spark.read.format(file_type) \\\n",
    "  .option(\"inferSchema\", infer_schema) \\\n",
    "  .option(\"header\", first_row_is_header) \\\n",
    "  .option(\"sep\", delimiter) \\\n",
    "  .load(f1_location)\n",
    "\n",
    "bookings_df = spark.read.format(file_type) \\\n",
    "  .option(\"inferSchema\", infer_schema) \\\n",
    "  .option(\"header\", first_row_is_header) \\\n",
    "  .option(\"sep\", delimiter) \\\n",
    "  .load(f2_location)\n",
    "\n",
    "facilities_df = spark.read.format(file_type) \\\n",
    "  .option(\"inferSchema\", infer_schema) \\\n",
    "  .option(\"header\", first_row_is_header) \\\n",
    "  .option(\"sep\", delimiter) \\\n",
    "  .load(f3_location)"
   ]
  },
  {
   "cell_type": "code",
   "execution_count": 0,
   "metadata": {
    "application/vnd.databricks.v1+cell": {
     "cellMetadata": {
      "byteLimit": 2048000,
      "rowLimit": 10000
     },
     "inputWidgets": {},
     "nuid": "bd82bb99-1479-4d5c-be10-8c36df0f1d44",
     "showTitle": false,
     "tableResultSettingsMap": {},
     "title": ""
    }
   },
   "outputs": [],
   "source": [
    "# Create a view or table\n",
    "\n",
    "temp_bookings = \"bookings\"\n",
    "temp_members = \"members\"\n",
    "temp_facilities = \"facilities\"\n",
    "\n",
    "members_df.createOrReplaceTempView(temp_members)\n",
    "bookings_df.createOrReplaceTempView(temp_bookings)\n",
    "facilities_df.createOrReplaceTempView(temp_facilities)"
   ]
  },
  {
   "cell_type": "code",
   "execution_count": 0,
   "metadata": {
    "application/vnd.databricks.v1+cell": {
     "cellMetadata": {
      "byteLimit": 2048000,
      "implicitDf": true,
      "rowLimit": 10000
     },
     "inputWidgets": {},
     "nuid": "b5f66379-6f7f-42ec-8e82-d0e0926a1721",
     "showTitle": false,
     "tableResultSettingsMap": {},
     "title": ""
    }
   },
   "outputs": [
    {
     "output_type": "stream",
     "name": "stdout",
     "output_type": "stream",
     "text": [
      "+-----+---------------+----------+---------+-------------+------------------+\n|facid|           name|membercost|guestcost|initialoutlay|monthlymaintenance|\n+-----+---------------+----------+---------+-------------+------------------+\n|    0| Tennis Court 1|       5.0|     25.0|        10000|               200|\n|    1| Tennis Court 2|       5.0|     25.0|         8000|               200|\n|    2|Badminton Court|       0.0|     15.5|         4000|                50|\n|    3|   Table Tennis|       0.0|      5.0|          320|                10|\n|    4| Massage Room 1|      35.0|     80.0|         4000|              3000|\n+-----+---------------+----------+---------+-------------+------------------+\n\n"
     ]
    }
   ],
   "source": [
    "# -- select * from facilities limit 5\n",
    "facilities_df.limit(5).show()"
   ]
  },
  {
   "cell_type": "markdown",
   "metadata": {
    "application/vnd.databricks.v1+cell": {
     "cellMetadata": {},
     "inputWidgets": {},
     "nuid": "f4cf4c9e-f950-4c2e-b1db-c3162a146eed",
     "showTitle": false,
     "tableResultSettingsMap": {},
     "title": ""
    }
   },
   "source": [
    "\n",
    "## Join Exercises"
   ]
  },
  {
   "cell_type": "code",
   "execution_count": 0,
   "metadata": {
    "application/vnd.databricks.v1+cell": {
     "cellMetadata": {
      "byteLimit": 2048000,
      "implicitDf": true,
      "rowLimit": 10000
     },
     "inputWidgets": {},
     "nuid": "2e0c8a91-ef42-4442-ac13-3fc496a7ed85",
     "showTitle": false,
     "tableResultSettingsMap": {},
     "title": ""
    }
   },
   "outputs": [
    {
     "output_type": "stream",
     "name": "stdout",
     "output_type": "stream",
     "text": [
      "+-------------------+\n|          starttime|\n+-------------------+\n|2012-09-18 09:00:00|\n|2012-09-18 17:30:00|\n|2012-09-18 13:30:00|\n|2012-09-18 20:00:00|\n|2012-09-19 09:30:00|\n|2012-09-19 15:00:00|\n|2012-09-19 12:00:00|\n|2012-09-20 15:30:00|\n|2012-09-20 11:30:00|\n|2012-09-20 14:00:00|\n|2012-09-21 10:30:00|\n|2012-09-21 14:00:00|\n|2012-09-22 08:30:00|\n|2012-09-22 17:00:00|\n|2012-09-23 08:30:00|\n|2012-09-23 17:30:00|\n|2012-09-23 19:00:00|\n|2012-09-24 08:00:00|\n|2012-09-24 16:30:00|\n|2012-09-24 12:30:00|\n+-------------------+\nonly showing top 20 rows\n\n"
     ]
    }
   ],
   "source": [
    "# %sql\n",
    "# SELECT b.starttime\n",
    "# FROM members m\n",
    "# JOIN bookings b ON m.memid = b.memid\n",
    "# WHERE m.firstname LIKE 'David'AND m.surname LIKE 'Farrell'\n",
    "\n",
    "bookings_df.join(members_df, bookings_df.memid == members_df.memid)\\\n",
    "    .filter((members_df.firstname == 'David') & (members_df.surname == 'Farrell')) \\\n",
    "    .select(bookings_df.starttime) \\\n",
    "    .show()"
   ]
  },
  {
   "cell_type": "code",
   "execution_count": 0,
   "metadata": {
    "application/vnd.databricks.v1+cell": {
     "cellMetadata": {
      "byteLimit": 2048000,
      "implicitDf": true,
      "rowLimit": 10000
     },
     "inputWidgets": {},
     "nuid": "045946e0-106c-4950-b144-40a70aa572a6",
     "showTitle": false,
     "tableResultSettingsMap": {},
     "title": ""
    }
   },
   "outputs": [
    {
     "output_type": "stream",
     "name": "stdout",
     "output_type": "stream",
     "text": [
      "+-------------------+--------------+\n|          starttime|          name|\n+-------------------+--------------+\n|2012-09-21 08:00:00|Tennis Court 1|\n|2012-09-21 08:00:00|Tennis Court 2|\n|2012-09-21 09:30:00|Tennis Court 1|\n|2012-09-21 10:00:00|Tennis Court 2|\n|2012-09-21 11:30:00|Tennis Court 2|\n|2012-09-21 12:00:00|Tennis Court 1|\n|2012-09-21 13:30:00|Tennis Court 1|\n|2012-09-21 14:00:00|Tennis Court 2|\n|2012-09-21 15:30:00|Tennis Court 1|\n|2012-09-21 16:00:00|Tennis Court 2|\n|2012-09-21 17:00:00|Tennis Court 1|\n|2012-09-21 18:00:00|Tennis Court 2|\n+-------------------+--------------+\n\n"
     ]
    }
   ],
   "source": [
    "# %sql\n",
    "# SELECT b.starttime, f.name\n",
    "# FROM facilities f\n",
    "# INNER JOIN bookings b ON f.facid = b.facid\n",
    "# WHERE f.name LIKE 'Tennis Court%'AND b.starttime BETWEEN '2012-09-21' AND '2012-09-22'\n",
    "# ORDER BY b.starttime;\n",
    "\n",
    "bookings_df.join(facilities_df, bookings_df.facid == facilities_df.facid) \\\n",
    "    .filter((facilities_df.name.like('Tennis Court%')) & (bookings_df.starttime.between('2012-09-21', '2012-09-22'))) \\\n",
    "    .select(bookings_df.starttime, facilities_df.name) \\\n",
    "    .orderBy(bookings_df.starttime) \\\n",
    "    .show()\n"
   ]
  },
  {
   "cell_type": "code",
   "execution_count": 0,
   "metadata": {
    "application/vnd.databricks.v1+cell": {
     "cellMetadata": {
      "byteLimit": 2048000,
      "implicitDf": true,
      "rowLimit": 10000
     },
     "inputWidgets": {},
     "nuid": "5d909f58-482e-4724-9720-6fceb38b4d35",
     "showTitle": false,
     "tableResultSettingsMap": {},
     "title": ""
    }
   },
   "outputs": [
    {
     "output_type": "stream",
     "name": "stdout",
     "output_type": "stream",
     "text": [
      "+---------+-----------------+---------+--------+\n|mfname   |msname           |rfname   |rsname  |\n+---------+-----------------+---------+--------+\n|Florence |Bader            |Ponder   |Stibbons|\n|Anne     |Baker            |Ponder   |Stibbons|\n|Timothy  |Baker            |Jemima   |Farrell |\n|Tim      |Boothe           |Tim      |Rownam  |\n|Gerald   |Butters          |Darren   |Smith   |\n|Joan     |Coplin           |Timothy  |Baker   |\n|Erica    |Crumpet          |Tracy    |Smith   |\n|Nancy    |Dare             |Janice   |Joplette|\n|David    |Farrell          |null     |null    |\n|Jemima   |Farrell          |null     |null    |\n|GUEST    |GUEST            |null     |null    |\n|Matthew  |Genting          |Gerald   |Butters |\n|John     |Hunt             |Millicent|Purview |\n|David    |Jones            |Janice   |Joplette|\n|Douglas  |Jones            |David    |Jones   |\n|Janice   |Joplette         |Darren   |Smith   |\n|Anna     |Mackenzie        |Darren   |Smith   |\n|Charles  |Owen             |Darren   |Smith   |\n|David    |Pinker           |Jemima   |Farrell |\n|Millicent|Purview          |Tracy    |Smith   |\n|Tim      |Rownam           |null     |null    |\n|Henrietta|Rumney           |Matthew  |Genting |\n|Ramnaresh|Sarwin           |Florence |Bader   |\n|Darren   |Smith            |null     |null    |\n|Darren   |Smith            |null     |null    |\n|Jack     |Smith            |Darren   |Smith   |\n|Tracy    |Smith            |null     |null    |\n|Ponder   |Stibbons         |Burton   |Tracy   |\n|Burton   |Tracy            |null     |null    |\n|Hyacinth |Tupperware       |null     |null    |\n|Henry    |Worthington-Smyth|Tracy    |Smith   |\n+---------+-----------------+---------+--------+\n\n"
     ]
    }
   ],
   "source": [
    "# %sql\n",
    "# SELECT \n",
    "# m.firstname AS mfname, m.surname AS msname, r.firstname AS rfname, r.surname AS rsname\n",
    "# FROM members m\n",
    "# LEFT OUTER JOIN members r ON r.memid = m.recommendedby\n",
    "# ORDER BY msname, mfname;\n",
    "\n",
    "m = members_df.alias(\"m\")\n",
    "r = members_df.alias(\"r\")\n",
    "\n",
    "m.join(r, col(\"r.memid\") == col(\"m.recommendedby\"), \"left\") \\\n",
    "    .select(\n",
    "        col(\"m.firstname\").alias(\"mfname\"),\n",
    "        col(\"m.surname\").alias(\"msname\"),\n",
    "        col(\"r.firstname\").alias(\"rfname\"),\n",
    "        col(\"r.surname\").alias(\"rsname\")\n",
    "    ) \\\n",
    "    .orderBy(\"msname\", \"mfname\") \\\n",
    "    .show(n=100, truncate=False)"
   ]
  },
  {
   "cell_type": "code",
   "execution_count": 0,
   "metadata": {
    "application/vnd.databricks.v1+cell": {
     "cellMetadata": {
      "byteLimit": 2048000,
      "implicitDf": true,
      "rowLimit": 10000
     },
     "inputWidgets": {},
     "nuid": "19164a4b-81c4-4fb1-b938-06dec1769f9d",
     "showTitle": false,
     "tableResultSettingsMap": {},
     "title": ""
    }
   },
   "outputs": [
    {
     "output_type": "stream",
     "name": "stdout",
     "output_type": "stream",
     "text": [
      "+-----------------+--------------+\n|member           |facility      |\n+-----------------+--------------+\n|Anne Baker       |Tennis Court 1|\n|Anne Baker       |Tennis Court 2|\n|Burton Tracy     |Tennis Court 1|\n|Burton Tracy     |Tennis Court 2|\n|Charles Owen     |Tennis Court 1|\n|Charles Owen     |Tennis Court 2|\n|Darren Smith     |Tennis Court 2|\n|David Farrell    |Tennis Court 1|\n|David Farrell    |Tennis Court 2|\n|David Jones      |Tennis Court 1|\n|David Jones      |Tennis Court 2|\n|David Pinker     |Tennis Court 1|\n|Douglas Jones    |Tennis Court 1|\n|Erica Crumpet    |Tennis Court 1|\n|Florence Bader   |Tennis Court 1|\n|Florence Bader   |Tennis Court 2|\n|GUEST GUEST      |Tennis Court 1|\n|GUEST GUEST      |Tennis Court 2|\n|Gerald Butters   |Tennis Court 1|\n|Gerald Butters   |Tennis Court 2|\n|Henrietta Rumney |Tennis Court 2|\n|Jack Smith       |Tennis Court 1|\n|Jack Smith       |Tennis Court 2|\n|Janice Joplette  |Tennis Court 1|\n|Janice Joplette  |Tennis Court 2|\n|Jemima Farrell   |Tennis Court 1|\n|Jemima Farrell   |Tennis Court 2|\n|Joan Coplin      |Tennis Court 1|\n|John Hunt        |Tennis Court 1|\n|John Hunt        |Tennis Court 2|\n|Matthew Genting  |Tennis Court 1|\n|Millicent Purview|Tennis Court 2|\n|Nancy Dare       |Tennis Court 1|\n|Nancy Dare       |Tennis Court 2|\n|Ponder Stibbons  |Tennis Court 1|\n|Ponder Stibbons  |Tennis Court 2|\n|Ramnaresh Sarwin |Tennis Court 1|\n|Ramnaresh Sarwin |Tennis Court 2|\n|Tim Boothe       |Tennis Court 1|\n|Tim Boothe       |Tennis Court 2|\n|Tim Rownam       |Tennis Court 1|\n|Tim Rownam       |Tennis Court 2|\n|Timothy Baker    |Tennis Court 1|\n|Timothy Baker    |Tennis Court 2|\n|Tracy Smith      |Tennis Court 1|\n|Tracy Smith      |Tennis Court 2|\n+-----------------+--------------+\n\n"
     ]
    }
   ],
   "source": [
    "# %sql\n",
    "# SELECT DISTINCT m.firstname || ' ' || m.surname AS member, f.name as facility\n",
    "# FROM members m\n",
    "# JOIN bookings b ON m.memid = b.memid\n",
    "# JOIN facilities f ON b.facid = f.facid\n",
    "# WHERE f.name LIKE 'Tennis Court%'\n",
    "# ORDER BY member, facility;\n",
    "from pyspark.sql.functions import concat_ws\n",
    "\n",
    "members_df.join(bookings_df, members_df.memid == bookings_df.memid) \\\n",
    "    .join(facilities_df, bookings_df.facid == facilities_df.facid) \\\n",
    "    .filter(facilities_df.name.like(\"Tennis Court%\")) \\\n",
    "    .select(\n",
    "        concat_ws(\" \", members_df.firstname, members_df.surname).alias(\"member\"),\n",
    "        facilities_df.name.alias(\"facility\")\n",
    "    ) \\\n",
    "    .distinct() \\\n",
    "    .orderBy(\"member\", \"facility\") \\\n",
    "    .show(n=100, truncate=False)"
   ]
  },
  {
   "cell_type": "code",
   "execution_count": 0,
   "metadata": {
    "application/vnd.databricks.v1+cell": {
     "cellMetadata": {
      "byteLimit": 2048000,
      "implicitDf": true,
      "rowLimit": 10000
     },
     "inputWidgets": {},
     "nuid": "281e41d0-f726-43f7-9149-449fbab55649",
     "showTitle": false,
     "tableResultSettingsMap": {},
     "title": ""
    }
   },
   "outputs": [
    {
     "output_type": "stream",
     "name": "stdout",
     "output_type": "stream",
     "text": [
      "+-----------------------+-----------------+\n|member                 |recommender      |\n+-----------------------+-----------------+\n|Anna Mackenzie         |Darren Smith     |\n|Anne Baker             |Ponder Stibbons  |\n|Burton Tracy           |                 |\n|Charles Owen           |Darren Smith     |\n|Darren Smith           |                 |\n|David Farrell          |                 |\n|David Jones            |Janice Joplette  |\n|David Pinker           |Jemima Farrell   |\n|Douglas Jones          |David Jones      |\n|Erica Crumpet          |Tracy Smith      |\n|Florence Bader         |Ponder Stibbons  |\n|GUEST GUEST            |                 |\n|Gerald Butters         |Darren Smith     |\n|Henrietta Rumney       |Matthew Genting  |\n|Henry Worthington-Smyth|Tracy Smith      |\n|Hyacinth Tupperware    |                 |\n|Jack Smith             |Darren Smith     |\n|Janice Joplette        |Darren Smith     |\n|Jemima Farrell         |                 |\n|Joan Coplin            |Timothy Baker    |\n|John Hunt              |Millicent Purview|\n|Matthew Genting        |Gerald Butters   |\n|Millicent Purview      |Tracy Smith      |\n|Nancy Dare             |Janice Joplette  |\n|Ponder Stibbons        |Burton Tracy     |\n|Ramnaresh Sarwin       |Florence Bader   |\n|Tim Boothe             |Tim Rownam       |\n|Tim Rownam             |                 |\n|Timothy Baker          |Jemima Farrell   |\n|Tracy Smith            |                 |\n+-----------------------+-----------------+\n\n"
     ]
    }
   ],
   "source": [
    "# %sql\n",
    "# SELECT DISTINCT \n",
    "#     m.firstname || ' ' || m.surname AS member,\n",
    "#     r.firstname || ' ' || r.surname AS recommender\n",
    "# FROM members m\n",
    "# LEFT JOIN members r ON r.memid = m.recommendedby\n",
    "# ORDER BY member;\n",
    "m = members_df.alias(\"m\")\n",
    "r = members_df.alias(\"r\")\n",
    "\n",
    "m.join(r, col(\"r.memid\") == col(\"m.recommendedby\"), \"left\") \\\n",
    "    .select(\n",
    "        concat_ws(\" \", col(\"m.firstname\"), col(\"m.surname\")).alias(\"member\"),\n",
    "        concat_ws(\" \", col(\"r.firstname\"), col(\"r.surname\")).alias(\"recommender\")\n",
    "    ) \\\n",
    "    .distinct() \\\n",
    "    .orderBy(\"member\") \\\n",
    "    .show(n=1000, truncate=False)\n"
   ]
  },
  {
   "cell_type": "markdown",
   "metadata": {
    "application/vnd.databricks.v1+cell": {
     "cellMetadata": {},
     "inputWidgets": {},
     "nuid": "17f092b6-ea4a-4b86-8701-9c584506f9d1",
     "showTitle": false,
     "tableResultSettingsMap": {},
     "title": ""
    }
   },
   "source": [
    "\n",
    "## Aggregation"
   ]
  },
  {
   "cell_type": "code",
   "execution_count": 0,
   "metadata": {
    "application/vnd.databricks.v1+cell": {
     "cellMetadata": {
      "byteLimit": 2048000,
      "implicitDf": true,
      "rowLimit": 10000
     },
     "inputWidgets": {},
     "nuid": "9e22c5f5-56fa-4e32-8414-97c989b18177",
     "showTitle": false,
     "tableResultSettingsMap": {},
     "title": ""
    }
   },
   "outputs": [
    {
     "output_type": "stream",
     "name": "stdout",
     "output_type": "stream",
     "text": [
      "+-------------+-----+\n|recommendedby|count|\n+-------------+-----+\n|            1|    5|\n|            2|    3|\n|            3|    1|\n|            4|    2|\n|            5|    1|\n|            6|    1|\n|            9|    2|\n|           11|    1|\n|           13|    2|\n|           15|    1|\n|           16|    1|\n|           20|    1|\n|           30|    1|\n+-------------+-----+\n\n"
     ]
    }
   ],
   "source": [
    "# %sql\n",
    "# SELECT m.recommendedby, COUNT(*)\n",
    "# FROM members as m\n",
    "# WHERE recommendedby is not null\n",
    "# GROUP BY recommendedby\n",
    "# ORDER BY recommendedby;\n",
    "from pyspark.sql import functions as F\n",
    "\n",
    "m = members_df.alias(\"m\")\n",
    "\n",
    "m.filter(F.col(\"m.recommendedby\").isNotNull()) \\\n",
    "    .groupBy(\"m.recommendedby\") \\\n",
    "    .agg(F.count(\"*\").alias(\"count\")) \\\n",
    "    .orderBy(\"m.recommendedby\") \\\n",
    "    .show()\n",
    "\n"
   ]
  },
  {
   "cell_type": "code",
   "execution_count": 0,
   "metadata": {
    "application/vnd.databricks.v1+cell": {
     "cellMetadata": {
      "byteLimit": 2048000,
      "implicitDf": true,
      "rowLimit": 10000
     },
     "inputWidgets": {},
     "nuid": "0c96ba16-99ea-4671-8326-0683c776bb42",
     "showTitle": false,
     "tableResultSettingsMap": {},
     "title": ""
    }
   },
   "outputs": [
    {
     "output_type": "stream",
     "name": "stdout",
     "output_type": "stream",
     "text": [
      "+-----+-----------+\n|facid|Total Slots|\n+-----+-----------+\n|    0|       1320|\n|    1|       1278|\n|    2|       1209|\n|    3|        830|\n|    4|       1404|\n|    5|        228|\n|    6|       1104|\n|    7|        908|\n|    8|        911|\n+-----+-----------+\n\n"
     ]
    }
   ],
   "source": [
    "# %sql\n",
    "# SELECT b.facid, SUM(slots) AS total_slots\n",
    "# FROM bookings as b\n",
    "# GROUP BY b.facid\n",
    "# ORDER BY b.facid;\n",
    "\n",
    "b = bookings_df.alias(\"b\")\n",
    "\n",
    "# Correct the filter and ensure proper syntax\n",
    "b.filter(F.col(\"b.facid\").isNotNull()) \\\n",
    "  .groupBy(\"b.facid\") \\\n",
    "  .agg(F.sum(\"b.slots\").alias(\"Total Slots\")) \\\n",
    "  .orderBy(\"b.facid\") \\\n",
    "  .show()"
   ]
  },
  {
   "cell_type": "code",
   "execution_count": 0,
   "metadata": {
    "application/vnd.databricks.v1+cell": {
     "cellMetadata": {
      "byteLimit": 2048000,
      "implicitDf": true,
      "rowLimit": 10000
     },
     "inputWidgets": {},
     "nuid": "cffe30c1-2e89-426a-8da8-638de5fc5491",
     "showTitle": false,
     "tableResultSettingsMap": {},
     "title": ""
    }
   },
   "outputs": [
    {
     "output_type": "stream",
     "name": "stdout",
     "output_type": "stream",
     "text": [
      "+-----+-----------+\n|facid|Total_Slots|\n+-----+-----------+\n|    5|        122|\n|    3|        422|\n|    7|        426|\n|    8|        471|\n|    6|        540|\n|    2|        570|\n|    1|        588|\n|    0|        591|\n|    4|        648|\n+-----+-----------+\n\n"
     ]
    }
   ],
   "source": [
    "# %sql\n",
    "# SELECT b.facid, SUM(b.slots) AS total_slots\n",
    "# FROM bookings AS b\n",
    "# WHERE b.starttime >= '2012-09-01' AND b.starttime < '2012-10-01'\n",
    "# GROUP BY b.facid\n",
    "# ORDER BY total_slots ASC;\n",
    "\n",
    "b = bookings_df.alias(\"b\")\n",
    "\n",
    "b.filter(F.col(\"b.facid\").isNotNull() & \n",
    "         F.col(\"b.starttime\").between('2012-09-01', '2012-10-01')) \\\n",
    "  .groupBy(\"b.facid\") \\\n",
    "  .agg(F.sum(\"b.slots\").alias(\"Total_Slots\")) \\\n",
    "  .orderBy(\"Total_Slots\") \\\n",
    "  .show()"
   ]
  },
  {
   "cell_type": "code",
   "execution_count": 0,
   "metadata": {
    "application/vnd.databricks.v1+cell": {
     "cellMetadata": {
      "byteLimit": 2048000,
      "implicitDf": true,
      "rowLimit": 10000
     },
     "inputWidgets": {},
     "nuid": "fa52e169-c369-435c-807a-e59578edbdd9",
     "showTitle": false,
     "tableResultSettingsMap": {},
     "title": ""
    }
   },
   "outputs": [
    {
     "output_type": "stream",
     "name": "stdout",
     "output_type": "stream",
     "text": [
      "+-----+-----+-----------+\n|facid|month|total_slots|\n+-----+-----+-----------+\n|0    |7    |270        |\n|0    |8    |459        |\n|0    |9    |591        |\n|1    |7    |207        |\n|1    |8    |483        |\n|1    |9    |588        |\n|2    |7    |180        |\n|2    |8    |459        |\n|2    |9    |570        |\n|3    |7    |104        |\n|3    |8    |304        |\n|3    |9    |422        |\n|4    |7    |264        |\n|4    |8    |492        |\n|4    |9    |648        |\n|5    |7    |24         |\n|5    |8    |82         |\n|5    |9    |122        |\n|6    |7    |164        |\n|6    |8    |400        |\n|6    |9    |540        |\n|7    |7    |156        |\n|7    |8    |326        |\n|7    |9    |426        |\n|8    |7    |117        |\n|8    |8    |322        |\n|8    |9    |471        |\n+-----+-----+-----------+\n\n"
     ]
    }
   ],
   "source": [
    "# %sql\n",
    "# SELECT b.facid, \n",
    "# EXTRACT(MONTH FROM b.starttime) AS month, \n",
    "# SUM(b.slots) AS total_slots\n",
    "# FROM bookings AS b\n",
    "# WHERE EXTRACT(year from starttime) = 2012\n",
    "# GROUP BY facid, month\n",
    "# ORDER BY facid, month;\n",
    "\n",
    "b = bookings_df.alias(\"b\")\n",
    "\n",
    "b.filter(F.year(\"b.starttime\") == 2012) \\\n",
    "  .groupBy(\"b.facid\", F.month(\"b.starttime\").alias(\"month\")) \\\n",
    "  .agg(F.sum(\"b.slots\").alias(\"total_slots\")) \\\n",
    "  .orderBy(\"b.facid\", \"month\") \\\n",
    "  .show(n=27, truncate=False)"
   ]
  },
  {
   "cell_type": "code",
   "execution_count": 0,
   "metadata": {
    "application/vnd.databricks.v1+cell": {
     "cellMetadata": {
      "byteLimit": 2048000,
      "implicitDf": true,
      "rowLimit": 10000
     },
     "inputWidgets": {},
     "nuid": "e77ba396-aea4-4411-a00c-7b6d61ba7cce",
     "showTitle": false,
     "tableResultSettingsMap": {},
     "title": ""
    }
   },
   "outputs": [
    {
     "output_type": "stream",
     "name": "stdout",
     "output_type": "stream",
     "text": [
      "+-----+\n|count|\n+-----+\n|   30|\n+-----+\n\n"
     ]
    }
   ],
   "source": [
    "# %sql\n",
    "# SELECT COUNT(DISTINCT b.memid) AS count\n",
    "# FROM bookings AS b\n",
    "b = bookings_df.alias(\"b\")\n",
    "b.select(F.countDistinct(\"b.memid\").alias(\"count\")).show()"
   ]
  },
  {
   "cell_type": "code",
   "execution_count": 0,
   "metadata": {
    "application/vnd.databricks.v1+cell": {
     "cellMetadata": {
      "byteLimit": 2048000,
      "implicitDf": true,
      "rowLimit": 10000
     },
     "inputWidgets": {},
     "nuid": "aa51f3f8-ce8e-49c1-b0eb-eb54b5481a9d",
     "showTitle": false,
     "tableResultSettingsMap": {},
     "title": ""
    }
   },
   "outputs": [
    {
     "output_type": "stream",
     "name": "stdout",
     "output_type": "stream",
     "text": [
      "+-----------------+---------+-----+-------------------+\n|surname          |firstname|memid|starttime          |\n+-----------------+---------+-----+-------------------+\n|GUEST            |GUEST    |0    |2012-09-01 08:00:00|\n|Smith            |Darren   |1    |2012-09-01 09:00:00|\n|Smith            |Tracy    |2    |2012-09-01 11:30:00|\n|Rownam           |Tim      |3    |2012-09-01 16:00:00|\n|Joplette         |Janice   |4    |2012-09-01 15:00:00|\n|Butters          |Gerald   |5    |2012-09-02 12:30:00|\n|Tracy            |Burton   |6    |2012-09-01 15:00:00|\n|Dare             |Nancy    |7    |2012-09-01 12:30:00|\n|Boothe           |Tim      |8    |2012-09-01 08:30:00|\n|Stibbons         |Ponder   |9    |2012-09-01 11:00:00|\n|Owen             |Charles  |10   |2012-09-01 11:00:00|\n|Jones            |David    |11   |2012-09-01 09:30:00|\n|Baker            |Anne     |12   |2012-09-01 14:30:00|\n|Farrell          |Jemima   |13   |2012-09-01 09:30:00|\n|Smith            |Jack     |14   |2012-09-01 11:00:00|\n|Bader            |Florence |15   |2012-09-01 10:30:00|\n|Baker            |Timothy  |16   |2012-09-01 15:00:00|\n|Pinker           |David    |17   |2012-09-01 08:30:00|\n|Genting          |Matthew  |20   |2012-09-01 18:00:00|\n|Mackenzie        |Anna     |21   |2012-09-01 08:30:00|\n|Coplin           |Joan     |22   |2012-09-02 11:30:00|\n|Sarwin           |Ramnaresh|24   |2012-09-04 11:00:00|\n|Jones            |Douglas  |26   |2012-09-08 13:00:00|\n|Rumney           |Henrietta|27   |2012-09-16 13:30:00|\n|Farrell          |David    |28   |2012-09-18 09:00:00|\n|Worthington-Smyth|Henry    |29   |2012-09-19 09:30:00|\n|Purview          |Millicent|30   |2012-09-19 11:30:00|\n|Tupperware       |Hyacinth |33   |2012-09-20 08:00:00|\n|Hunt             |John     |35   |2012-09-23 14:00:00|\n|Crumpet          |Erica    |36   |2012-09-27 11:30:00|\n+-----------------+---------+-----+-------------------+\n\n"
     ]
    }
   ],
   "source": [
    "# %sql\n",
    "# SELECT m.surname, m.firstname, m.memid, MIN(b.starttime) AS starttime\n",
    "# FROM bookings b\n",
    "# INNER JOIN members m on m.memid = b.memid\n",
    "# WHERE starttime >= '2012-09-01'\n",
    "# GROUP BY m.surname, m.firstname, m.memid\n",
    "# ORDER BY m.memid; \n",
    "\n",
    "b = bookings_df.alias(\"b\")\n",
    "m = members_df.alias(\"m\")\n",
    "\n",
    "b.join(m, b.memid == m.memid) \\\n",
    "  .filter(b.starttime >= '2012-09-01') \\\n",
    "  .groupBy(m.surname, m.firstname, m.memid) \\\n",
    "  .agg(F.min(b.starttime).alias(\"starttime\")) \\\n",
    "  .orderBy(m.memid) \\\n",
    "  .select(m.surname, m.firstname, m.memid, \"starttime\") \\\n",
    "  .show(n=30, truncate=False)"
   ]
  },
  {
   "cell_type": "markdown",
   "metadata": {
    "application/vnd.databricks.v1+cell": {
     "cellMetadata": {},
     "inputWidgets": {},
     "nuid": "8125d173-81ac-4338-bad3-234de831285b",
     "showTitle": false,
     "tableResultSettingsMap": {},
     "title": ""
    }
   },
   "source": [
    "\n",
    "## String & Date"
   ]
  },
  {
   "cell_type": "code",
   "execution_count": 0,
   "metadata": {
    "application/vnd.databricks.v1+cell": {
     "cellMetadata": {
      "byteLimit": 2048000,
      "implicitDf": true,
      "rowLimit": 10000
     },
     "inputWidgets": {},
     "nuid": "7d236b98-0aaf-4cfc-b848-1c78c1a24537",
     "showTitle": false,
     "tableResultSettingsMap": {},
     "title": ""
    }
   },
   "outputs": [
    {
     "output_type": "stream",
     "name": "stdout",
     "output_type": "stream",
     "text": [
      "+------------------------+\n|name                    |\n+------------------------+\n|GUEST, GUEST            |\n|Smith, Darren           |\n|Smith, Tracy            |\n|Rownam, Tim             |\n|Joplette, Janice        |\n|Butters, Gerald         |\n|Tracy, Burton           |\n|Dare, Nancy             |\n|Boothe, Tim             |\n|Stibbons, Ponder        |\n|Owen, Charles           |\n|Jones, David            |\n|Baker, Anne             |\n|Farrell, Jemima         |\n|Smith, Jack             |\n|Bader, Florence         |\n|Baker, Timothy          |\n|Pinker, David           |\n|Genting, Matthew        |\n|Mackenzie, Anna         |\n|Coplin, Joan            |\n|Sarwin, Ramnaresh       |\n|Jones, Douglas          |\n|Rumney, Henrietta       |\n|Farrell, David          |\n|Worthington-Smyth, Henry|\n|Purview, Millicent      |\n|Tupperware, Hyacinth    |\n|Hunt, John              |\n|Crumpet, Erica          |\n|Smith, Darren           |\n+------------------------+\n\n"
     ]
    }
   ],
   "source": [
    "# %sql\n",
    "# SELECT m.surname || ', ' || m.firstname AS name\n",
    "# FROM members AS m\n",
    "\n",
    "m = members_df.alias(\"m\")\n",
    "m.select(F.concat(F.col(\"m.surname\"), F.lit(\", \"), F.col(\"m.firstname\")).alias(\"name\")).show(n=100, truncate=False)"
   ]
  },
  {
   "cell_type": "code",
   "execution_count": 0,
   "metadata": {
    "application/vnd.databricks.v1+cell": {
     "cellMetadata": {
      "byteLimit": 2048000,
      "implicitDf": true,
      "rowLimit": 10000
     },
     "inputWidgets": {},
     "nuid": "f8bd5855-d6ba-4015-a396-27af36b9bfe8",
     "showTitle": false,
     "tableResultSettingsMap": {},
     "title": ""
    }
   },
   "outputs": [
    {
     "output_type": "stream",
     "name": "stdout",
     "output_type": "stream",
     "text": [
      "+-----+--------------+----------+---------+-------------+------------------+\n|facid|          name|membercost|guestcost|initialoutlay|monthlymaintenance|\n+-----+--------------+----------+---------+-------------+------------------+\n|    0|Tennis Court 1|       5.0|     25.0|        10000|               200|\n|    1|Tennis Court 2|       5.0|     25.0|         8000|               200|\n+-----+--------------+----------+---------+-------------+------------------+\n\n"
     ]
    }
   ],
   "source": [
    "# %sql\n",
    "# SELECT * \n",
    "# FROM facilities \n",
    "# WHERE upper(name) LIKE 'TENNIS%';\n",
    "f = facilities_df.alias(\"f\")  \n",
    "f.filter(F.upper(F.col(\"f.name\")).like(\"TENNIS%\")) \\\n",
    "  .show()"
   ]
  },
  {
   "cell_type": "code",
   "execution_count": 0,
   "metadata": {
    "application/vnd.databricks.v1+cell": {
     "cellMetadata": {
      "byteLimit": 2048000,
      "implicitDf": true,
      "rowLimit": 10000
     },
     "inputWidgets": {},
     "nuid": "8754c7c4-bc7e-4168-b91f-53685ff9bb29",
     "showTitle": false,
     "tableResultSettingsMap": {},
     "title": ""
    }
   },
   "outputs": [
    {
     "output_type": "stream",
     "name": "stdout",
     "output_type": "stream",
     "text": [
      "+-----+--------------+\n|memid|telephone     |\n+-----+--------------+\n|0    |(000) 000-0000|\n|3    |(844) 693-0723|\n|4    |(833) 942-4710|\n|5    |(844) 078-4130|\n|6    |(822) 354-9973|\n|7    |(833) 776-4001|\n|8    |(811) 433-2547|\n|9    |(833) 160-3900|\n|10   |(855) 542-5251|\n|11   |(844) 536-8036|\n|13   |(855) 016-0163|\n|14   |(822) 163-3254|\n|15   |(833) 499-3527|\n|20   |(811) 972-1377|\n|21   |(822) 661-2898|\n|22   |(822) 499-2232|\n|24   |(822) 413-1470|\n|27   |(822) 989-8876|\n|28   |(855) 755-9876|\n|29   |(855) 894-3758|\n|30   |(855) 941-9786|\n|33   |(822) 665-5327|\n|35   |(899) 720-6978|\n|36   |(811) 732-4816|\n|37   |(822) 577-3541|\n+-----+--------------+\n\n"
     ]
    }
   ],
   "source": [
    "# %sql\n",
    "# SELECT memid, telephone \n",
    "# FROM members \n",
    "# WHERE telephone RLIKE '\\\\(.*\\\\)';\n",
    "\n",
    "m = members_df.alias(\"m\")\n",
    "m.filter(F.col(\"m.telephone\").rlike(r\"^\\(\\d{3}\\)\\s\\d{3}-\\d{4}$\")) \\\n",
    "  .select(\"m.memid\", \"m.telephone\") \\\n",
    "  .show(n=25, truncate=False)"
   ]
  },
  {
   "cell_type": "code",
   "execution_count": 0,
   "metadata": {
    "application/vnd.databricks.v1+cell": {
     "cellMetadata": {
      "byteLimit": 2048000,
      "implicitDf": true,
      "rowLimit": 10000
     },
     "inputWidgets": {},
     "nuid": "450fa9fa-3bd5-4da3-a1c6-fb1e87db697e",
     "showTitle": false,
     "tableResultSettingsMap": {},
     "title": ""
    }
   },
   "outputs": [
    {
     "output_type": "stream",
     "name": "stdout",
     "output_type": "stream",
     "text": [
      "+------+-----+\n|letter|count|\n+------+-----+\n|B     |5    |\n|C     |2    |\n|D     |1    |\n|F     |2    |\n|G     |2    |\n|H     |1    |\n|J     |3    |\n|M     |1    |\n|O     |1    |\n|P     |2    |\n|R     |2    |\n|S     |6    |\n|T     |2    |\n|W     |1    |\n+------+-----+\n\n"
     ]
    }
   ],
   "source": [
    "# %sql\n",
    "# SELECT substr (m.surname,1,1) as letter, count(*) as count \n",
    "# FROM members m\n",
    "# GROUP BY letter\n",
    "# ORDER BY letter  \n",
    "m = members_df.alias(\"m\")\n",
    "\n",
    "m.withColumn(\"letter\", F.substring(F.col(\"m.surname\"), 1, 1)) \\\n",
    "  .groupBy(\"letter\") \\\n",
    "  .agg(F.count(\"*\").alias(\"count\")) \\\n",
    "  .orderBy(\"letter\") \\\n",
    "  .show(n=26, truncate=False)\n"
   ]
  },
  {
   "cell_type": "code",
   "execution_count": 0,
   "metadata": {
    "application/vnd.databricks.v1+cell": {
     "cellMetadata": {
      "byteLimit": 2048000,
      "implicitDf": true,
      "rowLimit": 10000
     },
     "inputWidgets": {},
     "nuid": "8fc59a9e-f154-47ac-bfb5-79cc30e3c402",
     "showTitle": false,
     "tableResultSettingsMap": {},
     "title": ""
    }
   },
   "outputs": [
    {
     "output_type": "stream",
     "name": "stdout",
     "output_type": "stream",
     "text": [
      "+----------+----------+\n|day_offset|ts        |\n+----------+----------+\n|0         |2012-10-01|\n|1         |2012-10-02|\n|2         |2012-10-03|\n|3         |2012-10-04|\n|4         |2012-10-05|\n|5         |2012-10-06|\n|6         |2012-10-07|\n|7         |2012-10-08|\n|8         |2012-10-09|\n|9         |2012-10-10|\n|10        |2012-10-11|\n|11        |2012-10-12|\n|12        |2012-10-13|\n|13        |2012-10-14|\n|14        |2012-10-15|\n|15        |2012-10-16|\n|16        |2012-10-17|\n|17        |2012-10-18|\n|18        |2012-10-19|\n|19        |2012-10-20|\n|20        |2012-10-21|\n|21        |2012-10-22|\n|22        |2012-10-23|\n|23        |2012-10-24|\n|24        |2012-10-25|\n|25        |2012-10-26|\n|26        |2012-10-27|\n|27        |2012-10-28|\n|28        |2012-10-29|\n|29        |2012-10-30|\n|30        |2012-10-31|\n+----------+----------+\n\n"
     ]
    }
   ],
   "source": [
    "# %sql\n",
    "# WITH date_series AS (\n",
    "#   SELECT EXPLODE(SEQUENCE(0, 30)) AS day_offset\n",
    "# )\n",
    "# SELECT date_add('2012-10-01 00:00:00', day_offset) AS ts\n",
    "# FROM date_series;\n",
    "\n",
    "date_series = spark.range(0, 31).toDF(\"day_offset\")\n",
    "date_series.withColumn(\"ts\", F.date_add(F.lit('2012-10-01').cast('date'), F.col(\"day_offset\").cast('int'))) \\\n",
    "    .show(n=31, truncate=False)\n"
   ]
  },
  {
   "cell_type": "code",
   "execution_count": 0,
   "metadata": {
    "application/vnd.databricks.v1+cell": {
     "cellMetadata": {
      "byteLimit": 2048000,
      "implicitDf": true,
      "rowLimit": 10000
     },
     "inputWidgets": {},
     "nuid": "dd1f257f-33e1-48ea-b3ae-5d45f7ff9af9",
     "showTitle": false,
     "tableResultSettingsMap": {},
     "title": ""
    }
   },
   "outputs": [
    {
     "output_type": "stream",
     "name": "stdout",
     "output_type": "stream",
     "text": [
      "+----------+-----+\n|     month|count|\n+----------+-----+\n|2012-07-01|  658|\n|2012-08-01| 1472|\n|2012-09-01| 1913|\n|2013-01-01|    1|\n+----------+-----+\n\n"
     ]
    }
   ],
   "source": [
    "# %sql\n",
    "# SELECT date_trunc('month', starttime) as month, count(*)\n",
    "# FROM bookings\n",
    "# GROUP BY month\n",
    "# ORDER BY month\n",
    "\n",
    "b = bookings_df.alias(\"b\")\n",
    "\n",
    "b.withColumn(\"month\", F.trunc(F.col(\"b.starttime\"), \"MM\")) \\\n",
    "  .groupBy(\"month\") \\\n",
    "  .agg(F.count(\"*\").alias(\"count\")) \\\n",
    "  .orderBy(\"month\") \\\n",
    "  .show()"
   ]
  }
 ],
 "metadata": {
  "application/vnd.databricks.v1+notebook": {
   "computePreferences": null,
   "dashboards": [],
   "environmentMetadata": null,
   "language": "python",
   "notebookMetadata": {
    "mostRecentlyExecutedCommandWithImplicitDF": {
     "commandId": -1,
     "dataframes": [
      "_sqldf"
     ]
    },
    "pythonIndentUnit": 4
   },
   "notebookName": "Notebook2_SparkDataFrame",
   "widgets": {}
  }
 },
 "nbformat": 4,
 "nbformat_minor": 0
}
