{
 "cells": [
  {
   "cell_type": "markdown",
   "metadata": {
    "application/vnd.databricks.v1+cell": {
     "cellMetadata": {},
     "inputWidgets": {},
     "nuid": "96816ed7-b08a-4ca3-abb9-f99880c3535d",
     "showTitle": false,
     "tableResultSettingsMap": {},
     "title": ""
    }
   },
   "source": [
    "\n",
    "## Overview\n",
    "\n",
    "This notebook will show you how to create and query a table or DataFrame that you uploaded to DBFS. [DBFS](https://docs.databricks.com/user-guide/dbfs-databricks-file-system.html) is a Databricks File System that allows you to store data for querying inside of Databricks. This notebook assumes that you have a file already inside of DBFS that you would like to read from.\n",
    "\n",
    "This notebook is written in **Python** so the default cell type is Python. However, you can use different languages by using the `%LANGUAGE` syntax. Python, Scala, SQL, and R are all supported."
   ]
  },
  {
   "cell_type": "code",
   "execution_count": 0,
   "metadata": {
    "application/vnd.databricks.v1+cell": {
     "cellMetadata": {
      "byteLimit": 2048000,
      "rowLimit": 10000
     },
     "inputWidgets": {},
     "nuid": "6482be4c-f067-47c9-b0ac-35c938b94601",
     "showTitle": false,
     "tableResultSettingsMap": {},
     "title": ""
    }
   },
   "outputs": [],
   "source": [
    "# File location and type\n",
    "f1_location = \"/FileStore/tables/members.csv\"\n",
    "f2_location = \"/FileStore/tables/bookings.csv\"\n",
    "f3_location = \"/FileStore/tables/facilities.csv\"\n",
    "file_type = \"csv\"\n",
    "\n",
    "# CSV options\n",
    "infer_schema = \"true\"\n",
    "first_row_is_header = \"true\"\n",
    "delimiter = \",\"\n",
    "\n",
    "# The applied options are for CSV files. For other file types, these will be ignored.\n",
    "members_df = spark.read.format(file_type) \\\n",
    "  .option(\"inferSchema\", infer_schema) \\\n",
    "  .option(\"header\", first_row_is_header) \\\n",
    "  .option(\"sep\", delimiter) \\\n",
    "  .load(f1_location)\n",
    "\n",
    "bookings_df = spark.read.format(file_type) \\\n",
    "  .option(\"inferSchema\", infer_schema) \\\n",
    "  .option(\"header\", first_row_is_header) \\\n",
    "  .option(\"sep\", delimiter) \\\n",
    "  .load(f2_location)\n",
    "\n",
    "facilities_df = spark.read.format(file_type) \\\n",
    "  .option(\"inferSchema\", infer_schema) \\\n",
    "  .option(\"header\", first_row_is_header) \\\n",
    "  .option(\"sep\", delimiter) \\\n",
    "  .load(f3_location)"
   ]
  },
  {
   "cell_type": "code",
   "execution_count": 0,
   "metadata": {
    "application/vnd.databricks.v1+cell": {
     "cellMetadata": {
      "byteLimit": 2048000,
      "rowLimit": 10000
     },
     "inputWidgets": {},
     "nuid": "bd82bb99-1479-4d5c-be10-8c36df0f1d44",
     "showTitle": false,
     "tableResultSettingsMap": {},
     "title": ""
    }
   },
   "outputs": [],
   "source": [
    "# Create a view or table\n",
    "\n",
    "temp_bookings = \"bookings\"\n",
    "temp_members = \"members\"\n",
    "temp_facilities = \"facilities\"\n",
    "\n",
    "members_df.createOrReplaceTempView(temp_members)\n",
    "bookings_df.createOrReplaceTempView(temp_bookings)\n",
    "facilities_df.createOrReplaceTempView(temp_facilities)"
   ]
  },
  {
   "cell_type": "code",
   "execution_count": 0,
   "metadata": {
    "application/vnd.databricks.v1+cell": {
     "cellMetadata": {
      "byteLimit": 2048000,
      "implicitDf": true,
      "rowLimit": 10000
     },
     "inputWidgets": {},
     "nuid": "b5f66379-6f7f-42ec-8e82-d0e0926a1721",
     "showTitle": false,
     "tableResultSettingsMap": {},
     "title": ""
    }
   },
   "outputs": [
    {
     "output_type": "display_data",
     "data": {
      "text/html": [
       "<style scoped>\n",
       "  .table-result-container {\n",
       "    max-height: 300px;\n",
       "    overflow: auto;\n",
       "  }\n",
       "  table, th, td {\n",
       "    border: 1px solid black;\n",
       "    border-collapse: collapse;\n",
       "  }\n",
       "  th, td {\n",
       "    padding: 5px;\n",
       "  }\n",
       "  th {\n",
       "    text-align: left;\n",
       "  }\n",
       "</style><div class='table-result-container'><table class='table-result'><thead style='background-color: white'><tr><th>facid</th><th>name</th><th>membercost</th><th>guestcost</th><th>initialoutlay</th><th>monthlymaintenance</th></tr></thead><tbody><tr><td>0</td><td>Tennis Court 1</td><td>5.0</td><td>25.0</td><td>10000</td><td>200</td></tr><tr><td>1</td><td>Tennis Court 2</td><td>5.0</td><td>25.0</td><td>8000</td><td>200</td></tr><tr><td>2</td><td>Badminton Court</td><td>0.0</td><td>15.5</td><td>4000</td><td>50</td></tr><tr><td>3</td><td>Table Tennis</td><td>0.0</td><td>5.0</td><td>320</td><td>10</td></tr><tr><td>4</td><td>Massage Room 1</td><td>35.0</td><td>80.0</td><td>4000</td><td>3000</td></tr></tbody></table></div>"
      ]
     },
     "metadata": {
      "application/vnd.databricks.v1+output": {
       "addedWidgets": {},
       "aggData": [],
       "aggError": "",
       "aggOverflow": false,
       "aggSchema": [],
       "aggSeriesLimitReached": false,
       "aggType": "",
       "arguments": {},
       "columnCustomDisplayInfos": {},
       "data": [
        [
         0,
         "Tennis Court 1",
         5.0,
         25.0,
         10000,
         200
        ],
        [
         1,
         "Tennis Court 2",
         5.0,
         25.0,
         8000,
         200
        ],
        [
         2,
         "Badminton Court",
         0.0,
         15.5,
         4000,
         50
        ],
        [
         3,
         "Table Tennis",
         0.0,
         5.0,
         320,
         10
        ],
        [
         4,
         "Massage Room 1",
         35.0,
         80.0,
         4000,
         3000
        ]
       ],
       "datasetInfos": [],
       "dbfsResultPath": null,
       "isJsonSchema": true,
       "metadata": {},
       "overflow": false,
       "plotOptions": {
        "customPlotOptions": {},
        "displayType": "table",
        "pivotAggregation": null,
        "pivotColumns": null,
        "xColumns": null,
        "yColumns": null
       },
       "removedWidgets": [],
       "schema": [
        {
         "metadata": "{}",
         "name": "facid",
         "type": "\"integer\""
        },
        {
         "metadata": "{}",
         "name": "name",
         "type": "\"string\""
        },
        {
         "metadata": "{}",
         "name": "membercost",
         "type": "\"double\""
        },
        {
         "metadata": "{}",
         "name": "guestcost",
         "type": "\"double\""
        },
        {
         "metadata": "{}",
         "name": "initialoutlay",
         "type": "\"integer\""
        },
        {
         "metadata": "{}",
         "name": "monthlymaintenance",
         "type": "\"integer\""
        }
       ],
       "type": "table"
      }
     },
     "output_type": "display_data"
    }
   ],
   "source": [
    "%sql\n",
    "select * from facilities limit 5"
   ]
  },
  {
   "cell_type": "markdown",
   "metadata": {
    "application/vnd.databricks.v1+cell": {
     "cellMetadata": {},
     "inputWidgets": {},
     "nuid": "f4cf4c9e-f950-4c2e-b1db-c3162a146eed",
     "showTitle": false,
     "tableResultSettingsMap": {},
     "title": ""
    }
   },
   "source": [
    "\n",
    "## Join Exercises"
   ]
  },
  {
   "cell_type": "code",
   "execution_count": 0,
   "metadata": {
    "application/vnd.databricks.v1+cell": {
     "cellMetadata": {
      "byteLimit": 2048000,
      "implicitDf": true,
      "rowLimit": 10000
     },
     "inputWidgets": {},
     "nuid": "2e0c8a91-ef42-4442-ac13-3fc496a7ed85",
     "showTitle": false,
     "tableResultSettingsMap": {},
     "title": ""
    }
   },
   "outputs": [
    {
     "output_type": "display_data",
     "data": {
      "text/html": [
       "<style scoped>\n",
       "  .table-result-container {\n",
       "    max-height: 300px;\n",
       "    overflow: auto;\n",
       "  }\n",
       "  table, th, td {\n",
       "    border: 1px solid black;\n",
       "    border-collapse: collapse;\n",
       "  }\n",
       "  th, td {\n",
       "    padding: 5px;\n",
       "  }\n",
       "  th {\n",
       "    text-align: left;\n",
       "  }\n",
       "</style><div class='table-result-container'><table class='table-result'><thead style='background-color: white'><tr><th>starttime</th></tr></thead><tbody><tr><td>2012-09-18T09:00:00.000+0000</td></tr><tr><td>2012-09-18T17:30:00.000+0000</td></tr><tr><td>2012-09-18T13:30:00.000+0000</td></tr><tr><td>2012-09-18T20:00:00.000+0000</td></tr><tr><td>2012-09-19T09:30:00.000+0000</td></tr><tr><td>2012-09-19T15:00:00.000+0000</td></tr><tr><td>2012-09-19T12:00:00.000+0000</td></tr><tr><td>2012-09-20T15:30:00.000+0000</td></tr><tr><td>2012-09-20T11:30:00.000+0000</td></tr><tr><td>2012-09-20T14:00:00.000+0000</td></tr><tr><td>2012-09-21T10:30:00.000+0000</td></tr><tr><td>2012-09-21T14:00:00.000+0000</td></tr><tr><td>2012-09-22T08:30:00.000+0000</td></tr><tr><td>2012-09-22T17:00:00.000+0000</td></tr><tr><td>2012-09-23T08:30:00.000+0000</td></tr><tr><td>2012-09-23T17:30:00.000+0000</td></tr><tr><td>2012-09-23T19:00:00.000+0000</td></tr><tr><td>2012-09-24T08:00:00.000+0000</td></tr><tr><td>2012-09-24T16:30:00.000+0000</td></tr><tr><td>2012-09-24T12:30:00.000+0000</td></tr><tr><td>2012-09-25T15:30:00.000+0000</td></tr><tr><td>2012-09-25T17:00:00.000+0000</td></tr><tr><td>2012-09-26T13:00:00.000+0000</td></tr><tr><td>2012-09-26T17:00:00.000+0000</td></tr><tr><td>2012-09-27T08:00:00.000+0000</td></tr><tr><td>2012-09-28T11:30:00.000+0000</td></tr><tr><td>2012-09-28T09:30:00.000+0000</td></tr><tr><td>2012-09-28T13:00:00.000+0000</td></tr><tr><td>2012-09-29T16:00:00.000+0000</td></tr><tr><td>2012-09-29T10:30:00.000+0000</td></tr><tr><td>2012-09-29T13:30:00.000+0000</td></tr><tr><td>2012-09-29T14:30:00.000+0000</td></tr><tr><td>2012-09-29T17:30:00.000+0000</td></tr><tr><td>2012-09-30T14:30:00.000+0000</td></tr></tbody></table></div>"
      ]
     },
     "metadata": {
      "application/vnd.databricks.v1+output": {
       "addedWidgets": {},
       "aggData": [],
       "aggError": "",
       "aggOverflow": false,
       "aggSchema": [],
       "aggSeriesLimitReached": false,
       "aggType": "",
       "arguments": {},
       "columnCustomDisplayInfos": {},
       "data": [
        [
         "2012-09-18T09:00:00.000+0000"
        ],
        [
         "2012-09-18T17:30:00.000+0000"
        ],
        [
         "2012-09-18T13:30:00.000+0000"
        ],
        [
         "2012-09-18T20:00:00.000+0000"
        ],
        [
         "2012-09-19T09:30:00.000+0000"
        ],
        [
         "2012-09-19T15:00:00.000+0000"
        ],
        [
         "2012-09-19T12:00:00.000+0000"
        ],
        [
         "2012-09-20T15:30:00.000+0000"
        ],
        [
         "2012-09-20T11:30:00.000+0000"
        ],
        [
         "2012-09-20T14:00:00.000+0000"
        ],
        [
         "2012-09-21T10:30:00.000+0000"
        ],
        [
         "2012-09-21T14:00:00.000+0000"
        ],
        [
         "2012-09-22T08:30:00.000+0000"
        ],
        [
         "2012-09-22T17:00:00.000+0000"
        ],
        [
         "2012-09-23T08:30:00.000+0000"
        ],
        [
         "2012-09-23T17:30:00.000+0000"
        ],
        [
         "2012-09-23T19:00:00.000+0000"
        ],
        [
         "2012-09-24T08:00:00.000+0000"
        ],
        [
         "2012-09-24T16:30:00.000+0000"
        ],
        [
         "2012-09-24T12:30:00.000+0000"
        ],
        [
         "2012-09-25T15:30:00.000+0000"
        ],
        [
         "2012-09-25T17:00:00.000+0000"
        ],
        [
         "2012-09-26T13:00:00.000+0000"
        ],
        [
         "2012-09-26T17:00:00.000+0000"
        ],
        [
         "2012-09-27T08:00:00.000+0000"
        ],
        [
         "2012-09-28T11:30:00.000+0000"
        ],
        [
         "2012-09-28T09:30:00.000+0000"
        ],
        [
         "2012-09-28T13:00:00.000+0000"
        ],
        [
         "2012-09-29T16:00:00.000+0000"
        ],
        [
         "2012-09-29T10:30:00.000+0000"
        ],
        [
         "2012-09-29T13:30:00.000+0000"
        ],
        [
         "2012-09-29T14:30:00.000+0000"
        ],
        [
         "2012-09-29T17:30:00.000+0000"
        ],
        [
         "2012-09-30T14:30:00.000+0000"
        ]
       ],
       "datasetInfos": [],
       "dbfsResultPath": null,
       "isJsonSchema": true,
       "metadata": {},
       "overflow": false,
       "plotOptions": {
        "customPlotOptions": {},
        "displayType": "table",
        "pivotAggregation": null,
        "pivotColumns": null,
        "xColumns": null,
        "yColumns": null
       },
       "removedWidgets": [],
       "schema": [
        {
         "metadata": "{}",
         "name": "starttime",
         "type": "\"timestamp\""
        }
       ],
       "type": "table"
      }
     },
     "output_type": "display_data"
    }
   ],
   "source": [
    "%sql\n",
    "SELECT b.starttime\n",
    "FROM members m\n",
    "JOIN bookings b ON m.memid = b.memid\n",
    "WHERE m.firstname LIKE 'David'AND m.surname LIKE 'Farrell'"
   ]
  },
  {
   "cell_type": "code",
   "execution_count": 0,
   "metadata": {
    "application/vnd.databricks.v1+cell": {
     "cellMetadata": {
      "byteLimit": 2048000,
      "implicitDf": true,
      "rowLimit": 10000
     },
     "inputWidgets": {},
     "nuid": "045946e0-106c-4950-b144-40a70aa572a6",
     "showTitle": false,
     "tableResultSettingsMap": {},
     "title": ""
    }
   },
   "outputs": [
    {
     "output_type": "display_data",
     "data": {
      "text/html": [
       "<style scoped>\n",
       "  .table-result-container {\n",
       "    max-height: 300px;\n",
       "    overflow: auto;\n",
       "  }\n",
       "  table, th, td {\n",
       "    border: 1px solid black;\n",
       "    border-collapse: collapse;\n",
       "  }\n",
       "  th, td {\n",
       "    padding: 5px;\n",
       "  }\n",
       "  th {\n",
       "    text-align: left;\n",
       "  }\n",
       "</style><div class='table-result-container'><table class='table-result'><thead style='background-color: white'><tr><th>starttime</th><th>name</th></tr></thead><tbody><tr><td>2012-09-21T08:00:00.000+0000</td><td>Tennis Court 1</td></tr><tr><td>2012-09-21T08:00:00.000+0000</td><td>Tennis Court 2</td></tr><tr><td>2012-09-21T09:30:00.000+0000</td><td>Tennis Court 1</td></tr><tr><td>2012-09-21T10:00:00.000+0000</td><td>Tennis Court 2</td></tr><tr><td>2012-09-21T11:30:00.000+0000</td><td>Tennis Court 2</td></tr><tr><td>2012-09-21T12:00:00.000+0000</td><td>Tennis Court 1</td></tr><tr><td>2012-09-21T13:30:00.000+0000</td><td>Tennis Court 1</td></tr><tr><td>2012-09-21T14:00:00.000+0000</td><td>Tennis Court 2</td></tr><tr><td>2012-09-21T15:30:00.000+0000</td><td>Tennis Court 1</td></tr><tr><td>2012-09-21T16:00:00.000+0000</td><td>Tennis Court 2</td></tr><tr><td>2012-09-21T17:00:00.000+0000</td><td>Tennis Court 1</td></tr><tr><td>2012-09-21T18:00:00.000+0000</td><td>Tennis Court 2</td></tr></tbody></table></div>"
      ]
     },
     "metadata": {
      "application/vnd.databricks.v1+output": {
       "addedWidgets": {},
       "aggData": [],
       "aggError": "",
       "aggOverflow": false,
       "aggSchema": [],
       "aggSeriesLimitReached": false,
       "aggType": "",
       "arguments": {},
       "columnCustomDisplayInfos": {},
       "data": [
        [
         "2012-09-21T08:00:00.000+0000",
         "Tennis Court 1"
        ],
        [
         "2012-09-21T08:00:00.000+0000",
         "Tennis Court 2"
        ],
        [
         "2012-09-21T09:30:00.000+0000",
         "Tennis Court 1"
        ],
        [
         "2012-09-21T10:00:00.000+0000",
         "Tennis Court 2"
        ],
        [
         "2012-09-21T11:30:00.000+0000",
         "Tennis Court 2"
        ],
        [
         "2012-09-21T12:00:00.000+0000",
         "Tennis Court 1"
        ],
        [
         "2012-09-21T13:30:00.000+0000",
         "Tennis Court 1"
        ],
        [
         "2012-09-21T14:00:00.000+0000",
         "Tennis Court 2"
        ],
        [
         "2012-09-21T15:30:00.000+0000",
         "Tennis Court 1"
        ],
        [
         "2012-09-21T16:00:00.000+0000",
         "Tennis Court 2"
        ],
        [
         "2012-09-21T17:00:00.000+0000",
         "Tennis Court 1"
        ],
        [
         "2012-09-21T18:00:00.000+0000",
         "Tennis Court 2"
        ]
       ],
       "datasetInfos": [],
       "dbfsResultPath": null,
       "isJsonSchema": true,
       "metadata": {},
       "overflow": false,
       "plotOptions": {
        "customPlotOptions": {},
        "displayType": "table",
        "pivotAggregation": null,
        "pivotColumns": null,
        "xColumns": null,
        "yColumns": null
       },
       "removedWidgets": [],
       "schema": [
        {
         "metadata": "{}",
         "name": "starttime",
         "type": "\"timestamp\""
        },
        {
         "metadata": "{}",
         "name": "name",
         "type": "\"string\""
        }
       ],
       "type": "table"
      }
     },
     "output_type": "display_data"
    }
   ],
   "source": [
    "%sql\n",
    "SELECT b.starttime, f.name\n",
    "FROM facilities f\n",
    "INNER JOIN bookings b ON f.facid = b.facid\n",
    "WHERE \n",
    "    f.name LIKE 'Tennis Court%'\n",
    "    AND b.starttime BETWEEN '2012-09-21' AND '2012-09-22'\n",
    "ORDER BY \n",
    "    b.starttime;"
   ]
  },
  {
   "cell_type": "code",
   "execution_count": 0,
   "metadata": {
    "application/vnd.databricks.v1+cell": {
     "cellMetadata": {
      "byteLimit": 2048000,
      "implicitDf": true,
      "rowLimit": 10000
     },
     "inputWidgets": {},
     "nuid": "5d909f58-482e-4724-9720-6fceb38b4d35",
     "showTitle": false,
     "tableResultSettingsMap": {},
     "title": ""
    }
   },
   "outputs": [
    {
     "output_type": "display_data",
     "data": {
      "text/html": [
       "<style scoped>\n",
       "  .table-result-container {\n",
       "    max-height: 300px;\n",
       "    overflow: auto;\n",
       "  }\n",
       "  table, th, td {\n",
       "    border: 1px solid black;\n",
       "    border-collapse: collapse;\n",
       "  }\n",
       "  th, td {\n",
       "    padding: 5px;\n",
       "  }\n",
       "  th {\n",
       "    text-align: left;\n",
       "  }\n",
       "</style><div class='table-result-container'><table class='table-result'><thead style='background-color: white'><tr><th>mfname</th><th>msname</th><th>rfname</th><th>rsname</th></tr></thead><tbody><tr><td>Florence</td><td>Bader</td><td>Ponder</td><td>Stibbons</td></tr><tr><td>Anne</td><td>Baker</td><td>Ponder</td><td>Stibbons</td></tr><tr><td>Timothy</td><td>Baker</td><td>Jemima</td><td>Farrell</td></tr><tr><td>Tim</td><td>Boothe</td><td>Tim</td><td>Rownam</td></tr><tr><td>Gerald</td><td>Butters</td><td>Darren</td><td>Smith</td></tr><tr><td>Joan</td><td>Coplin</td><td>Timothy</td><td>Baker</td></tr><tr><td>Erica</td><td>Crumpet</td><td>Tracy</td><td>Smith</td></tr><tr><td>Nancy</td><td>Dare</td><td>Janice</td><td>Joplette</td></tr><tr><td>David</td><td>Farrell</td><td>null</td><td>null</td></tr><tr><td>Jemima</td><td>Farrell</td><td>null</td><td>null</td></tr><tr><td>GUEST</td><td>GUEST</td><td>null</td><td>null</td></tr><tr><td>Matthew</td><td>Genting</td><td>Gerald</td><td>Butters</td></tr><tr><td>John</td><td>Hunt</td><td>Millicent</td><td>Purview</td></tr><tr><td>David</td><td>Jones</td><td>Janice</td><td>Joplette</td></tr><tr><td>Douglas</td><td>Jones</td><td>David</td><td>Jones</td></tr><tr><td>Janice</td><td>Joplette</td><td>Darren</td><td>Smith</td></tr><tr><td>Anna</td><td>Mackenzie</td><td>Darren</td><td>Smith</td></tr><tr><td>Charles</td><td>Owen</td><td>Darren</td><td>Smith</td></tr><tr><td>David</td><td>Pinker</td><td>Jemima</td><td>Farrell</td></tr><tr><td>Millicent</td><td>Purview</td><td>Tracy</td><td>Smith</td></tr><tr><td>Tim</td><td>Rownam</td><td>null</td><td>null</td></tr><tr><td>Henrietta</td><td>Rumney</td><td>Matthew</td><td>Genting</td></tr><tr><td>Ramnaresh</td><td>Sarwin</td><td>Florence</td><td>Bader</td></tr><tr><td>Darren</td><td>Smith</td><td>null</td><td>null</td></tr><tr><td>Darren</td><td>Smith</td><td>null</td><td>null</td></tr><tr><td>Jack</td><td>Smith</td><td>Darren</td><td>Smith</td></tr><tr><td>Tracy</td><td>Smith</td><td>null</td><td>null</td></tr><tr><td>Ponder</td><td>Stibbons</td><td>Burton</td><td>Tracy</td></tr><tr><td>Burton</td><td>Tracy</td><td>null</td><td>null</td></tr><tr><td>Hyacinth</td><td>Tupperware</td><td>null</td><td>null</td></tr><tr><td>Henry</td><td>Worthington-Smyth</td><td>Tracy</td><td>Smith</td></tr></tbody></table></div>"
      ]
     },
     "metadata": {
      "application/vnd.databricks.v1+output": {
       "addedWidgets": {},
       "aggData": [],
       "aggError": "",
       "aggOverflow": false,
       "aggSchema": [],
       "aggSeriesLimitReached": false,
       "aggType": "",
       "arguments": {},
       "columnCustomDisplayInfos": {},
       "data": [
        [
         "Florence",
         "Bader",
         "Ponder",
         "Stibbons"
        ],
        [
         "Anne",
         "Baker",
         "Ponder",
         "Stibbons"
        ],
        [
         "Timothy",
         "Baker",
         "Jemima",
         "Farrell"
        ],
        [
         "Tim",
         "Boothe",
         "Tim",
         "Rownam"
        ],
        [
         "Gerald",
         "Butters",
         "Darren",
         "Smith"
        ],
        [
         "Joan",
         "Coplin",
         "Timothy",
         "Baker"
        ],
        [
         "Erica",
         "Crumpet",
         "Tracy",
         "Smith"
        ],
        [
         "Nancy",
         "Dare",
         "Janice",
         "Joplette"
        ],
        [
         "David",
         "Farrell",
         null,
         null
        ],
        [
         "Jemima",
         "Farrell",
         null,
         null
        ],
        [
         "GUEST",
         "GUEST",
         null,
         null
        ],
        [
         "Matthew",
         "Genting",
         "Gerald",
         "Butters"
        ],
        [
         "John",
         "Hunt",
         "Millicent",
         "Purview"
        ],
        [
         "David",
         "Jones",
         "Janice",
         "Joplette"
        ],
        [
         "Douglas",
         "Jones",
         "David",
         "Jones"
        ],
        [
         "Janice",
         "Joplette",
         "Darren",
         "Smith"
        ],
        [
         "Anna",
         "Mackenzie",
         "Darren",
         "Smith"
        ],
        [
         "Charles",
         "Owen",
         "Darren",
         "Smith"
        ],
        [
         "David",
         "Pinker",
         "Jemima",
         "Farrell"
        ],
        [
         "Millicent",
         "Purview",
         "Tracy",
         "Smith"
        ],
        [
         "Tim",
         "Rownam",
         null,
         null
        ],
        [
         "Henrietta",
         "Rumney",
         "Matthew",
         "Genting"
        ],
        [
         "Ramnaresh",
         "Sarwin",
         "Florence",
         "Bader"
        ],
        [
         "Darren",
         "Smith",
         null,
         null
        ],
        [
         "Darren",
         "Smith",
         null,
         null
        ],
        [
         "Jack",
         "Smith",
         "Darren",
         "Smith"
        ],
        [
         "Tracy",
         "Smith",
         null,
         null
        ],
        [
         "Ponder",
         "Stibbons",
         "Burton",
         "Tracy"
        ],
        [
         "Burton",
         "Tracy",
         null,
         null
        ],
        [
         "Hyacinth",
         "Tupperware",
         null,
         null
        ],
        [
         "Henry",
         "Worthington-Smyth",
         "Tracy",
         "Smith"
        ]
       ],
       "datasetInfos": [],
       "dbfsResultPath": null,
       "isJsonSchema": true,
       "metadata": {},
       "overflow": false,
       "plotOptions": {
        "customPlotOptions": {},
        "displayType": "table",
        "pivotAggregation": null,
        "pivotColumns": null,
        "xColumns": null,
        "yColumns": null
       },
       "removedWidgets": [],
       "schema": [
        {
         "metadata": "{}",
         "name": "mfname",
         "type": "\"string\""
        },
        {
         "metadata": "{}",
         "name": "msname",
         "type": "\"string\""
        },
        {
         "metadata": "{}",
         "name": "rfname",
         "type": "\"string\""
        },
        {
         "metadata": "{}",
         "name": "rsname",
         "type": "\"string\""
        }
       ],
       "type": "table"
      }
     },
     "output_type": "display_data"
    }
   ],
   "source": [
    "%sql\n",
    "SELECT \n",
    "m.firstname AS mfname, \n",
    "m.surname AS msname, \n",
    "r.firstname AS rfname, \n",
    "r.surname AS rsname\n",
    "FROM members m\n",
    "LEFT OUTER JOIN members r ON r.memid = m.recommendedby\n",
    "ORDER BY msname, mfname;\n"
   ]
  },
  {
   "cell_type": "code",
   "execution_count": 0,
   "metadata": {
    "application/vnd.databricks.v1+cell": {
     "cellMetadata": {
      "byteLimit": 2048000,
      "implicitDf": true,
      "rowLimit": 10000
     },
     "inputWidgets": {},
     "nuid": "19164a4b-81c4-4fb1-b938-06dec1769f9d",
     "showTitle": false,
     "tableResultSettingsMap": {},
     "title": ""
    }
   },
   "outputs": [
    {
     "output_type": "display_data",
     "data": {
      "text/html": [
       "<style scoped>\n",
       "  .table-result-container {\n",
       "    max-height: 300px;\n",
       "    overflow: auto;\n",
       "  }\n",
       "  table, th, td {\n",
       "    border: 1px solid black;\n",
       "    border-collapse: collapse;\n",
       "  }\n",
       "  th, td {\n",
       "    padding: 5px;\n",
       "  }\n",
       "  th {\n",
       "    text-align: left;\n",
       "  }\n",
       "</style><div class='table-result-container'><table class='table-result'><thead style='background-color: white'><tr><th>member</th><th>facility</th></tr></thead><tbody><tr><td>Anne Baker</td><td>Tennis Court 1</td></tr><tr><td>Anne Baker</td><td>Tennis Court 2</td></tr><tr><td>Burton Tracy</td><td>Tennis Court 1</td></tr><tr><td>Burton Tracy</td><td>Tennis Court 2</td></tr><tr><td>Charles Owen</td><td>Tennis Court 1</td></tr><tr><td>Charles Owen</td><td>Tennis Court 2</td></tr><tr><td>Darren Smith</td><td>Tennis Court 2</td></tr><tr><td>David Farrell</td><td>Tennis Court 1</td></tr><tr><td>David Farrell</td><td>Tennis Court 2</td></tr><tr><td>David Jones</td><td>Tennis Court 1</td></tr><tr><td>David Jones</td><td>Tennis Court 2</td></tr><tr><td>David Pinker</td><td>Tennis Court 1</td></tr><tr><td>Douglas Jones</td><td>Tennis Court 1</td></tr><tr><td>Erica Crumpet</td><td>Tennis Court 1</td></tr><tr><td>Florence Bader</td><td>Tennis Court 1</td></tr><tr><td>Florence Bader</td><td>Tennis Court 2</td></tr><tr><td>GUEST GUEST</td><td>Tennis Court 1</td></tr><tr><td>GUEST GUEST</td><td>Tennis Court 2</td></tr><tr><td>Gerald Butters</td><td>Tennis Court 1</td></tr><tr><td>Gerald Butters</td><td>Tennis Court 2</td></tr><tr><td>Henrietta Rumney</td><td>Tennis Court 2</td></tr><tr><td>Jack Smith</td><td>Tennis Court 1</td></tr><tr><td>Jack Smith</td><td>Tennis Court 2</td></tr><tr><td>Janice Joplette</td><td>Tennis Court 1</td></tr><tr><td>Janice Joplette</td><td>Tennis Court 2</td></tr><tr><td>Jemima Farrell</td><td>Tennis Court 1</td></tr><tr><td>Jemima Farrell</td><td>Tennis Court 2</td></tr><tr><td>Joan Coplin</td><td>Tennis Court 1</td></tr><tr><td>John Hunt</td><td>Tennis Court 1</td></tr><tr><td>John Hunt</td><td>Tennis Court 2</td></tr><tr><td>Matthew Genting</td><td>Tennis Court 1</td></tr><tr><td>Millicent Purview</td><td>Tennis Court 2</td></tr><tr><td>Nancy Dare</td><td>Tennis Court 1</td></tr><tr><td>Nancy Dare</td><td>Tennis Court 2</td></tr><tr><td>Ponder Stibbons</td><td>Tennis Court 1</td></tr><tr><td>Ponder Stibbons</td><td>Tennis Court 2</td></tr><tr><td>Ramnaresh Sarwin</td><td>Tennis Court 1</td></tr><tr><td>Ramnaresh Sarwin</td><td>Tennis Court 2</td></tr><tr><td>Tim Boothe</td><td>Tennis Court 1</td></tr><tr><td>Tim Boothe</td><td>Tennis Court 2</td></tr><tr><td>Tim Rownam</td><td>Tennis Court 1</td></tr><tr><td>Tim Rownam</td><td>Tennis Court 2</td></tr><tr><td>Timothy Baker</td><td>Tennis Court 1</td></tr><tr><td>Timothy Baker</td><td>Tennis Court 2</td></tr><tr><td>Tracy Smith</td><td>Tennis Court 1</td></tr><tr><td>Tracy Smith</td><td>Tennis Court 2</td></tr></tbody></table></div>"
      ]
     },
     "metadata": {
      "application/vnd.databricks.v1+output": {
       "addedWidgets": {},
       "aggData": [],
       "aggError": "",
       "aggOverflow": false,
       "aggSchema": [],
       "aggSeriesLimitReached": false,
       "aggType": "",
       "arguments": {},
       "columnCustomDisplayInfos": {},
       "data": [
        [
         "Anne Baker",
         "Tennis Court 1"
        ],
        [
         "Anne Baker",
         "Tennis Court 2"
        ],
        [
         "Burton Tracy",
         "Tennis Court 1"
        ],
        [
         "Burton Tracy",
         "Tennis Court 2"
        ],
        [
         "Charles Owen",
         "Tennis Court 1"
        ],
        [
         "Charles Owen",
         "Tennis Court 2"
        ],
        [
         "Darren Smith",
         "Tennis Court 2"
        ],
        [
         "David Farrell",
         "Tennis Court 1"
        ],
        [
         "David Farrell",
         "Tennis Court 2"
        ],
        [
         "David Jones",
         "Tennis Court 1"
        ],
        [
         "David Jones",
         "Tennis Court 2"
        ],
        [
         "David Pinker",
         "Tennis Court 1"
        ],
        [
         "Douglas Jones",
         "Tennis Court 1"
        ],
        [
         "Erica Crumpet",
         "Tennis Court 1"
        ],
        [
         "Florence Bader",
         "Tennis Court 1"
        ],
        [
         "Florence Bader",
         "Tennis Court 2"
        ],
        [
         "GUEST GUEST",
         "Tennis Court 1"
        ],
        [
         "GUEST GUEST",
         "Tennis Court 2"
        ],
        [
         "Gerald Butters",
         "Tennis Court 1"
        ],
        [
         "Gerald Butters",
         "Tennis Court 2"
        ],
        [
         "Henrietta Rumney",
         "Tennis Court 2"
        ],
        [
         "Jack Smith",
         "Tennis Court 1"
        ],
        [
         "Jack Smith",
         "Tennis Court 2"
        ],
        [
         "Janice Joplette",
         "Tennis Court 1"
        ],
        [
         "Janice Joplette",
         "Tennis Court 2"
        ],
        [
         "Jemima Farrell",
         "Tennis Court 1"
        ],
        [
         "Jemima Farrell",
         "Tennis Court 2"
        ],
        [
         "Joan Coplin",
         "Tennis Court 1"
        ],
        [
         "John Hunt",
         "Tennis Court 1"
        ],
        [
         "John Hunt",
         "Tennis Court 2"
        ],
        [
         "Matthew Genting",
         "Tennis Court 1"
        ],
        [
         "Millicent Purview",
         "Tennis Court 2"
        ],
        [
         "Nancy Dare",
         "Tennis Court 1"
        ],
        [
         "Nancy Dare",
         "Tennis Court 2"
        ],
        [
         "Ponder Stibbons",
         "Tennis Court 1"
        ],
        [
         "Ponder Stibbons",
         "Tennis Court 2"
        ],
        [
         "Ramnaresh Sarwin",
         "Tennis Court 1"
        ],
        [
         "Ramnaresh Sarwin",
         "Tennis Court 2"
        ],
        [
         "Tim Boothe",
         "Tennis Court 1"
        ],
        [
         "Tim Boothe",
         "Tennis Court 2"
        ],
        [
         "Tim Rownam",
         "Tennis Court 1"
        ],
        [
         "Tim Rownam",
         "Tennis Court 2"
        ],
        [
         "Timothy Baker",
         "Tennis Court 1"
        ],
        [
         "Timothy Baker",
         "Tennis Court 2"
        ],
        [
         "Tracy Smith",
         "Tennis Court 1"
        ],
        [
         "Tracy Smith",
         "Tennis Court 2"
        ]
       ],
       "datasetInfos": [],
       "dbfsResultPath": null,
       "isJsonSchema": true,
       "metadata": {},
       "overflow": false,
       "plotOptions": {
        "customPlotOptions": {},
        "displayType": "table",
        "pivotAggregation": null,
        "pivotColumns": null,
        "xColumns": null,
        "yColumns": null
       },
       "removedWidgets": [],
       "schema": [
        {
         "metadata": "{}",
         "name": "member",
         "type": "\"string\""
        },
        {
         "metadata": "{}",
         "name": "facility",
         "type": "\"string\""
        }
       ],
       "type": "table"
      }
     },
     "output_type": "display_data"
    }
   ],
   "source": [
    "%sql\n",
    "SELECT DISTINCT m.firstname || ' ' || m.surname AS member, f.name as facility\n",
    "FROM members m\n",
    "JOIN bookings b ON m.memid = b.memid\n",
    "JOIN facilities f ON b.facid = f.facid\n",
    "WHERE f.name LIKE 'Tennis Court%'\n",
    "ORDER BY member, facility;"
   ]
  },
  {
   "cell_type": "code",
   "execution_count": 0,
   "metadata": {
    "application/vnd.databricks.v1+cell": {
     "cellMetadata": {
      "byteLimit": 2048000,
      "implicitDf": true,
      "rowLimit": 10000
     },
     "inputWidgets": {},
     "nuid": "281e41d0-f726-43f7-9149-449fbab55649",
     "showTitle": false,
     "tableResultSettingsMap": {},
     "title": ""
    }
   },
   "outputs": [
    {
     "output_type": "display_data",
     "data": {
      "text/html": [
       "<style scoped>\n",
       "  .table-result-container {\n",
       "    max-height: 300px;\n",
       "    overflow: auto;\n",
       "  }\n",
       "  table, th, td {\n",
       "    border: 1px solid black;\n",
       "    border-collapse: collapse;\n",
       "  }\n",
       "  th, td {\n",
       "    padding: 5px;\n",
       "  }\n",
       "  th {\n",
       "    text-align: left;\n",
       "  }\n",
       "</style><div class='table-result-container'><table class='table-result'><thead style='background-color: white'><tr><th>member</th><th>recommender</th></tr></thead><tbody><tr><td>Anna Mackenzie</td><td>Darren Smith</td></tr><tr><td>Anne Baker</td><td>Ponder Stibbons</td></tr><tr><td>Burton Tracy</td><td>null</td></tr><tr><td>Charles Owen</td><td>Darren Smith</td></tr><tr><td>Darren Smith</td><td>null</td></tr><tr><td>David Farrell</td><td>null</td></tr><tr><td>David Jones</td><td>Janice Joplette</td></tr><tr><td>David Pinker</td><td>Jemima Farrell</td></tr><tr><td>Douglas Jones</td><td>David Jones</td></tr><tr><td>Erica Crumpet</td><td>Tracy Smith</td></tr><tr><td>Florence Bader</td><td>Ponder Stibbons</td></tr><tr><td>GUEST GUEST</td><td>null</td></tr><tr><td>Gerald Butters</td><td>Darren Smith</td></tr><tr><td>Henrietta Rumney</td><td>Matthew Genting</td></tr><tr><td>Henry Worthington-Smyth</td><td>Tracy Smith</td></tr><tr><td>Hyacinth Tupperware</td><td>null</td></tr><tr><td>Jack Smith</td><td>Darren Smith</td></tr><tr><td>Janice Joplette</td><td>Darren Smith</td></tr><tr><td>Jemima Farrell</td><td>null</td></tr><tr><td>Joan Coplin</td><td>Timothy Baker</td></tr><tr><td>John Hunt</td><td>Millicent Purview</td></tr><tr><td>Matthew Genting</td><td>Gerald Butters</td></tr><tr><td>Millicent Purview</td><td>Tracy Smith</td></tr><tr><td>Nancy Dare</td><td>Janice Joplette</td></tr><tr><td>Ponder Stibbons</td><td>Burton Tracy</td></tr><tr><td>Ramnaresh Sarwin</td><td>Florence Bader</td></tr><tr><td>Tim Boothe</td><td>Tim Rownam</td></tr><tr><td>Tim Rownam</td><td>null</td></tr><tr><td>Timothy Baker</td><td>Jemima Farrell</td></tr><tr><td>Tracy Smith</td><td>null</td></tr></tbody></table></div>"
      ]
     },
     "metadata": {
      "application/vnd.databricks.v1+output": {
       "addedWidgets": {},
       "aggData": [],
       "aggError": "",
       "aggOverflow": false,
       "aggSchema": [],
       "aggSeriesLimitReached": false,
       "aggType": "",
       "arguments": {},
       "columnCustomDisplayInfos": {},
       "data": [
        [
         "Anna Mackenzie",
         "Darren Smith"
        ],
        [
         "Anne Baker",
         "Ponder Stibbons"
        ],
        [
         "Burton Tracy",
         null
        ],
        [
         "Charles Owen",
         "Darren Smith"
        ],
        [
         "Darren Smith",
         null
        ],
        [
         "David Farrell",
         null
        ],
        [
         "David Jones",
         "Janice Joplette"
        ],
        [
         "David Pinker",
         "Jemima Farrell"
        ],
        [
         "Douglas Jones",
         "David Jones"
        ],
        [
         "Erica Crumpet",
         "Tracy Smith"
        ],
        [
         "Florence Bader",
         "Ponder Stibbons"
        ],
        [
         "GUEST GUEST",
         null
        ],
        [
         "Gerald Butters",
         "Darren Smith"
        ],
        [
         "Henrietta Rumney",
         "Matthew Genting"
        ],
        [
         "Henry Worthington-Smyth",
         "Tracy Smith"
        ],
        [
         "Hyacinth Tupperware",
         null
        ],
        [
         "Jack Smith",
         "Darren Smith"
        ],
        [
         "Janice Joplette",
         "Darren Smith"
        ],
        [
         "Jemima Farrell",
         null
        ],
        [
         "Joan Coplin",
         "Timothy Baker"
        ],
        [
         "John Hunt",
         "Millicent Purview"
        ],
        [
         "Matthew Genting",
         "Gerald Butters"
        ],
        [
         "Millicent Purview",
         "Tracy Smith"
        ],
        [
         "Nancy Dare",
         "Janice Joplette"
        ],
        [
         "Ponder Stibbons",
         "Burton Tracy"
        ],
        [
         "Ramnaresh Sarwin",
         "Florence Bader"
        ],
        [
         "Tim Boothe",
         "Tim Rownam"
        ],
        [
         "Tim Rownam",
         null
        ],
        [
         "Timothy Baker",
         "Jemima Farrell"
        ],
        [
         "Tracy Smith",
         null
        ]
       ],
       "datasetInfos": [],
       "dbfsResultPath": null,
       "isJsonSchema": true,
       "metadata": {},
       "overflow": false,
       "plotOptions": {
        "customPlotOptions": {},
        "displayType": "table",
        "pivotAggregation": null,
        "pivotColumns": null,
        "xColumns": null,
        "yColumns": null
       },
       "removedWidgets": [],
       "schema": [
        {
         "metadata": "{}",
         "name": "member",
         "type": "\"string\""
        },
        {
         "metadata": "{}",
         "name": "recommender",
         "type": "\"string\""
        }
       ],
       "type": "table"
      }
     },
     "output_type": "display_data"
    }
   ],
   "source": [
    "%sql\n",
    "SELECT DISTINCT \n",
    "    m.firstname || ' ' || m.surname AS member,\n",
    "    r.firstname || ' ' || r.surname AS recommender\n",
    "FROM members m\n",
    "LEFT JOIN members r ON r.memid = m.recommendedby\n",
    "ORDER BY member;"
   ]
  },
  {
   "cell_type": "markdown",
   "metadata": {
    "application/vnd.databricks.v1+cell": {
     "cellMetadata": {},
     "inputWidgets": {},
     "nuid": "17f092b6-ea4a-4b86-8701-9c584506f9d1",
     "showTitle": false,
     "tableResultSettingsMap": {},
     "title": ""
    }
   },
   "source": [
    "\n",
    "## Aggregation"
   ]
  },
  {
   "cell_type": "code",
   "execution_count": 0,
   "metadata": {
    "application/vnd.databricks.v1+cell": {
     "cellMetadata": {
      "byteLimit": 2048000,
      "implicitDf": true,
      "rowLimit": 10000
     },
     "inputWidgets": {},
     "nuid": "9e22c5f5-56fa-4e32-8414-97c989b18177",
     "showTitle": false,
     "tableResultSettingsMap": {},
     "title": ""
    }
   },
   "outputs": [
    {
     "output_type": "display_data",
     "data": {
      "text/html": [
       "<style scoped>\n",
       "  .table-result-container {\n",
       "    max-height: 300px;\n",
       "    overflow: auto;\n",
       "  }\n",
       "  table, th, td {\n",
       "    border: 1px solid black;\n",
       "    border-collapse: collapse;\n",
       "  }\n",
       "  th, td {\n",
       "    padding: 5px;\n",
       "  }\n",
       "  th {\n",
       "    text-align: left;\n",
       "  }\n",
       "</style><div class='table-result-container'><table class='table-result'><thead style='background-color: white'><tr><th>recommendedby</th><th>count(1)</th></tr></thead><tbody><tr><td>1</td><td>5</td></tr><tr><td>2</td><td>3</td></tr><tr><td>3</td><td>1</td></tr><tr><td>4</td><td>2</td></tr><tr><td>5</td><td>1</td></tr><tr><td>6</td><td>1</td></tr><tr><td>9</td><td>2</td></tr><tr><td>11</td><td>1</td></tr><tr><td>13</td><td>2</td></tr><tr><td>15</td><td>1</td></tr><tr><td>16</td><td>1</td></tr><tr><td>20</td><td>1</td></tr><tr><td>30</td><td>1</td></tr></tbody></table></div>"
      ]
     },
     "metadata": {
      "application/vnd.databricks.v1+output": {
       "addedWidgets": {},
       "aggData": [],
       "aggError": "",
       "aggOverflow": false,
       "aggSchema": [],
       "aggSeriesLimitReached": false,
       "aggType": "",
       "arguments": {},
       "columnCustomDisplayInfos": {},
       "data": [
        [
         1,
         5
        ],
        [
         2,
         3
        ],
        [
         3,
         1
        ],
        [
         4,
         2
        ],
        [
         5,
         1
        ],
        [
         6,
         1
        ],
        [
         9,
         2
        ],
        [
         11,
         1
        ],
        [
         13,
         2
        ],
        [
         15,
         1
        ],
        [
         16,
         1
        ],
        [
         20,
         1
        ],
        [
         30,
         1
        ]
       ],
       "datasetInfos": [],
       "dbfsResultPath": null,
       "isJsonSchema": true,
       "metadata": {},
       "overflow": false,
       "plotOptions": {
        "customPlotOptions": {},
        "displayType": "table",
        "pivotAggregation": null,
        "pivotColumns": null,
        "xColumns": null,
        "yColumns": null
       },
       "removedWidgets": [],
       "schema": [
        {
         "metadata": "{}",
         "name": "recommendedby",
         "type": "\"integer\""
        },
        {
         "metadata": "{\"__autoGeneratedAlias\":\"true\"}",
         "name": "count(1)",
         "type": "\"long\""
        }
       ],
       "type": "table"
      }
     },
     "output_type": "display_data"
    }
   ],
   "source": [
    "%sql\n",
    "SELECT m.recommendedby, COUNT(*)\n",
    "FROM members as m\n",
    "WHERE recommendedby is not null\n",
    "GROUP BY recommendedby\n",
    "ORDER BY recommendedby;"
   ]
  },
  {
   "cell_type": "code",
   "execution_count": 0,
   "metadata": {
    "application/vnd.databricks.v1+cell": {
     "cellMetadata": {
      "byteLimit": 2048000,
      "implicitDf": true,
      "rowLimit": 10000
     },
     "inputWidgets": {},
     "nuid": "0c96ba16-99ea-4671-8326-0683c776bb42",
     "showTitle": false,
     "tableResultSettingsMap": {},
     "title": ""
    }
   },
   "outputs": [
    {
     "output_type": "display_data",
     "data": {
      "text/html": [
       "<style scoped>\n",
       "  .table-result-container {\n",
       "    max-height: 300px;\n",
       "    overflow: auto;\n",
       "  }\n",
       "  table, th, td {\n",
       "    border: 1px solid black;\n",
       "    border-collapse: collapse;\n",
       "  }\n",
       "  th, td {\n",
       "    padding: 5px;\n",
       "  }\n",
       "  th {\n",
       "    text-align: left;\n",
       "  }\n",
       "</style><div class='table-result-container'><table class='table-result'><thead style='background-color: white'><tr><th>facid</th><th>total_slots</th></tr></thead><tbody><tr><td>0</td><td>1320</td></tr><tr><td>1</td><td>1278</td></tr><tr><td>2</td><td>1209</td></tr><tr><td>3</td><td>830</td></tr><tr><td>4</td><td>1404</td></tr><tr><td>5</td><td>228</td></tr><tr><td>6</td><td>1104</td></tr><tr><td>7</td><td>908</td></tr><tr><td>8</td><td>911</td></tr></tbody></table></div>"
      ]
     },
     "metadata": {
      "application/vnd.databricks.v1+output": {
       "addedWidgets": {},
       "aggData": [],
       "aggError": "",
       "aggOverflow": false,
       "aggSchema": [],
       "aggSeriesLimitReached": false,
       "aggType": "",
       "arguments": {},
       "columnCustomDisplayInfos": {},
       "data": [
        [
         0,
         1320
        ],
        [
         1,
         1278
        ],
        [
         2,
         1209
        ],
        [
         3,
         830
        ],
        [
         4,
         1404
        ],
        [
         5,
         228
        ],
        [
         6,
         1104
        ],
        [
         7,
         908
        ],
        [
         8,
         911
        ]
       ],
       "datasetInfos": [],
       "dbfsResultPath": null,
       "isJsonSchema": true,
       "metadata": {},
       "overflow": false,
       "plotOptions": {
        "customPlotOptions": {},
        "displayType": "table",
        "pivotAggregation": null,
        "pivotColumns": null,
        "xColumns": null,
        "yColumns": null
       },
       "removedWidgets": [],
       "schema": [
        {
         "metadata": "{}",
         "name": "facid",
         "type": "\"integer\""
        },
        {
         "metadata": "{}",
         "name": "total_slots",
         "type": "\"long\""
        }
       ],
       "type": "table"
      }
     },
     "output_type": "display_data"
    }
   ],
   "source": [
    "%sql\n",
    "SELECT b.facid, SUM(slots) AS total_slots\n",
    "FROM bookings as b\n",
    "GROUP BY b.facid\n",
    "ORDER BY b.facid;"
   ]
  },
  {
   "cell_type": "code",
   "execution_count": 0,
   "metadata": {
    "application/vnd.databricks.v1+cell": {
     "cellMetadata": {
      "byteLimit": 2048000,
      "implicitDf": true,
      "rowLimit": 10000
     },
     "inputWidgets": {},
     "nuid": "cffe30c1-2e89-426a-8da8-638de5fc5491",
     "showTitle": false,
     "tableResultSettingsMap": {},
     "title": ""
    }
   },
   "outputs": [
    {
     "output_type": "display_data",
     "data": {
      "text/html": [
       "<style scoped>\n",
       "  .table-result-container {\n",
       "    max-height: 300px;\n",
       "    overflow: auto;\n",
       "  }\n",
       "  table, th, td {\n",
       "    border: 1px solid black;\n",
       "    border-collapse: collapse;\n",
       "  }\n",
       "  th, td {\n",
       "    padding: 5px;\n",
       "  }\n",
       "  th {\n",
       "    text-align: left;\n",
       "  }\n",
       "</style><div class='table-result-container'><table class='table-result'><thead style='background-color: white'><tr><th>facid</th><th>total_slots</th></tr></thead><tbody><tr><td>5</td><td>122</td></tr><tr><td>3</td><td>422</td></tr><tr><td>7</td><td>426</td></tr><tr><td>8</td><td>471</td></tr><tr><td>6</td><td>540</td></tr><tr><td>2</td><td>570</td></tr><tr><td>1</td><td>588</td></tr><tr><td>0</td><td>591</td></tr><tr><td>4</td><td>648</td></tr></tbody></table></div>"
      ]
     },
     "metadata": {
      "application/vnd.databricks.v1+output": {
       "addedWidgets": {},
       "aggData": [],
       "aggError": "",
       "aggOverflow": false,
       "aggSchema": [],
       "aggSeriesLimitReached": false,
       "aggType": "",
       "arguments": {},
       "columnCustomDisplayInfos": {},
       "data": [
        [
         5,
         122
        ],
        [
         3,
         422
        ],
        [
         7,
         426
        ],
        [
         8,
         471
        ],
        [
         6,
         540
        ],
        [
         2,
         570
        ],
        [
         1,
         588
        ],
        [
         0,
         591
        ],
        [
         4,
         648
        ]
       ],
       "datasetInfos": [],
       "dbfsResultPath": null,
       "isJsonSchema": true,
       "metadata": {},
       "overflow": false,
       "plotOptions": {
        "customPlotOptions": {},
        "displayType": "table",
        "pivotAggregation": null,
        "pivotColumns": null,
        "xColumns": null,
        "yColumns": null
       },
       "removedWidgets": [],
       "schema": [
        {
         "metadata": "{}",
         "name": "facid",
         "type": "\"integer\""
        },
        {
         "metadata": "{}",
         "name": "total_slots",
         "type": "\"long\""
        }
       ],
       "type": "table"
      }
     },
     "output_type": "display_data"
    }
   ],
   "source": [
    "%sql\n",
    "SELECT b.facid, SUM(b.slots) AS total_slots\n",
    "FROM bookings AS b\n",
    "WHERE b.starttime >= '2012-09-01' AND b.starttime < '2012-10-01'\n",
    "GROUP BY b.facid\n",
    "ORDER BY total_slots ASC;"
   ]
  },
  {
   "cell_type": "code",
   "execution_count": 0,
   "metadata": {
    "application/vnd.databricks.v1+cell": {
     "cellMetadata": {
      "byteLimit": 2048000,
      "implicitDf": true,
      "rowLimit": 10000
     },
     "inputWidgets": {},
     "nuid": "fa52e169-c369-435c-807a-e59578edbdd9",
     "showTitle": false,
     "tableResultSettingsMap": {},
     "title": ""
    }
   },
   "outputs": [
    {
     "output_type": "display_data",
     "data": {
      "text/html": [
       "<style scoped>\n",
       "  .table-result-container {\n",
       "    max-height: 300px;\n",
       "    overflow: auto;\n",
       "  }\n",
       "  table, th, td {\n",
       "    border: 1px solid black;\n",
       "    border-collapse: collapse;\n",
       "  }\n",
       "  th, td {\n",
       "    padding: 5px;\n",
       "  }\n",
       "  th {\n",
       "    text-align: left;\n",
       "  }\n",
       "</style><div class='table-result-container'><table class='table-result'><thead style='background-color: white'><tr><th>facid</th><th>month</th><th>total_slots</th></tr></thead><tbody><tr><td>0</td><td>7</td><td>270</td></tr><tr><td>0</td><td>8</td><td>459</td></tr><tr><td>0</td><td>9</td><td>591</td></tr><tr><td>1</td><td>7</td><td>207</td></tr><tr><td>1</td><td>8</td><td>483</td></tr><tr><td>1</td><td>9</td><td>588</td></tr><tr><td>2</td><td>7</td><td>180</td></tr><tr><td>2</td><td>8</td><td>459</td></tr><tr><td>2</td><td>9</td><td>570</td></tr><tr><td>3</td><td>7</td><td>104</td></tr><tr><td>3</td><td>8</td><td>304</td></tr><tr><td>3</td><td>9</td><td>422</td></tr><tr><td>4</td><td>7</td><td>264</td></tr><tr><td>4</td><td>8</td><td>492</td></tr><tr><td>4</td><td>9</td><td>648</td></tr><tr><td>5</td><td>7</td><td>24</td></tr><tr><td>5</td><td>8</td><td>82</td></tr><tr><td>5</td><td>9</td><td>122</td></tr><tr><td>6</td><td>7</td><td>164</td></tr><tr><td>6</td><td>8</td><td>400</td></tr><tr><td>6</td><td>9</td><td>540</td></tr><tr><td>7</td><td>7</td><td>156</td></tr><tr><td>7</td><td>8</td><td>326</td></tr><tr><td>7</td><td>9</td><td>426</td></tr><tr><td>8</td><td>7</td><td>117</td></tr><tr><td>8</td><td>8</td><td>322</td></tr><tr><td>8</td><td>9</td><td>471</td></tr></tbody></table></div>"
      ]
     },
     "metadata": {
      "application/vnd.databricks.v1+output": {
       "addedWidgets": {},
       "aggData": [],
       "aggError": "",
       "aggOverflow": false,
       "aggSchema": [],
       "aggSeriesLimitReached": false,
       "aggType": "",
       "arguments": {},
       "columnCustomDisplayInfos": {},
       "data": [
        [
         0,
         7,
         270
        ],
        [
         0,
         8,
         459
        ],
        [
         0,
         9,
         591
        ],
        [
         1,
         7,
         207
        ],
        [
         1,
         8,
         483
        ],
        [
         1,
         9,
         588
        ],
        [
         2,
         7,
         180
        ],
        [
         2,
         8,
         459
        ],
        [
         2,
         9,
         570
        ],
        [
         3,
         7,
         104
        ],
        [
         3,
         8,
         304
        ],
        [
         3,
         9,
         422
        ],
        [
         4,
         7,
         264
        ],
        [
         4,
         8,
         492
        ],
        [
         4,
         9,
         648
        ],
        [
         5,
         7,
         24
        ],
        [
         5,
         8,
         82
        ],
        [
         5,
         9,
         122
        ],
        [
         6,
         7,
         164
        ],
        [
         6,
         8,
         400
        ],
        [
         6,
         9,
         540
        ],
        [
         7,
         7,
         156
        ],
        [
         7,
         8,
         326
        ],
        [
         7,
         9,
         426
        ],
        [
         8,
         7,
         117
        ],
        [
         8,
         8,
         322
        ],
        [
         8,
         9,
         471
        ]
       ],
       "datasetInfos": [],
       "dbfsResultPath": null,
       "isJsonSchema": true,
       "metadata": {},
       "overflow": false,
       "plotOptions": {
        "customPlotOptions": {},
        "displayType": "table",
        "pivotAggregation": null,
        "pivotColumns": null,
        "xColumns": null,
        "yColumns": null
       },
       "removedWidgets": [],
       "schema": [
        {
         "metadata": "{}",
         "name": "facid",
         "type": "\"integer\""
        },
        {
         "metadata": "{}",
         "name": "month",
         "type": "\"integer\""
        },
        {
         "metadata": "{}",
         "name": "total_slots",
         "type": "\"long\""
        }
       ],
       "type": "table"
      }
     },
     "output_type": "display_data"
    }
   ],
   "source": [
    "%sql\n",
    "SELECT b.facid, \n",
    "EXTRACT(MONTH FROM b.starttime) AS month, \n",
    "SUM(b.slots) AS total_slots\n",
    "FROM bookings AS b\n",
    "WHERE EXTRACT(year from starttime) = 2012\n",
    "GROUP BY facid, month\n",
    "ORDER BY facid, month;"
   ]
  },
  {
   "cell_type": "code",
   "execution_count": 0,
   "metadata": {
    "application/vnd.databricks.v1+cell": {
     "cellMetadata": {
      "byteLimit": 2048000,
      "implicitDf": true,
      "rowLimit": 10000
     },
     "inputWidgets": {},
     "nuid": "e77ba396-aea4-4411-a00c-7b6d61ba7cce",
     "showTitle": false,
     "tableResultSettingsMap": {},
     "title": ""
    }
   },
   "outputs": [
    {
     "output_type": "display_data",
     "data": {
      "text/html": [
       "<style scoped>\n",
       "  .table-result-container {\n",
       "    max-height: 300px;\n",
       "    overflow: auto;\n",
       "  }\n",
       "  table, th, td {\n",
       "    border: 1px solid black;\n",
       "    border-collapse: collapse;\n",
       "  }\n",
       "  th, td {\n",
       "    padding: 5px;\n",
       "  }\n",
       "  th {\n",
       "    text-align: left;\n",
       "  }\n",
       "</style><div class='table-result-container'><table class='table-result'><thead style='background-color: white'><tr><th>count</th></tr></thead><tbody><tr><td>30</td></tr></tbody></table></div>"
      ]
     },
     "metadata": {
      "application/vnd.databricks.v1+output": {
       "addedWidgets": {},
       "aggData": [],
       "aggError": "",
       "aggOverflow": false,
       "aggSchema": [],
       "aggSeriesLimitReached": false,
       "aggType": "",
       "arguments": {},
       "columnCustomDisplayInfos": {},
       "data": [
        [
         30
        ]
       ],
       "datasetInfos": [],
       "dbfsResultPath": null,
       "isJsonSchema": true,
       "metadata": {},
       "overflow": false,
       "plotOptions": {
        "customPlotOptions": {},
        "displayType": "table",
        "pivotAggregation": null,
        "pivotColumns": null,
        "xColumns": null,
        "yColumns": null
       },
       "removedWidgets": [],
       "schema": [
        {
         "metadata": "{}",
         "name": "count",
         "type": "\"long\""
        }
       ],
       "type": "table"
      }
     },
     "output_type": "display_data"
    }
   ],
   "source": [
    "%sql\n",
    "SELECT COUNT(DISTINCT b.memid) AS count\n",
    "FROM bookings AS b"
   ]
  },
  {
   "cell_type": "code",
   "execution_count": 0,
   "metadata": {
    "application/vnd.databricks.v1+cell": {
     "cellMetadata": {
      "byteLimit": 2048000,
      "implicitDf": true,
      "rowLimit": 10000
     },
     "inputWidgets": {},
     "nuid": "aa51f3f8-ce8e-49c1-b0eb-eb54b5481a9d",
     "showTitle": false,
     "tableResultSettingsMap": {},
     "title": ""
    }
   },
   "outputs": [
    {
     "output_type": "display_data",
     "data": {
      "text/html": [
       "<style scoped>\n",
       "  .table-result-container {\n",
       "    max-height: 300px;\n",
       "    overflow: auto;\n",
       "  }\n",
       "  table, th, td {\n",
       "    border: 1px solid black;\n",
       "    border-collapse: collapse;\n",
       "  }\n",
       "  th, td {\n",
       "    padding: 5px;\n",
       "  }\n",
       "  th {\n",
       "    text-align: left;\n",
       "  }\n",
       "</style><div class='table-result-container'><table class='table-result'><thead style='background-color: white'><tr><th>surname</th><th>firstname</th><th>memid</th><th>starttime</th></tr></thead><tbody><tr><td>GUEST</td><td>GUEST</td><td>0</td><td>2012-09-01T08:00:00.000+0000</td></tr><tr><td>Smith</td><td>Darren</td><td>1</td><td>2012-09-01T09:00:00.000+0000</td></tr><tr><td>Smith</td><td>Tracy</td><td>2</td><td>2012-09-01T11:30:00.000+0000</td></tr><tr><td>Rownam</td><td>Tim</td><td>3</td><td>2012-09-01T16:00:00.000+0000</td></tr><tr><td>Joplette</td><td>Janice</td><td>4</td><td>2012-09-01T15:00:00.000+0000</td></tr><tr><td>Butters</td><td>Gerald</td><td>5</td><td>2012-09-02T12:30:00.000+0000</td></tr><tr><td>Tracy</td><td>Burton</td><td>6</td><td>2012-09-01T15:00:00.000+0000</td></tr><tr><td>Dare</td><td>Nancy</td><td>7</td><td>2012-09-01T12:30:00.000+0000</td></tr><tr><td>Boothe</td><td>Tim</td><td>8</td><td>2012-09-01T08:30:00.000+0000</td></tr><tr><td>Stibbons</td><td>Ponder</td><td>9</td><td>2012-09-01T11:00:00.000+0000</td></tr><tr><td>Owen</td><td>Charles</td><td>10</td><td>2012-09-01T11:00:00.000+0000</td></tr><tr><td>Jones</td><td>David</td><td>11</td><td>2012-09-01T09:30:00.000+0000</td></tr><tr><td>Baker</td><td>Anne</td><td>12</td><td>2012-09-01T14:30:00.000+0000</td></tr><tr><td>Farrell</td><td>Jemima</td><td>13</td><td>2012-09-01T09:30:00.000+0000</td></tr><tr><td>Smith</td><td>Jack</td><td>14</td><td>2012-09-01T11:00:00.000+0000</td></tr><tr><td>Bader</td><td>Florence</td><td>15</td><td>2012-09-01T10:30:00.000+0000</td></tr><tr><td>Baker</td><td>Timothy</td><td>16</td><td>2012-09-01T15:00:00.000+0000</td></tr><tr><td>Pinker</td><td>David</td><td>17</td><td>2012-09-01T08:30:00.000+0000</td></tr><tr><td>Genting</td><td>Matthew</td><td>20</td><td>2012-09-01T18:00:00.000+0000</td></tr><tr><td>Mackenzie</td><td>Anna</td><td>21</td><td>2012-09-01T08:30:00.000+0000</td></tr><tr><td>Coplin</td><td>Joan</td><td>22</td><td>2012-09-02T11:30:00.000+0000</td></tr><tr><td>Sarwin</td><td>Ramnaresh</td><td>24</td><td>2012-09-04T11:00:00.000+0000</td></tr><tr><td>Jones</td><td>Douglas</td><td>26</td><td>2012-09-08T13:00:00.000+0000</td></tr><tr><td>Rumney</td><td>Henrietta</td><td>27</td><td>2012-09-16T13:30:00.000+0000</td></tr><tr><td>Farrell</td><td>David</td><td>28</td><td>2012-09-18T09:00:00.000+0000</td></tr><tr><td>Worthington-Smyth</td><td>Henry</td><td>29</td><td>2012-09-19T09:30:00.000+0000</td></tr><tr><td>Purview</td><td>Millicent</td><td>30</td><td>2012-09-19T11:30:00.000+0000</td></tr><tr><td>Tupperware</td><td>Hyacinth</td><td>33</td><td>2012-09-20T08:00:00.000+0000</td></tr><tr><td>Hunt</td><td>John</td><td>35</td><td>2012-09-23T14:00:00.000+0000</td></tr><tr><td>Crumpet</td><td>Erica</td><td>36</td><td>2012-09-27T11:30:00.000+0000</td></tr></tbody></table></div>"
      ]
     },
     "metadata": {
      "application/vnd.databricks.v1+output": {
       "addedWidgets": {},
       "aggData": [],
       "aggError": "",
       "aggOverflow": false,
       "aggSchema": [],
       "aggSeriesLimitReached": false,
       "aggType": "",
       "arguments": {},
       "columnCustomDisplayInfos": {},
       "data": [
        [
         "GUEST",
         "GUEST",
         0,
         "2012-09-01T08:00:00.000+0000"
        ],
        [
         "Smith",
         "Darren",
         1,
         "2012-09-01T09:00:00.000+0000"
        ],
        [
         "Smith",
         "Tracy",
         2,
         "2012-09-01T11:30:00.000+0000"
        ],
        [
         "Rownam",
         "Tim",
         3,
         "2012-09-01T16:00:00.000+0000"
        ],
        [
         "Joplette",
         "Janice",
         4,
         "2012-09-01T15:00:00.000+0000"
        ],
        [
         "Butters",
         "Gerald",
         5,
         "2012-09-02T12:30:00.000+0000"
        ],
        [
         "Tracy",
         "Burton",
         6,
         "2012-09-01T15:00:00.000+0000"
        ],
        [
         "Dare",
         "Nancy",
         7,
         "2012-09-01T12:30:00.000+0000"
        ],
        [
         "Boothe",
         "Tim",
         8,
         "2012-09-01T08:30:00.000+0000"
        ],
        [
         "Stibbons",
         "Ponder",
         9,
         "2012-09-01T11:00:00.000+0000"
        ],
        [
         "Owen",
         "Charles",
         10,
         "2012-09-01T11:00:00.000+0000"
        ],
        [
         "Jones",
         "David",
         11,
         "2012-09-01T09:30:00.000+0000"
        ],
        [
         "Baker",
         "Anne",
         12,
         "2012-09-01T14:30:00.000+0000"
        ],
        [
         "Farrell",
         "Jemima",
         13,
         "2012-09-01T09:30:00.000+0000"
        ],
        [
         "Smith",
         "Jack",
         14,
         "2012-09-01T11:00:00.000+0000"
        ],
        [
         "Bader",
         "Florence",
         15,
         "2012-09-01T10:30:00.000+0000"
        ],
        [
         "Baker",
         "Timothy",
         16,
         "2012-09-01T15:00:00.000+0000"
        ],
        [
         "Pinker",
         "David",
         17,
         "2012-09-01T08:30:00.000+0000"
        ],
        [
         "Genting",
         "Matthew",
         20,
         "2012-09-01T18:00:00.000+0000"
        ],
        [
         "Mackenzie",
         "Anna",
         21,
         "2012-09-01T08:30:00.000+0000"
        ],
        [
         "Coplin",
         "Joan",
         22,
         "2012-09-02T11:30:00.000+0000"
        ],
        [
         "Sarwin",
         "Ramnaresh",
         24,
         "2012-09-04T11:00:00.000+0000"
        ],
        [
         "Jones",
         "Douglas",
         26,
         "2012-09-08T13:00:00.000+0000"
        ],
        [
         "Rumney",
         "Henrietta",
         27,
         "2012-09-16T13:30:00.000+0000"
        ],
        [
         "Farrell",
         "David",
         28,
         "2012-09-18T09:00:00.000+0000"
        ],
        [
         "Worthington-Smyth",
         "Henry",
         29,
         "2012-09-19T09:30:00.000+0000"
        ],
        [
         "Purview",
         "Millicent",
         30,
         "2012-09-19T11:30:00.000+0000"
        ],
        [
         "Tupperware",
         "Hyacinth",
         33,
         "2012-09-20T08:00:00.000+0000"
        ],
        [
         "Hunt",
         "John",
         35,
         "2012-09-23T14:00:00.000+0000"
        ],
        [
         "Crumpet",
         "Erica",
         36,
         "2012-09-27T11:30:00.000+0000"
        ]
       ],
       "datasetInfos": [],
       "dbfsResultPath": null,
       "isJsonSchema": true,
       "metadata": {},
       "overflow": false,
       "plotOptions": {
        "customPlotOptions": {},
        "displayType": "table",
        "pivotAggregation": null,
        "pivotColumns": null,
        "xColumns": null,
        "yColumns": null
       },
       "removedWidgets": [],
       "schema": [
        {
         "metadata": "{}",
         "name": "surname",
         "type": "\"string\""
        },
        {
         "metadata": "{}",
         "name": "firstname",
         "type": "\"string\""
        },
        {
         "metadata": "{}",
         "name": "memid",
         "type": "\"integer\""
        },
        {
         "metadata": "{}",
         "name": "starttime",
         "type": "\"timestamp\""
        }
       ],
       "type": "table"
      }
     },
     "output_type": "display_data"
    }
   ],
   "source": [
    "%sql\n",
    "SELECT m.surname, m.firstname, m.memid, MIN(b.starttime) AS starttime\n",
    "FROM bookings b\n",
    "INNER JOIN members m on m.memid = b.memid\n",
    "WHERE starttime >= '2012-09-01'\n",
    "GROUP BY m.surname, m.firstname, m.memid\n",
    "ORDER BY m.memid; "
   ]
  },
  {
   "cell_type": "markdown",
   "metadata": {
    "application/vnd.databricks.v1+cell": {
     "cellMetadata": {},
     "inputWidgets": {},
     "nuid": "8125d173-81ac-4338-bad3-234de831285b",
     "showTitle": false,
     "tableResultSettingsMap": {},
     "title": ""
    }
   },
   "source": [
    "\n",
    "## String & Date"
   ]
  },
  {
   "cell_type": "code",
   "execution_count": 0,
   "metadata": {
    "application/vnd.databricks.v1+cell": {
     "cellMetadata": {
      "byteLimit": 2048000,
      "implicitDf": true,
      "rowLimit": 10000
     },
     "inputWidgets": {},
     "nuid": "7d236b98-0aaf-4cfc-b848-1c78c1a24537",
     "showTitle": false,
     "tableResultSettingsMap": {},
     "title": ""
    }
   },
   "outputs": [
    {
     "output_type": "display_data",
     "data": {
      "text/html": [
       "<style scoped>\n",
       "  .table-result-container {\n",
       "    max-height: 300px;\n",
       "    overflow: auto;\n",
       "  }\n",
       "  table, th, td {\n",
       "    border: 1px solid black;\n",
       "    border-collapse: collapse;\n",
       "  }\n",
       "  th, td {\n",
       "    padding: 5px;\n",
       "  }\n",
       "  th {\n",
       "    text-align: left;\n",
       "  }\n",
       "</style><div class='table-result-container'><table class='table-result'><thead style='background-color: white'><tr><th>name</th></tr></thead><tbody><tr><td>GUEST, GUEST</td></tr><tr><td>Smith, Darren</td></tr><tr><td>Smith, Tracy</td></tr><tr><td>Rownam, Tim</td></tr><tr><td>Joplette, Janice</td></tr><tr><td>Butters, Gerald</td></tr><tr><td>Tracy, Burton</td></tr><tr><td>Dare, Nancy</td></tr><tr><td>Boothe, Tim</td></tr><tr><td>Stibbons, Ponder</td></tr><tr><td>Owen, Charles</td></tr><tr><td>Jones, David</td></tr><tr><td>Baker, Anne</td></tr><tr><td>Farrell, Jemima</td></tr><tr><td>Smith, Jack</td></tr><tr><td>Bader, Florence</td></tr><tr><td>Baker, Timothy</td></tr><tr><td>Pinker, David</td></tr><tr><td>Genting, Matthew</td></tr><tr><td>Mackenzie, Anna</td></tr><tr><td>Coplin, Joan</td></tr><tr><td>Sarwin, Ramnaresh</td></tr><tr><td>Jones, Douglas</td></tr><tr><td>Rumney, Henrietta</td></tr><tr><td>Farrell, David</td></tr><tr><td>Worthington-Smyth, Henry</td></tr><tr><td>Purview, Millicent</td></tr><tr><td>Tupperware, Hyacinth</td></tr><tr><td>Hunt, John</td></tr><tr><td>Crumpet, Erica</td></tr><tr><td>Smith, Darren</td></tr></tbody></table></div>"
      ]
     },
     "metadata": {
      "application/vnd.databricks.v1+output": {
       "addedWidgets": {},
       "aggData": [],
       "aggError": "",
       "aggOverflow": false,
       "aggSchema": [],
       "aggSeriesLimitReached": false,
       "aggType": "",
       "arguments": {},
       "columnCustomDisplayInfos": {},
       "data": [
        [
         "GUEST, GUEST"
        ],
        [
         "Smith, Darren"
        ],
        [
         "Smith, Tracy"
        ],
        [
         "Rownam, Tim"
        ],
        [
         "Joplette, Janice"
        ],
        [
         "Butters, Gerald"
        ],
        [
         "Tracy, Burton"
        ],
        [
         "Dare, Nancy"
        ],
        [
         "Boothe, Tim"
        ],
        [
         "Stibbons, Ponder"
        ],
        [
         "Owen, Charles"
        ],
        [
         "Jones, David"
        ],
        [
         "Baker, Anne"
        ],
        [
         "Farrell, Jemima"
        ],
        [
         "Smith, Jack"
        ],
        [
         "Bader, Florence"
        ],
        [
         "Baker, Timothy"
        ],
        [
         "Pinker, David"
        ],
        [
         "Genting, Matthew"
        ],
        [
         "Mackenzie, Anna"
        ],
        [
         "Coplin, Joan"
        ],
        [
         "Sarwin, Ramnaresh"
        ],
        [
         "Jones, Douglas"
        ],
        [
         "Rumney, Henrietta"
        ],
        [
         "Farrell, David"
        ],
        [
         "Worthington-Smyth, Henry"
        ],
        [
         "Purview, Millicent"
        ],
        [
         "Tupperware, Hyacinth"
        ],
        [
         "Hunt, John"
        ],
        [
         "Crumpet, Erica"
        ],
        [
         "Smith, Darren"
        ]
       ],
       "datasetInfos": [],
       "dbfsResultPath": null,
       "isJsonSchema": true,
       "metadata": {},
       "overflow": false,
       "plotOptions": {
        "customPlotOptions": {},
        "displayType": "table",
        "pivotAggregation": null,
        "pivotColumns": null,
        "xColumns": null,
        "yColumns": null
       },
       "removedWidgets": [],
       "schema": [
        {
         "metadata": "{}",
         "name": "name",
         "type": "\"string\""
        }
       ],
       "type": "table"
      }
     },
     "output_type": "display_data"
    }
   ],
   "source": [
    "%sql\n",
    "SELECT m.surname || ', ' || m.firstname AS name\n",
    "FROM members AS m"
   ]
  },
  {
   "cell_type": "code",
   "execution_count": 0,
   "metadata": {
    "application/vnd.databricks.v1+cell": {
     "cellMetadata": {
      "byteLimit": 2048000,
      "implicitDf": true,
      "rowLimit": 10000
     },
     "inputWidgets": {},
     "nuid": "f8bd5855-d6ba-4015-a396-27af36b9bfe8",
     "showTitle": false,
     "tableResultSettingsMap": {},
     "title": ""
    }
   },
   "outputs": [
    {
     "output_type": "display_data",
     "data": {
      "text/html": [
       "<style scoped>\n",
       "  .table-result-container {\n",
       "    max-height: 300px;\n",
       "    overflow: auto;\n",
       "  }\n",
       "  table, th, td {\n",
       "    border: 1px solid black;\n",
       "    border-collapse: collapse;\n",
       "  }\n",
       "  th, td {\n",
       "    padding: 5px;\n",
       "  }\n",
       "  th {\n",
       "    text-align: left;\n",
       "  }\n",
       "</style><div class='table-result-container'><table class='table-result'><thead style='background-color: white'><tr><th>facid</th><th>name</th><th>membercost</th><th>guestcost</th><th>initialoutlay</th><th>monthlymaintenance</th></tr></thead><tbody><tr><td>0</td><td>Tennis Court 1</td><td>5.0</td><td>25.0</td><td>10000</td><td>200</td></tr><tr><td>1</td><td>Tennis Court 2</td><td>5.0</td><td>25.0</td><td>8000</td><td>200</td></tr></tbody></table></div>"
      ]
     },
     "metadata": {
      "application/vnd.databricks.v1+output": {
       "addedWidgets": {},
       "aggData": [],
       "aggError": "",
       "aggOverflow": false,
       "aggSchema": [],
       "aggSeriesLimitReached": false,
       "aggType": "",
       "arguments": {},
       "columnCustomDisplayInfos": {},
       "data": [
        [
         0,
         "Tennis Court 1",
         5.0,
         25.0,
         10000,
         200
        ],
        [
         1,
         "Tennis Court 2",
         5.0,
         25.0,
         8000,
         200
        ]
       ],
       "datasetInfos": [],
       "dbfsResultPath": null,
       "isJsonSchema": true,
       "metadata": {},
       "overflow": false,
       "plotOptions": {
        "customPlotOptions": {},
        "displayType": "table",
        "pivotAggregation": null,
        "pivotColumns": null,
        "xColumns": null,
        "yColumns": null
       },
       "removedWidgets": [],
       "schema": [
        {
         "metadata": "{}",
         "name": "facid",
         "type": "\"integer\""
        },
        {
         "metadata": "{}",
         "name": "name",
         "type": "\"string\""
        },
        {
         "metadata": "{}",
         "name": "membercost",
         "type": "\"double\""
        },
        {
         "metadata": "{}",
         "name": "guestcost",
         "type": "\"double\""
        },
        {
         "metadata": "{}",
         "name": "initialoutlay",
         "type": "\"integer\""
        },
        {
         "metadata": "{}",
         "name": "monthlymaintenance",
         "type": "\"integer\""
        }
       ],
       "type": "table"
      }
     },
     "output_type": "display_data"
    }
   ],
   "source": [
    "%sql\n",
    "SELECT * \n",
    "FROM facilities \n",
    "WHERE upper(name) LIKE 'TENNIS%';  "
   ]
  },
  {
   "cell_type": "code",
   "execution_count": 0,
   "metadata": {
    "application/vnd.databricks.v1+cell": {
     "cellMetadata": {
      "byteLimit": 2048000,
      "implicitDf": true,
      "rowLimit": 10000
     },
     "inputWidgets": {},
     "nuid": "8754c7c4-bc7e-4168-b91f-53685ff9bb29",
     "showTitle": false,
     "tableResultSettingsMap": {},
     "title": ""
    }
   },
   "outputs": [
    {
     "output_type": "display_data",
     "data": {
      "text/html": [
       "<style scoped>\n",
       "  .table-result-container {\n",
       "    max-height: 300px;\n",
       "    overflow: auto;\n",
       "  }\n",
       "  table, th, td {\n",
       "    border: 1px solid black;\n",
       "    border-collapse: collapse;\n",
       "  }\n",
       "  th, td {\n",
       "    padding: 5px;\n",
       "  }\n",
       "  th {\n",
       "    text-align: left;\n",
       "  }\n",
       "</style><div class='table-result-container'><table class='table-result'><thead style='background-color: white'><tr><th>memid</th><th>telephone</th></tr></thead><tbody><tr><td>0</td><td>(000) 000-0000</td></tr><tr><td>3</td><td>(844) 693-0723</td></tr><tr><td>4</td><td>(833) 942-4710</td></tr><tr><td>5</td><td>(844) 078-4130</td></tr><tr><td>6</td><td>(822) 354-9973</td></tr><tr><td>7</td><td>(833) 776-4001</td></tr><tr><td>8</td><td>(811) 433-2547</td></tr><tr><td>9</td><td>(833) 160-3900</td></tr><tr><td>10</td><td>(855) 542-5251</td></tr><tr><td>11</td><td>(844) 536-8036</td></tr><tr><td>13</td><td>(855) 016-0163</td></tr><tr><td>14</td><td>(822) 163-3254</td></tr><tr><td>15</td><td>(833) 499-3527</td></tr><tr><td>20</td><td>(811) 972-1377</td></tr><tr><td>21</td><td>(822) 661-2898</td></tr><tr><td>22</td><td>(822) 499-2232</td></tr><tr><td>24</td><td>(822) 413-1470</td></tr><tr><td>27</td><td>(822) 989-8876</td></tr><tr><td>28</td><td>(855) 755-9876</td></tr><tr><td>29</td><td>(855) 894-3758</td></tr><tr><td>30</td><td>(855) 941-9786</td></tr><tr><td>33</td><td>(822) 665-5327</td></tr><tr><td>35</td><td>(899) 720-6978</td></tr><tr><td>36</td><td>(811) 732-4816</td></tr><tr><td>37</td><td>(822) 577-3541</td></tr></tbody></table></div>"
      ]
     },
     "metadata": {
      "application/vnd.databricks.v1+output": {
       "addedWidgets": {},
       "aggData": [],
       "aggError": "",
       "aggOverflow": false,
       "aggSchema": [],
       "aggSeriesLimitReached": false,
       "aggType": "",
       "arguments": {},
       "columnCustomDisplayInfos": {},
       "data": [
        [
         0,
         "(000) 000-0000"
        ],
        [
         3,
         "(844) 693-0723"
        ],
        [
         4,
         "(833) 942-4710"
        ],
        [
         5,
         "(844) 078-4130"
        ],
        [
         6,
         "(822) 354-9973"
        ],
        [
         7,
         "(833) 776-4001"
        ],
        [
         8,
         "(811) 433-2547"
        ],
        [
         9,
         "(833) 160-3900"
        ],
        [
         10,
         "(855) 542-5251"
        ],
        [
         11,
         "(844) 536-8036"
        ],
        [
         13,
         "(855) 016-0163"
        ],
        [
         14,
         "(822) 163-3254"
        ],
        [
         15,
         "(833) 499-3527"
        ],
        [
         20,
         "(811) 972-1377"
        ],
        [
         21,
         "(822) 661-2898"
        ],
        [
         22,
         "(822) 499-2232"
        ],
        [
         24,
         "(822) 413-1470"
        ],
        [
         27,
         "(822) 989-8876"
        ],
        [
         28,
         "(855) 755-9876"
        ],
        [
         29,
         "(855) 894-3758"
        ],
        [
         30,
         "(855) 941-9786"
        ],
        [
         33,
         "(822) 665-5327"
        ],
        [
         35,
         "(899) 720-6978"
        ],
        [
         36,
         "(811) 732-4816"
        ],
        [
         37,
         "(822) 577-3541"
        ]
       ],
       "datasetInfos": [],
       "dbfsResultPath": null,
       "isJsonSchema": true,
       "metadata": {},
       "overflow": false,
       "plotOptions": {
        "customPlotOptions": {},
        "displayType": "table",
        "pivotAggregation": null,
        "pivotColumns": null,
        "xColumns": null,
        "yColumns": null
       },
       "removedWidgets": [],
       "schema": [
        {
         "metadata": "{}",
         "name": "memid",
         "type": "\"integer\""
        },
        {
         "metadata": "{}",
         "name": "telephone",
         "type": "\"string\""
        }
       ],
       "type": "table"
      }
     },
     "output_type": "display_data"
    }
   ],
   "source": [
    "%sql\n",
    "SELECT memid, telephone \n",
    "FROM members \n",
    "WHERE telephone RLIKE '\\\\(.*\\\\)';"
   ]
  },
  {
   "cell_type": "code",
   "execution_count": 0,
   "metadata": {
    "application/vnd.databricks.v1+cell": {
     "cellMetadata": {
      "byteLimit": 2048000,
      "implicitDf": true,
      "rowLimit": 10000
     },
     "inputWidgets": {},
     "nuid": "450fa9fa-3bd5-4da3-a1c6-fb1e87db697e",
     "showTitle": false,
     "tableResultSettingsMap": {},
     "title": ""
    }
   },
   "outputs": [
    {
     "output_type": "display_data",
     "data": {
      "text/html": [
       "<style scoped>\n",
       "  .table-result-container {\n",
       "    max-height: 300px;\n",
       "    overflow: auto;\n",
       "  }\n",
       "  table, th, td {\n",
       "    border: 1px solid black;\n",
       "    border-collapse: collapse;\n",
       "  }\n",
       "  th, td {\n",
       "    padding: 5px;\n",
       "  }\n",
       "  th {\n",
       "    text-align: left;\n",
       "  }\n",
       "</style><div class='table-result-container'><table class='table-result'><thead style='background-color: white'><tr><th>letter</th><th>count</th></tr></thead><tbody><tr><td>B</td><td>5</td></tr><tr><td>C</td><td>2</td></tr><tr><td>D</td><td>1</td></tr><tr><td>F</td><td>2</td></tr><tr><td>G</td><td>2</td></tr><tr><td>H</td><td>1</td></tr><tr><td>J</td><td>3</td></tr><tr><td>M</td><td>1</td></tr><tr><td>O</td><td>1</td></tr><tr><td>P</td><td>2</td></tr><tr><td>R</td><td>2</td></tr><tr><td>S</td><td>6</td></tr><tr><td>T</td><td>2</td></tr><tr><td>W</td><td>1</td></tr></tbody></table></div>"
      ]
     },
     "metadata": {
      "application/vnd.databricks.v1+output": {
       "addedWidgets": {},
       "aggData": [],
       "aggError": "",
       "aggOverflow": false,
       "aggSchema": [],
       "aggSeriesLimitReached": false,
       "aggType": "",
       "arguments": {},
       "columnCustomDisplayInfos": {},
       "data": [
        [
         "B",
         5
        ],
        [
         "C",
         2
        ],
        [
         "D",
         1
        ],
        [
         "F",
         2
        ],
        [
         "G",
         2
        ],
        [
         "H",
         1
        ],
        [
         "J",
         3
        ],
        [
         "M",
         1
        ],
        [
         "O",
         1
        ],
        [
         "P",
         2
        ],
        [
         "R",
         2
        ],
        [
         "S",
         6
        ],
        [
         "T",
         2
        ],
        [
         "W",
         1
        ]
       ],
       "datasetInfos": [],
       "dbfsResultPath": null,
       "isJsonSchema": true,
       "metadata": {},
       "overflow": false,
       "plotOptions": {
        "customPlotOptions": {},
        "displayType": "table",
        "pivotAggregation": null,
        "pivotColumns": null,
        "xColumns": null,
        "yColumns": null
       },
       "removedWidgets": [],
       "schema": [
        {
         "metadata": "{}",
         "name": "letter",
         "type": "\"string\""
        },
        {
         "metadata": "{}",
         "name": "count",
         "type": "\"long\""
        }
       ],
       "type": "table"
      }
     },
     "output_type": "display_data"
    }
   ],
   "source": [
    "%sql\n",
    "SELECT substr (m.surname,1,1) as letter, count(*) as count \n",
    "FROM members m\n",
    "GROUP BY letter\n",
    "ORDER BY letter  "
   ]
  },
  {
   "cell_type": "code",
   "execution_count": 0,
   "metadata": {
    "application/vnd.databricks.v1+cell": {
     "cellMetadata": {
      "byteLimit": 2048000,
      "implicitDf": true,
      "rowLimit": 10000
     },
     "inputWidgets": {},
     "nuid": "8fc59a9e-f154-47ac-bfb5-79cc30e3c402",
     "showTitle": false,
     "tableResultSettingsMap": {},
     "title": ""
    }
   },
   "outputs": [
    {
     "output_type": "display_data",
     "data": {
      "text/html": [
       "<style scoped>\n",
       "  .table-result-container {\n",
       "    max-height: 300px;\n",
       "    overflow: auto;\n",
       "  }\n",
       "  table, th, td {\n",
       "    border: 1px solid black;\n",
       "    border-collapse: collapse;\n",
       "  }\n",
       "  th, td {\n",
       "    padding: 5px;\n",
       "  }\n",
       "  th {\n",
       "    text-align: left;\n",
       "  }\n",
       "</style><div class='table-result-container'><table class='table-result'><thead style='background-color: white'><tr><th>ts</th></tr></thead><tbody><tr><td>2012-10-01</td></tr><tr><td>2012-10-02</td></tr><tr><td>2012-10-03</td></tr><tr><td>2012-10-04</td></tr><tr><td>2012-10-05</td></tr><tr><td>2012-10-06</td></tr><tr><td>2012-10-07</td></tr><tr><td>2012-10-08</td></tr><tr><td>2012-10-09</td></tr><tr><td>2012-10-10</td></tr><tr><td>2012-10-11</td></tr><tr><td>2012-10-12</td></tr><tr><td>2012-10-13</td></tr><tr><td>2012-10-14</td></tr><tr><td>2012-10-15</td></tr><tr><td>2012-10-16</td></tr><tr><td>2012-10-17</td></tr><tr><td>2012-10-18</td></tr><tr><td>2012-10-19</td></tr><tr><td>2012-10-20</td></tr><tr><td>2012-10-21</td></tr><tr><td>2012-10-22</td></tr><tr><td>2012-10-23</td></tr><tr><td>2012-10-24</td></tr><tr><td>2012-10-25</td></tr><tr><td>2012-10-26</td></tr><tr><td>2012-10-27</td></tr><tr><td>2012-10-28</td></tr><tr><td>2012-10-29</td></tr><tr><td>2012-10-30</td></tr><tr><td>2012-10-31</td></tr></tbody></table></div>"
      ]
     },
     "metadata": {
      "application/vnd.databricks.v1+output": {
       "addedWidgets": {},
       "aggData": [],
       "aggError": "",
       "aggOverflow": false,
       "aggSchema": [],
       "aggSeriesLimitReached": false,
       "aggType": "",
       "arguments": {},
       "columnCustomDisplayInfos": {},
       "data": [
        [
         "2012-10-01"
        ],
        [
         "2012-10-02"
        ],
        [
         "2012-10-03"
        ],
        [
         "2012-10-04"
        ],
        [
         "2012-10-05"
        ],
        [
         "2012-10-06"
        ],
        [
         "2012-10-07"
        ],
        [
         "2012-10-08"
        ],
        [
         "2012-10-09"
        ],
        [
         "2012-10-10"
        ],
        [
         "2012-10-11"
        ],
        [
         "2012-10-12"
        ],
        [
         "2012-10-13"
        ],
        [
         "2012-10-14"
        ],
        [
         "2012-10-15"
        ],
        [
         "2012-10-16"
        ],
        [
         "2012-10-17"
        ],
        [
         "2012-10-18"
        ],
        [
         "2012-10-19"
        ],
        [
         "2012-10-20"
        ],
        [
         "2012-10-21"
        ],
        [
         "2012-10-22"
        ],
        [
         "2012-10-23"
        ],
        [
         "2012-10-24"
        ],
        [
         "2012-10-25"
        ],
        [
         "2012-10-26"
        ],
        [
         "2012-10-27"
        ],
        [
         "2012-10-28"
        ],
        [
         "2012-10-29"
        ],
        [
         "2012-10-30"
        ],
        [
         "2012-10-31"
        ]
       ],
       "datasetInfos": [],
       "dbfsResultPath": null,
       "isJsonSchema": true,
       "metadata": {},
       "overflow": false,
       "plotOptions": {
        "customPlotOptions": {},
        "displayType": "table",
        "pivotAggregation": null,
        "pivotColumns": null,
        "xColumns": null,
        "yColumns": null
       },
       "removedWidgets": [],
       "schema": [
        {
         "metadata": "{}",
         "name": "ts",
         "type": "\"date\""
        }
       ],
       "type": "table"
      }
     },
     "output_type": "display_data"
    }
   ],
   "source": [
    "%sql\n",
    "WITH date_series AS (\n",
    "  SELECT EXPLODE(SEQUENCE(0, 30)) AS day_offset\n",
    ")\n",
    "SELECT date_add('2012-10-01 00:00:00', day_offset) AS ts\n",
    "FROM date_series;\n",
    "\n"
   ]
  },
  {
   "cell_type": "code",
   "execution_count": 0,
   "metadata": {
    "application/vnd.databricks.v1+cell": {
     "cellMetadata": {
      "byteLimit": 2048000,
      "implicitDf": true,
      "rowLimit": 10000
     },
     "inputWidgets": {},
     "nuid": "dd1f257f-33e1-48ea-b3ae-5d45f7ff9af9",
     "showTitle": false,
     "tableResultSettingsMap": {},
     "title": ""
    }
   },
   "outputs": [
    {
     "output_type": "display_data",
     "data": {
      "text/html": [
       "<style scoped>\n",
       "  .table-result-container {\n",
       "    max-height: 300px;\n",
       "    overflow: auto;\n",
       "  }\n",
       "  table, th, td {\n",
       "    border: 1px solid black;\n",
       "    border-collapse: collapse;\n",
       "  }\n",
       "  th, td {\n",
       "    padding: 5px;\n",
       "  }\n",
       "  th {\n",
       "    text-align: left;\n",
       "  }\n",
       "</style><div class='table-result-container'><table class='table-result'><thead style='background-color: white'><tr><th>month</th><th>count(1)</th></tr></thead><tbody><tr><td>2012-07-01T00:00:00.000+0000</td><td>658</td></tr><tr><td>2012-08-01T00:00:00.000+0000</td><td>1472</td></tr><tr><td>2012-09-01T00:00:00.000+0000</td><td>1913</td></tr><tr><td>2013-01-01T00:00:00.000+0000</td><td>1</td></tr></tbody></table></div>"
      ]
     },
     "metadata": {
      "application/vnd.databricks.v1+output": {
       "addedWidgets": {},
       "aggData": [],
       "aggError": "",
       "aggOverflow": false,
       "aggSchema": [],
       "aggSeriesLimitReached": false,
       "aggType": "",
       "arguments": {},
       "columnCustomDisplayInfos": {},
       "data": [
        [
         "2012-07-01T00:00:00.000+0000",
         658
        ],
        [
         "2012-08-01T00:00:00.000+0000",
         1472
        ],
        [
         "2012-09-01T00:00:00.000+0000",
         1913
        ],
        [
         "2013-01-01T00:00:00.000+0000",
         1
        ]
       ],
       "datasetInfos": [],
       "dbfsResultPath": null,
       "isJsonSchema": true,
       "metadata": {},
       "overflow": false,
       "plotOptions": {
        "customPlotOptions": {},
        "displayType": "table",
        "pivotAggregation": null,
        "pivotColumns": null,
        "xColumns": null,
        "yColumns": null
       },
       "removedWidgets": [],
       "schema": [
        {
         "metadata": "{}",
         "name": "month",
         "type": "\"timestamp\""
        },
        {
         "metadata": "{\"__autoGeneratedAlias\":\"true\"}",
         "name": "count(1)",
         "type": "\"long\""
        }
       ],
       "type": "table"
      }
     },
     "output_type": "display_data"
    }
   ],
   "source": [
    "%sql\n",
    "SELECT date_trunc('month', starttime) as month, count(*)\n",
    "FROM bookings\n",
    "GROUP BY month\n",
    "ORDER BY month"
   ]
  }
 ],
 "metadata": {
  "application/vnd.databricks.v1+notebook": {
   "computePreferences": null,
   "dashboards": [],
   "environmentMetadata": null,
   "language": "python",
   "notebookMetadata": {
    "mostRecentlyExecutedCommandWithImplicitDF": {
     "commandId": 2242907920858429,
     "dataframes": [
      "_sqldf"
     ]
    },
    "pythonIndentUnit": 4
   },
   "notebookName": "Notebook2_SparkDataFrame",
   "widgets": {}
  }
 },
 "nbformat": 4,
 "nbformat_minor": 0
}
